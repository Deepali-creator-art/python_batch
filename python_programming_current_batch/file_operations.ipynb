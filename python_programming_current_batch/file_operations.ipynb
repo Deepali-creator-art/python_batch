{
 "cells": [
  {
   "cell_type": "code",
   "execution_count": 1,
   "id": "6bbdfda0",
   "metadata": {},
   "outputs": [
    {
     "name": "stdout",
     "output_type": "stream",
     "text": [
      "abcdef\n",
      "ghi\n",
      "jklmnop\n",
      "qrstuvwxyz\n"
     ]
    }
   ],
   "source": [
    "#open a file \n",
    "f1=open('sample.txt','r')\n",
    "#f1 is a file object\n",
    "print(f1.read())"
   ]
  },
  {
   "cell_type": "code",
   "execution_count": 2,
   "id": "1e1e09c0",
   "metadata": {},
   "outputs": [
    {
     "name": "stdout",
     "output_type": "stream",
     "text": [
      "abcdef\n",
      "\n",
      "ghi\n",
      "\n",
      "jklmnop\n",
      "\n",
      "qrstuvwxyz\n"
     ]
    }
   ],
   "source": [
    "#open a file \n",
    "f1=open('sample.txt','r')\n",
    "#f1 is a file object\n",
    "print(f1.readline())\n",
    "print(f1.readline())\n",
    "print(f1.readline())\n",
    "print(f1.readline())"
   ]
  },
  {
   "cell_type": "code",
   "execution_count": 3,
   "id": "11f8dc4e",
   "metadata": {},
   "outputs": [
    {
     "name": "stdout",
     "output_type": "stream",
     "text": [
      "['abcdef\\n', 'ghi\\n', 'jklmnop\\n', 'qrstuvwxyz']\n"
     ]
    }
   ],
   "source": [
    "#open a file \n",
    "f1=open('sample.txt','r')\n",
    "#f1 is a file object\n",
    "print(f1.readlines())"
   ]
  },
  {
   "cell_type": "code",
   "execution_count": 6,
   "id": "94f585ae",
   "metadata": {},
   "outputs": [
    {
     "name": "stdout",
     "output_type": "stream",
     "text": [
      "abcde\n",
      "f\n",
      "ghi\n",
      "jklm\n",
      "nop\n",
      "qrs\n",
      "tuvwxyz\n"
     ]
    }
   ],
   "source": [
    "#open a file \n",
    "f1=open('sample.txt','r')\n",
    "#f1 is a file object\n",
    "print(f1.read(5))\n",
    "print(f1.read(10))\n",
    "print(f1.read(7))\n",
    "print(f1.read(-1)) #remaining characters of a file"
   ]
  },
  {
   "cell_type": "code",
   "execution_count": 5,
   "id": "c1c32370",
   "metadata": {},
   "outputs": [
    {
     "name": "stdout",
     "output_type": "stream",
     "text": [
      "a\n"
     ]
    }
   ],
   "source": [
    "#open a file \n",
    "f1=open('sample.txt','r')\n",
    "#f1 is a file object\n",
    "print(f1.read(1))"
   ]
  },
  {
   "cell_type": "code",
   "execution_count": 10,
   "id": "14e40493",
   "metadata": {},
   "outputs": [
    {
     "name": "stdout",
     "output_type": "stream",
     "text": [
      "abcdef\n",
      "ghi\n",
      "jklmnop\n",
      "qrstuvwxyz\n"
     ]
    }
   ],
   "source": [
    "#open a file \n",
    "f1=open('sample.txt','r')\n",
    "#f1 is a file object\n",
    "print(f1.read(-10)) #whole contents of a file"
   ]
  },
  {
   "cell_type": "code",
   "execution_count": 11,
   "id": "3939ef14",
   "metadata": {},
   "outputs": [],
   "source": [
    "#open a file  with write operation\n",
    "f1=open('sample.txt','w')\n",
    "f1.write('1234567890')\n",
    "f1.close()"
   ]
  },
  {
   "cell_type": "code",
   "execution_count": 12,
   "id": "8338f376",
   "metadata": {},
   "outputs": [],
   "source": [
    "#open a file \n",
    "f1=open('sample.txt','w')\n",
    "f1.writelines('''1234567890\n",
    "0987654321\n",
    "789821718\n",
    "743434304''')\n",
    "f1.close()"
   ]
  },
  {
   "cell_type": "code",
   "execution_count": 14,
   "id": "1ff46917",
   "metadata": {},
   "outputs": [],
   "source": [
    "#open a file  with write operation\n",
    "f1=open('sample.txt','a')\n",
    "f1.write('\\n1234567890')\n",
    "f1.close()"
   ]
  },
  {
   "cell_type": "code",
   "execution_count": 16,
   "id": "0c99b278",
   "metadata": {},
   "outputs": [
    {
     "ename": "FileExistsError",
     "evalue": "[Errno 17] File exists: 'example.txt'",
     "output_type": "error",
     "traceback": [
      "\u001b[1;31m---------------------------------------------------------------------------\u001b[0m",
      "\u001b[1;31mFileExistsError\u001b[0m                           Traceback (most recent call last)",
      "Cell \u001b[1;32mIn[16], line 2\u001b[0m\n\u001b[0;32m      1\u001b[0m \u001b[38;5;66;03m#create a new file using access mode 'x'\u001b[39;00m\n\u001b[1;32m----> 2\u001b[0m f2\u001b[38;5;241m=\u001b[39m\u001b[38;5;28mopen\u001b[39m(\u001b[38;5;124m'\u001b[39m\u001b[38;5;124mexample.txt\u001b[39m\u001b[38;5;124m'\u001b[39m,\u001b[38;5;124m'\u001b[39m\u001b[38;5;124mx\u001b[39m\u001b[38;5;124m'\u001b[39m)\n",
      "File \u001b[1;32m~\\anaconda3\\Lib\\site-packages\\IPython\\core\\interactiveshell.py:286\u001b[0m, in \u001b[0;36m_modified_open\u001b[1;34m(file, *args, **kwargs)\u001b[0m\n\u001b[0;32m    279\u001b[0m \u001b[38;5;28;01mif\u001b[39;00m file \u001b[38;5;129;01min\u001b[39;00m {\u001b[38;5;241m0\u001b[39m, \u001b[38;5;241m1\u001b[39m, \u001b[38;5;241m2\u001b[39m}:\n\u001b[0;32m    280\u001b[0m     \u001b[38;5;28;01mraise\u001b[39;00m \u001b[38;5;167;01mValueError\u001b[39;00m(\n\u001b[0;32m    281\u001b[0m         \u001b[38;5;124mf\u001b[39m\u001b[38;5;124m\"\u001b[39m\u001b[38;5;124mIPython won\u001b[39m\u001b[38;5;124m'\u001b[39m\u001b[38;5;124mt let you open fd=\u001b[39m\u001b[38;5;132;01m{\u001b[39;00mfile\u001b[38;5;132;01m}\u001b[39;00m\u001b[38;5;124m by default \u001b[39m\u001b[38;5;124m\"\u001b[39m\n\u001b[0;32m    282\u001b[0m         \u001b[38;5;124m\"\u001b[39m\u001b[38;5;124mas it is likely to crash IPython. If you know what you are doing, \u001b[39m\u001b[38;5;124m\"\u001b[39m\n\u001b[0;32m    283\u001b[0m         \u001b[38;5;124m\"\u001b[39m\u001b[38;5;124myou can use builtins\u001b[39m\u001b[38;5;124m'\u001b[39m\u001b[38;5;124m open.\u001b[39m\u001b[38;5;124m\"\u001b[39m\n\u001b[0;32m    284\u001b[0m     )\n\u001b[1;32m--> 286\u001b[0m \u001b[38;5;28;01mreturn\u001b[39;00m io_open(file, \u001b[38;5;241m*\u001b[39margs, \u001b[38;5;241m*\u001b[39m\u001b[38;5;241m*\u001b[39mkwargs)\n",
      "\u001b[1;31mFileExistsError\u001b[0m: [Errno 17] File exists: 'example.txt'"
     ]
    }
   ],
   "source": [
    "#create a new file using access mode 'x'\n",
    "f2=open('example.txt','x')\n"
   ]
  },
  {
   "cell_type": "code",
   "execution_count": 18,
   "id": "101f1420",
   "metadata": {},
   "outputs": [],
   "source": [
    "numbers=[10,20,30,40,50]\n",
    "import pickle\n",
    "f3=open('example.txt','wb')\n",
    "pickle.dump(numbers,f3) #convert original into binary form\n",
    "f3.close()"
   ]
  },
  {
   "cell_type": "code",
   "execution_count": 19,
   "id": "38c0119e",
   "metadata": {},
   "outputs": [
    {
     "data": {
      "text/plain": [
       "b'\\x80\\x04\\x95\\x0f\\x00\\x00\\x00\\x00\\x00\\x00\\x00]\\x94(K\\nK\\x14K\\x1eK(K2e.'"
      ]
     },
     "execution_count": 19,
     "metadata": {},
     "output_type": "execute_result"
    }
   ],
   "source": [
    "numbers=[10,20,30,40,50]\n",
    "import pickle\n",
    "f3=open('example.txt','rb')\n",
    "f3.read()"
   ]
  },
  {
   "cell_type": "code",
   "execution_count": 20,
   "id": "23216d86",
   "metadata": {},
   "outputs": [
    {
     "data": {
      "text/plain": [
       "[10, 20, 30, 40, 50]"
      ]
     },
     "execution_count": 20,
     "metadata": {},
     "output_type": "execute_result"
    }
   ],
   "source": [
    "numbers=[10,20,30,40,50]\n",
    "import pickle\n",
    "f3=open('example.txt','rb')\n",
    "pickle.load(f3)#convert binary form into original data\n"
   ]
  },
  {
   "cell_type": "code",
   "execution_count": 26,
   "id": "8f9d8f0d",
   "metadata": {},
   "outputs": [],
   "source": [
    "data={'rutuja':523239811,\n",
    "     'Sahil':612381719}\n",
    "import joblib\n",
    "f1=open('file1.txt','wb')\n",
    "joblib.dump(data,f1)\n",
    "f1.close()"
   ]
  },
  {
   "cell_type": "code",
   "execution_count": 27,
   "id": "5d2b0d10",
   "metadata": {},
   "outputs": [
    {
     "data": {
      "text/plain": [
       "b'\\x80\\x04\\x95 \\x00\\x00\\x00\\x00\\x00\\x00\\x00}\\x94(\\x8c\\x06rutuja\\x94J\\x83\\x010\\x1f\\x8c\\x05Sahil\\x94J\\x174\\x80$u.'"
      ]
     },
     "execution_count": 27,
     "metadata": {},
     "output_type": "execute_result"
    }
   ],
   "source": [
    "data={'rutuja':523239811,\n",
    "     'Sahil':612381719}\n",
    "import joblib\n",
    "f1=open('file1.txt','rb')\n",
    "f1.read()"
   ]
  },
  {
   "cell_type": "code",
   "execution_count": 28,
   "id": "2d337dac",
   "metadata": {},
   "outputs": [
    {
     "data": {
      "text/plain": [
       "{'rutuja': 523239811, 'Sahil': 612381719}"
      ]
     },
     "execution_count": 28,
     "metadata": {},
     "output_type": "execute_result"
    }
   ],
   "source": [
    "data={'rutuja':523239811,\n",
    "     'Sahil':612381719}\n",
    "import joblib\n",
    "f1=open('file1.txt','rb')\n",
    "joblib.load(f1)"
   ]
  },
  {
   "cell_type": "code",
   "execution_count": 31,
   "id": "f0c589d8",
   "metadata": {},
   "outputs": [],
   "source": [
    "num=(11,22,33,44,55)\n",
    "import pickle\n",
    "f1=open('new_file.pk','wb')\n",
    "pickle.dump(num,f1)\n",
    "f1.close()"
   ]
  },
  {
   "cell_type": "code",
   "execution_count": 32,
   "id": "51f58e22",
   "metadata": {},
   "outputs": [
    {
     "data": {
      "text/plain": [
       "b'\\x80\\x04\\x95\\x0e\\x00\\x00\\x00\\x00\\x00\\x00\\x00(K\\x0bK\\x16K!K,K7t\\x94.'"
      ]
     },
     "execution_count": 32,
     "metadata": {},
     "output_type": "execute_result"
    }
   ],
   "source": [
    "num=(11,22,33,44,55)\n",
    "f1=open('new_file.pk','rb')\n",
    "f1.read()"
   ]
  },
  {
   "cell_type": "code",
   "execution_count": 33,
   "id": "9d3ad0f1",
   "metadata": {},
   "outputs": [
    {
     "data": {
      "text/plain": [
       "(11, 22, 33, 44, 55)"
      ]
     },
     "execution_count": 33,
     "metadata": {},
     "output_type": "execute_result"
    }
   ],
   "source": [
    "num=(11,22,33,44,55)\n",
    "import pickle\n",
    "f1=open('new_file.pk','rb')\n",
    "pickle.load(f1)\n"
   ]
  },
  {
   "cell_type": "code",
   "execution_count": null,
   "id": "21778f8a",
   "metadata": {},
   "outputs": [],
   "source": [
    "#what is pickling and unpickling?\n",
    "#What are libaries are available for pickling and unpickling process?\n",
    "# dump() and load()\n",
    "#How to handle a file in python?"
   ]
  }
 ],
 "metadata": {
  "kernelspec": {
   "display_name": "Python 3 (ipykernel)",
   "language": "python",
   "name": "python3"
  },
  "language_info": {
   "codemirror_mode": {
    "name": "ipython",
    "version": 3
   },
   "file_extension": ".py",
   "mimetype": "text/x-python",
   "name": "python",
   "nbconvert_exporter": "python",
   "pygments_lexer": "ipython3",
   "version": "3.11.5"
  }
 },
 "nbformat": 4,
 "nbformat_minor": 5
}
