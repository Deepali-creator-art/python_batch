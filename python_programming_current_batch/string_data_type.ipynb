{
 "cells": [
  {
   "cell_type": "code",
   "execution_count": 1,
   "id": "33632984",
   "metadata": {},
   "outputs": [
    {
     "name": "stdout",
     "output_type": "stream",
     "text": [
      "<class 'str'>\n"
     ]
    }
   ],
   "source": [
    "festival=\"Happy Diwali 2024\"\n",
    "print(type(festival))"
   ]
  },
  {
   "cell_type": "code",
   "execution_count": 2,
   "id": "0d78e4ff",
   "metadata": {},
   "outputs": [
    {
     "data": {
      "text/plain": [
       "'Happy Diwali 2024'"
      ]
     },
     "execution_count": 2,
     "metadata": {},
     "output_type": "execute_result"
    }
   ],
   "source": [
    "festival"
   ]
  },
  {
   "cell_type": "code",
   "execution_count": 3,
   "id": "b2526064",
   "metadata": {},
   "outputs": [
    {
     "data": {
      "text/plain": [
       "'HAPPY DIWALI 2024'"
      ]
     },
     "execution_count": 3,
     "metadata": {},
     "output_type": "execute_result"
    }
   ],
   "source": [
    "#String formatting operations\n",
    "festival.upper() #callable function"
   ]
  },
  {
   "cell_type": "code",
   "execution_count": 4,
   "id": "e10b0517",
   "metadata": {},
   "outputs": [
    {
     "data": {
      "text/plain": [
       "'Happy Diwali 2024'"
      ]
     },
     "execution_count": 4,
     "metadata": {},
     "output_type": "execute_result"
    }
   ],
   "source": [
    "festival"
   ]
  },
  {
   "cell_type": "code",
   "execution_count": 5,
   "id": "d72e3073",
   "metadata": {},
   "outputs": [
    {
     "data": {
      "text/plain": [
       "'happy diwali 2024'"
      ]
     },
     "execution_count": 5,
     "metadata": {},
     "output_type": "execute_result"
    }
   ],
   "source": [
    "festival.lower()"
   ]
  },
  {
   "cell_type": "code",
   "execution_count": 6,
   "id": "798a3b79",
   "metadata": {},
   "outputs": [
    {
     "data": {
      "text/plain": [
       "'Happy diwali 2024'"
      ]
     },
     "execution_count": 6,
     "metadata": {},
     "output_type": "execute_result"
    }
   ],
   "source": [
    "festival.capitalize()"
   ]
  },
  {
   "cell_type": "code",
   "execution_count": 7,
   "id": "a401e6cb",
   "metadata": {},
   "outputs": [
    {
     "data": {
      "text/plain": [
       "'Happy Diwali 2024'"
      ]
     },
     "execution_count": 7,
     "metadata": {},
     "output_type": "execute_result"
    }
   ],
   "source": [
    "festival.title()"
   ]
  },
  {
   "cell_type": "code",
   "execution_count": 9,
   "id": "f9bdd62d",
   "metadata": {},
   "outputs": [
    {
     "name": "stdout",
     "output_type": "stream",
     "text": [
      "pranay tayade\n",
      "Pranay tayade\n",
      "Pranay Tayade\n"
     ]
    }
   ],
   "source": [
    "name='pranay tayade'\n",
    "c=name.capitalize()\n",
    "d=name.title()\n",
    "print(name)\n",
    "print(c)\n",
    "print(d)"
   ]
  },
  {
   "cell_type": "code",
   "execution_count": 10,
   "id": "c7250517",
   "metadata": {},
   "outputs": [
    {
     "data": {
      "text/plain": [
       "'hAPPY dIWALI 2024'"
      ]
     },
     "execution_count": 10,
     "metadata": {},
     "output_type": "execute_result"
    }
   ],
   "source": [
    "festival.swapcase()"
   ]
  },
  {
   "cell_type": "code",
   "execution_count": 11,
   "id": "e1fba438",
   "metadata": {},
   "outputs": [
    {
     "data": {
      "text/plain": [
       "'happy diwali 2024'"
      ]
     },
     "execution_count": 11,
     "metadata": {},
     "output_type": "execute_result"
    }
   ],
   "source": [
    "festival.casefold() #casefold() is similar to lower()"
   ]
  },
  {
   "cell_type": "code",
   "execution_count": 13,
   "id": "9e6e93f1",
   "metadata": {},
   "outputs": [
    {
     "data": {
      "text/plain": [
       "True"
      ]
     },
     "execution_count": 13,
     "metadata": {},
     "output_type": "execute_result"
    }
   ],
   "source": [
    "#To check string formatting function return result is True or False.\n",
    "festival='Happy Diwali 2024'\n",
    "festival.startswith('H')"
   ]
  },
  {
   "cell_type": "code",
   "execution_count": 14,
   "id": "78ee6fb7",
   "metadata": {},
   "outputs": [
    {
     "data": {
      "text/plain": [
       "True"
      ]
     },
     "execution_count": 14,
     "metadata": {},
     "output_type": "execute_result"
    }
   ],
   "source": [
    "festival.endswith('4')"
   ]
  },
  {
   "cell_type": "code",
   "execution_count": 15,
   "id": "92b45e5a",
   "metadata": {},
   "outputs": [
    {
     "name": "stdout",
     "output_type": "stream",
     "text": [
      "Virat Kohli not out matches number is 4\n"
     ]
    }
   ],
   "source": [
    "player_name='Virat Kohli'\n",
    "runs=['34','50*','67','89*','45*','23','78*']\n",
    "count=0\n",
    "for run in runs:\n",
    "    if run.endswith('*'):\n",
    "        count+=1 #count=count+1\n",
    "\n",
    "print(f\"{player_name} not out matches number is {count}\")        \n"
   ]
  },
  {
   "cell_type": "code",
   "execution_count": 16,
   "id": "7fe6c096",
   "metadata": {},
   "outputs": [
    {
     "data": {
      "text/plain": [
       "False"
      ]
     },
     "execution_count": 16,
     "metadata": {},
     "output_type": "execute_result"
    }
   ],
   "source": [
    "festival='Happy Diwali 2024'\n",
    "festival.isupper()"
   ]
  },
  {
   "cell_type": "code",
   "execution_count": 17,
   "id": "4a4a8a7c",
   "metadata": {},
   "outputs": [
    {
     "data": {
      "text/plain": [
       "False"
      ]
     },
     "execution_count": 17,
     "metadata": {},
     "output_type": "execute_result"
    }
   ],
   "source": [
    "festival.islower()"
   ]
  },
  {
   "cell_type": "code",
   "execution_count": 20,
   "id": "5ef45a5a",
   "metadata": {},
   "outputs": [
    {
     "data": {
      "text/plain": [
       "True"
      ]
     },
     "execution_count": 20,
     "metadata": {},
     "output_type": "execute_result"
    }
   ],
   "source": [
    "s1='Happy'\n",
    "s1.isalpha()"
   ]
  },
  {
   "cell_type": "code",
   "execution_count": 21,
   "id": "8484f8dd",
   "metadata": {},
   "outputs": [
    {
     "data": {
      "text/plain": [
       "True"
      ]
     },
     "execution_count": 21,
     "metadata": {},
     "output_type": "execute_result"
    }
   ],
   "source": [
    "s2='Happy2024'\n",
    "s2.isalnum()"
   ]
  },
  {
   "cell_type": "code",
   "execution_count": 22,
   "id": "6555248f",
   "metadata": {},
   "outputs": [
    {
     "data": {
      "text/plain": [
       "True"
      ]
     },
     "execution_count": 22,
     "metadata": {},
     "output_type": "execute_result"
    }
   ],
   "source": [
    "s3='2024'\n",
    "s3.isdigit()"
   ]
  },
  {
   "cell_type": "code",
   "execution_count": 23,
   "id": "5497587d",
   "metadata": {},
   "outputs": [
    {
     "data": {
      "text/plain": [
       "True"
      ]
     },
     "execution_count": 23,
     "metadata": {},
     "output_type": "execute_result"
    }
   ],
   "source": [
    "s4=' '\n",
    "s4.isspace()"
   ]
  },
  {
   "cell_type": "code",
   "execution_count": 25,
   "id": "ce6e8b6b",
   "metadata": {},
   "outputs": [
    {
     "name": "stdout",
     "output_type": "stream",
     "text": [
      "Sum of digits 19\n"
     ]
    }
   ],
   "source": [
    "#To find the addition of digits from a given string\n",
    "birthdate='28/10/2024'\n",
    "#2+8+1+0+2+0+2+4=>19\n",
    "total=0\n",
    "for number in birthdate:\n",
    "    if(number.isdigit()):\n",
    "        total+=int(number)   #total=total+number\n",
    "print(\"Sum of digits\",total)\n"
   ]
  },
  {
   "cell_type": "code",
   "execution_count": 33,
   "id": "9f73c557",
   "metadata": {},
   "outputs": [
    {
     "name": "stdout",
     "output_type": "stream",
     "text": [
      "First time total is 19\n",
      "Updated total 10\n",
      "Updated total 1\n",
      "Lucky number 1\n"
     ]
    }
   ],
   "source": [
    "#To find the lucky number of our birthdate.\n",
    "birthdate='28/10/2024'\n",
    "total=0\n",
    "for number in birthdate:\n",
    "    if(number.isdigit()):\n",
    "        total+=int(number)   #total=total+number\n",
    "print(\"First time total is\",total)\n",
    "while total>9:\n",
    "    total=sum(int(i) for i in str(total)) #'10'\n",
    "    print(\"Updated total\",total)\n",
    "else:\n",
    "    print(\"Lucky number\",total)\n",
    "    "
   ]
  },
  {
   "cell_type": "code",
   "execution_count": 35,
   "id": "83b086d4",
   "metadata": {},
   "outputs": [
    {
     "data": {
      "text/plain": [
       "True"
      ]
     },
     "execution_count": 35,
     "metadata": {},
     "output_type": "execute_result"
    }
   ],
   "source": [
    "festival='******Happy Diwali 2024******'\n",
    "festival.isprintable() #it allows any kind of characters."
   ]
  },
  {
   "cell_type": "code",
   "execution_count": 36,
   "id": "4510fdda",
   "metadata": {},
   "outputs": [
    {
     "data": {
      "text/plain": [
       "7"
      ]
     },
     "execution_count": 36,
     "metadata": {},
     "output_type": "execute_result"
    }
   ],
   "source": [
    "#Working with index number of character\n",
    "festival='*Happy Diwali 2024*'\n",
    "festival.find('D')"
   ]
  },
  {
   "cell_type": "code",
   "execution_count": 37,
   "id": "8f2dd392",
   "metadata": {},
   "outputs": [
    {
     "data": {
      "text/plain": [
       "14"
      ]
     },
     "execution_count": 37,
     "metadata": {},
     "output_type": "execute_result"
    }
   ],
   "source": [
    "festival.find('2024')"
   ]
  },
  {
   "cell_type": "code",
   "execution_count": 39,
   "id": "cc0b6615",
   "metadata": {},
   "outputs": [
    {
     "data": {
      "text/plain": [
       "3"
      ]
     },
     "execution_count": 39,
     "metadata": {},
     "output_type": "execute_result"
    }
   ],
   "source": [
    "festival.find('p',1,10)"
   ]
  },
  {
   "cell_type": "code",
   "execution_count": 40,
   "id": "7da7d751",
   "metadata": {},
   "outputs": [
    {
     "data": {
      "text/plain": [
       "12"
      ]
     },
     "execution_count": 40,
     "metadata": {},
     "output_type": "execute_result"
    }
   ],
   "source": [
    "festival.find('i',12,16)"
   ]
  },
  {
   "cell_type": "code",
   "execution_count": 41,
   "id": "b54a48c6",
   "metadata": {},
   "outputs": [
    {
     "data": {
      "text/plain": [
       "-1"
      ]
     },
     "execution_count": 41,
     "metadata": {},
     "output_type": "execute_result"
    }
   ],
   "source": [
    "festival.find('!')"
   ]
  },
  {
   "cell_type": "code",
   "execution_count": 42,
   "id": "b733934c",
   "metadata": {},
   "outputs": [
    {
     "data": {
      "text/plain": [
       "2"
      ]
     },
     "execution_count": 42,
     "metadata": {},
     "output_type": "execute_result"
    }
   ],
   "source": [
    "festival.count('*')"
   ]
  },
  {
   "cell_type": "code",
   "execution_count": 45,
   "id": "6e1554e4",
   "metadata": {},
   "outputs": [
    {
     "data": {
      "text/plain": [
       "1"
      ]
     },
     "execution_count": 45,
     "metadata": {},
     "output_type": "execute_result"
    }
   ],
   "source": [
    "festival.count('2',9,16)"
   ]
  },
  {
   "cell_type": "code",
   "execution_count": 46,
   "id": "65bbb71d",
   "metadata": {},
   "outputs": [
    {
     "data": {
      "text/plain": [
       "14"
      ]
     },
     "execution_count": 46,
     "metadata": {},
     "output_type": "execute_result"
    }
   ],
   "source": [
    "festival.index('2')"
   ]
  },
  {
   "cell_type": "code",
   "execution_count": 47,
   "id": "c727ab59",
   "metadata": {},
   "outputs": [
    {
     "data": {
      "text/plain": [
       "8"
      ]
     },
     "execution_count": 47,
     "metadata": {},
     "output_type": "execute_result"
    }
   ],
   "source": [
    "festival.index('i')"
   ]
  },
  {
   "cell_type": "code",
   "execution_count": 50,
   "id": "a203ecc8",
   "metadata": {},
   "outputs": [
    {
     "name": "stdout",
     "output_type": "stream",
     "text": [
      "Counter({'*': 2, 'a': 2, 'p': 2, ' ': 2, 'i': 2, '2': 2, 'H': 1, 'y': 1, 'D': 1, 'w': 1, 'l': 1, '0': 1, '4': 1})\n"
     ]
    }
   ],
   "source": [
    "from collections import Counter\n",
    "print(Counter(festival))"
   ]
  },
  {
   "cell_type": "code",
   "execution_count": null,
   "id": "31d8f694",
   "metadata": {},
   "outputs": [],
   "source": [
    "#To find the count of characters from your name.\n",
    "name='Prathamesh'"
   ]
  },
  {
   "cell_type": "code",
   "execution_count": 1,
   "id": "02b2879a",
   "metadata": {},
   "outputs": [
    {
     "data": {
      "text/plain": [
       "'     Good Morning     '"
      ]
     },
     "execution_count": 1,
     "metadata": {},
     "output_type": "execute_result"
    }
   ],
   "source": [
    "sample='     Good Morning     '\n",
    "sample"
   ]
  },
  {
   "cell_type": "code",
   "execution_count": 2,
   "id": "d4a7b20c",
   "metadata": {},
   "outputs": [
    {
     "data": {
      "text/plain": [
       "'Good Morning'"
      ]
     },
     "execution_count": 2,
     "metadata": {},
     "output_type": "execute_result"
    }
   ],
   "source": [
    "#To remove unwanted whitespace from left and right hand.\n",
    "sample.strip()"
   ]
  },
  {
   "cell_type": "code",
   "execution_count": 5,
   "id": "0176f34e",
   "metadata": {},
   "outputs": [
    {
     "data": {
      "text/plain": [
       "'Deepavali'"
      ]
     },
     "execution_count": 5,
     "metadata": {},
     "output_type": "execute_result"
    }
   ],
   "source": [
    "#To remove also unwanted characters from a given string.(data cleaning)\n",
    "#\\n\\r\\t.\n",
    "example='\\r\\t\\nDeepavali\\n\\r\\t'\n",
    "example.strip('\\r\\t\\n')"
   ]
  },
  {
   "cell_type": "code",
   "execution_count": 6,
   "id": "508fe7fa",
   "metadata": {},
   "outputs": [
    {
     "data": {
      "text/plain": [
       "'Bhagya'"
      ]
     },
     "execution_count": 6,
     "metadata": {},
     "output_type": "execute_result"
    }
   ],
   "source": [
    "test='Bhagyashri'\n",
    "test.strip('shri')"
   ]
  },
  {
   "cell_type": "code",
   "execution_count": 7,
   "id": "1e68f1f3",
   "metadata": {},
   "outputs": [
    {
     "data": {
      "text/plain": [
       "'shri'"
      ]
     },
     "execution_count": 7,
     "metadata": {},
     "output_type": "execute_result"
    }
   ],
   "source": [
    "test.strip('Bhagya')"
   ]
  },
  {
   "cell_type": "code",
   "execution_count": 10,
   "id": "0ec8396b",
   "metadata": {},
   "outputs": [
    {
     "data": {
      "text/plain": [
       "'Bhagya'"
      ]
     },
     "execution_count": 10,
     "metadata": {},
     "output_type": "execute_result"
    }
   ],
   "source": [
    "test.strip('sirh')"
   ]
  },
  {
   "cell_type": "code",
   "execution_count": 14,
   "id": "cb89bb8c",
   "metadata": {},
   "outputs": [
    {
     "data": {
      "text/plain": [
       "'agyashri'"
      ]
     },
     "execution_count": 14,
     "metadata": {},
     "output_type": "execute_result"
    }
   ],
   "source": [
    "test.strip('Bhg')"
   ]
  },
  {
   "cell_type": "code",
   "execution_count": 16,
   "id": "8db5a48c",
   "metadata": {},
   "outputs": [
    {
     "data": {
      "text/plain": [
       "'Bhagyashri'"
      ]
     },
     "execution_count": 16,
     "metadata": {},
     "output_type": "execute_result"
    }
   ],
   "source": [
    "test.rstrip('Bhagya')"
   ]
  },
  {
   "cell_type": "code",
   "execution_count": 17,
   "id": "43b6a3a2",
   "metadata": {},
   "outputs": [
    {
     "data": {
      "text/plain": [
       "['Dhantrayodashi']"
      ]
     },
     "execution_count": 17,
     "metadata": {},
     "output_type": "execute_result"
    }
   ],
   "source": [
    "#split() is a type casting function.\n",
    "#convert string into list element.\n",
    "day1='Dhantrayodashi'\n",
    "day1.split()"
   ]
  },
  {
   "cell_type": "code",
   "execution_count": 18,
   "id": "bd2051ed",
   "metadata": {},
   "outputs": [
    {
     "data": {
      "text/plain": [
       "['Dhantrayodashi', 'Diwali', 'Bhaubhij']"
      ]
     },
     "execution_count": 18,
     "metadata": {},
     "output_type": "execute_result"
    }
   ],
   "source": [
    "diwali_days='Dhantrayodashi Diwali Bhaubhij'\n",
    "diwali_days.split()"
   ]
  },
  {
   "cell_type": "code",
   "execution_count": 19,
   "id": "71c5f0f8",
   "metadata": {},
   "outputs": [
    {
     "data": {
      "text/plain": [
       "9"
      ]
     },
     "execution_count": 19,
     "metadata": {},
     "output_type": "execute_result"
    }
   ],
   "source": [
    "#working with length of string.\n",
    "test='Deepawali'\n",
    "len(test)"
   ]
  },
  {
   "cell_type": "code",
   "execution_count": 30,
   "id": "dcaf5fec",
   "metadata": {},
   "outputs": [
    {
     "data": {
      "text/plain": [
       "'**********Deepawali***********'"
      ]
     },
     "execution_count": 30,
     "metadata": {},
     "output_type": "execute_result"
    }
   ],
   "source": [
    "test.center(30,'*') # 30-9=21"
   ]
  },
  {
   "cell_type": "code",
   "execution_count": 32,
   "id": "e2527deb",
   "metadata": {},
   "outputs": [
    {
     "data": {
      "text/plain": [
       "'testtesttesttest'"
      ]
     },
     "execution_count": 32,
     "metadata": {},
     "output_type": "execute_result"
    }
   ],
   "source": [
    "sample='testtesttesttest'\n",
    "sample.center(14,'*') #25-16=>9"
   ]
  },
  {
   "cell_type": "code",
   "execution_count": 33,
   "id": "207e0bd1",
   "metadata": {},
   "outputs": [
    {
     "data": {
      "text/plain": [
       "'000000'"
      ]
     },
     "execution_count": 33,
     "metadata": {},
     "output_type": "execute_result"
    }
   ],
   "source": [
    "#zfill()=>zero  fill function \n",
    "otp_number='' #empty string=>length is zero\n",
    "otp_number.zfill(6)"
   ]
  },
  {
   "cell_type": "code",
   "execution_count": 39,
   "id": "69ca9f36",
   "metadata": {},
   "outputs": [
    {
     "data": {
      "text/plain": [
       "'000world'"
      ]
     },
     "execution_count": 39,
     "metadata": {},
     "output_type": "execute_result"
    }
   ],
   "source": [
    "name='world' #length is 5 words\n",
    "name.zfill(8) # 8-5=>3"
   ]
  },
  {
   "cell_type": "code",
   "execution_count": 40,
   "id": "f990df90",
   "metadata": {},
   "outputs": [
    {
     "data": {
      "text/plain": [
       "'####'"
      ]
     },
     "execution_count": 40,
     "metadata": {},
     "output_type": "execute_result"
    }
   ],
   "source": [
    "sample='testtesttesttest'\n",
    "sample.replace('test','#')"
   ]
  },
  {
   "cell_type": "code",
   "execution_count": 41,
   "id": "350595c9",
   "metadata": {},
   "outputs": [
    {
     "data": {
      "text/plain": [
       "'TesTTesTTesTTesT'"
      ]
     },
     "execution_count": 41,
     "metadata": {},
     "output_type": "execute_result"
    }
   ],
   "source": [
    "sample='testtesttesttest'\n",
    "sample.replace('t','T')"
   ]
  },
  {
   "cell_type": "code",
   "execution_count": 42,
   "id": "ae35ede6",
   "metadata": {},
   "outputs": [
    {
     "data": {
      "text/plain": [
       "'*'"
      ]
     },
     "execution_count": 42,
     "metadata": {},
     "output_type": "execute_result"
    }
   ],
   "source": [
    "#join ()  function =>combine  two strings\n",
    "s1='1234567890'\n",
    "s2='*'\n",
    "s1.join(s2)"
   ]
  },
  {
   "cell_type": "code",
   "execution_count": 43,
   "id": "5b381daf",
   "metadata": {},
   "outputs": [
    {
     "data": {
      "text/plain": [
       "'1*2*3*4*5*6*7*8*9*0'"
      ]
     },
     "execution_count": 43,
     "metadata": {},
     "output_type": "execute_result"
    }
   ],
   "source": [
    "s1='1234567890'\n",
    "s2='*'\n",
    "s2.join(s1)"
   ]
  },
  {
   "cell_type": "code",
   "execution_count": 46,
   "id": "58a71034",
   "metadata": {},
   "outputs": [
    {
     "data": {
      "text/plain": [
       "'1**2**3**4**5**6**7**8**9**0'"
      ]
     },
     "execution_count": 46,
     "metadata": {},
     "output_type": "execute_result"
    }
   ],
   "source": [
    "#join ()  function =>combine  two strings\n",
    "s1='1234567890'\n",
    "s2='**'\n",
    "s2.join(s1)"
   ]
  },
  {
   "cell_type": "code",
   "execution_count": 47,
   "id": "11045820",
   "metadata": {},
   "outputs": [
    {
     "data": {
      "text/plain": [
       "'@'"
      ]
     },
     "execution_count": 47,
     "metadata": {},
     "output_type": "execute_result"
    }
   ],
   "source": [
    "name='Sahil'\n",
    "character='@'\n",
    "name.join(character)"
   ]
  },
  {
   "cell_type": "code",
   "execution_count": 48,
   "id": "415b770d",
   "metadata": {},
   "outputs": [
    {
     "data": {
      "text/plain": [
       "'S@a@h@i@l'"
      ]
     },
     "execution_count": 48,
     "metadata": {},
     "output_type": "execute_result"
    }
   ],
   "source": [
    "name='Sahil'\n",
    "character='@'\n",
    "character.join(name)"
   ]
  },
  {
   "cell_type": "code",
   "execution_count": 49,
   "id": "356bc610",
   "metadata": {},
   "outputs": [
    {
     "data": {
      "text/plain": [
       "'a*b*c*d*e'"
      ]
     },
     "execution_count": 49,
     "metadata": {},
     "output_type": "execute_result"
    }
   ],
   "source": [
    "'*'.join('abcde')"
   ]
  },
  {
   "cell_type": "code",
   "execution_count": 50,
   "id": "d3304be6",
   "metadata": {},
   "outputs": [
    {
     "data": {
      "text/plain": [
       "'@'"
      ]
     },
     "execution_count": 50,
     "metadata": {},
     "output_type": "execute_result"
    }
   ],
   "source": [
    "'raj'.join('@')"
   ]
  },
  {
   "cell_type": "code",
   "execution_count": 52,
   "id": "45af0d02",
   "metadata": {},
   "outputs": [
    {
     "data": {
      "text/plain": [
       "'hHappy diwaliaHappy diwalipHappy diwalipHappy diwaliyHappy diwali Happy diwalidHappy diwalieHappy diwalieHappy diwalipHappy diwaliaHappy diwalivHappy diwaliaHappy diwalilHappy diwalii'"
      ]
     },
     "execution_count": 52,
     "metadata": {},
     "output_type": "execute_result"
    }
   ],
   "source": [
    "str1='Happy diwali'\n",
    "str2='happy deepavali'\n",
    "str1.join(str2)"
   ]
  },
  {
   "cell_type": "code",
   "execution_count": 53,
   "id": "2715ef8d",
   "metadata": {},
   "outputs": [
    {
     "data": {
      "text/plain": [
       "'ryashayashj'"
      ]
     },
     "execution_count": 53,
     "metadata": {},
     "output_type": "execute_result"
    }
   ],
   "source": [
    "str1='yash'\n",
    "str2='raj'\n",
    "str1.join(str2)"
   ]
  },
  {
   "cell_type": "code",
   "execution_count": 54,
   "id": "f5eacf67",
   "metadata": {},
   "outputs": [
    {
     "data": {
      "text/plain": [
       "'yrajarajsrajh'"
      ]
     },
     "execution_count": 54,
     "metadata": {},
     "output_type": "execute_result"
    }
   ],
   "source": [
    "str1='yash'\n",
    "str2='raj'\n",
    "str2.join(str1)"
   ]
  },
  {
   "cell_type": "code",
   "execution_count": 57,
   "id": "6e0ae62a",
   "metadata": {},
   "outputs": [
    {
     "data": {
      "text/plain": [
       "'chiwada like chakali like sweet'"
      ]
     },
     "execution_count": 57,
     "metadata": {},
     "output_type": "execute_result"
    }
   ],
   "source": [
    "diwali_faral=['chiwada','chakali','sweet']\n",
    "test='like'\n",
    "test.join(diwali_faral)"
   ]
  },
  {
   "cell_type": "code",
   "execution_count": 63,
   "id": "168fbde7",
   "metadata": {},
   "outputs": [
    {
     "name": "stdout",
     "output_type": "stream",
     "text": [
      "Enter the namesakshi\n",
      "6\n",
      "First character :=> s Middle character:=> s Last character:=> i\n"
     ]
    }
   ],
   "source": [
    "#To find the first,last and middle character of given string.\n",
    "user_name=input(\"Enter the name\")\n",
    "#Tirupati=>T,i,u or p\n",
    "first_character=user_name[0]\n",
    "last_character=user_name[-1]\n",
    "total_no_of_characters=len(user_name)\n",
    "print(total_no_of_characters)\n",
    "middle_index=len(user_name)//2  #ineteger\n",
    "middle_character=user_name[middle_index]\n",
    "print(\"First character :=>\",first_character,\n",
    "      \"Middle character:=>\",middle_character,\n",
    "      \"Last character:=>\",last_character)\n"
   ]
  },
  {
   "cell_type": "code",
   "execution_count": null,
   "id": "6801843d",
   "metadata": {},
   "outputs": [],
   "source": []
  }
 ],
 "metadata": {
  "kernelspec": {
   "display_name": "Python 3 (ipykernel)",
   "language": "python",
   "name": "python3"
  },
  "language_info": {
   "codemirror_mode": {
    "name": "ipython",
    "version": 3
   },
   "file_extension": ".py",
   "mimetype": "text/x-python",
   "name": "python",
   "nbconvert_exporter": "python",
   "pygments_lexer": "ipython3",
   "version": "3.11.5"
  }
 },
 "nbformat": 4,
 "nbformat_minor": 5
}
