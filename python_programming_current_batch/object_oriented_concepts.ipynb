{
 "cells": [
  {
   "cell_type": "code",
   "execution_count": 2,
   "id": "72508d1e",
   "metadata": {},
   "outputs": [
    {
     "name": "stdout",
     "output_type": "stream",
     "text": [
      "Class member python\n",
      "Welcome to class method\n"
     ]
    }
   ],
   "source": [
    "class A:\n",
    "    x='python'    #x is a class member\n",
    "    def show(a):   #show() is a class method\n",
    "        print(\"Welcome to class method\")\n",
    "a1=A() #object creation\n",
    "print(\"Class member\",a1.x)\n",
    "a1.show() #function called"
   ]
  },
  {
   "cell_type": "code",
   "execution_count": 3,
   "id": "ec18a80b",
   "metadata": {},
   "outputs": [
    {
     "name": "stdout",
     "output_type": "stream",
     "text": [
      "Class member python\n",
      "Welcome to class method\n"
     ]
    }
   ],
   "source": [
    "class A:\n",
    "    x='python'    #x is a class member\n",
    "    def show(self):   #show() is a class method\n",
    "        print(\"Welcome to class method\")\n",
    "a1=A() #object creation\n",
    "print(\"Class member\",a1.x)\n",
    "a1.show() #function called"
   ]
  },
  {
   "cell_type": "code",
   "execution_count": 2,
   "id": "e0113baf",
   "metadata": {},
   "outputs": [
    {
     "name": "stdout",
     "output_type": "stream",
     "text": [
      "Class member x= 100\n",
      "Class member y= 200\n"
     ]
    }
   ],
   "source": [
    "#How to access class members in class methods.\n",
    "#class definition \n",
    "class B:\n",
    "    x=100 #class members x and y\n",
    "    y=200\n",
    "    #class method definition\n",
    "    def display(self):\n",
    "        #class member access within a class by using self parameter\n",
    "        print(\"Class member x=\",self.x) \n",
    "        print(\"Class member y=\",self.y)\n",
    "#object creation object b1\n",
    "b1=B()\n",
    "#call class method\n",
    "b1.display()   "
   ]
  },
  {
   "cell_type": "code",
   "execution_count": 5,
   "id": "b11ea78d",
   "metadata": {},
   "outputs": [
    {
     "name": "stdout",
     "output_type": "stream",
     "text": [
      "Class member x= python\n",
      "Class member y= programming\n",
      "Method parameter firstname= Mahendra\n",
      "Method parameter lastname= Dhoni\n"
     ]
    }
   ],
   "source": [
    "#class methods with parameter\n",
    "#class definition\n",
    "class example:\n",
    "    x='python'          #class member x and y\n",
    "    y='programming'\n",
    "    def test(self,firstname,lastname):\n",
    "        print(\"Class member x=\",self.x)\n",
    "        print(\"Class member y=\",self.y)\n",
    "        print(\"Method parameter firstname=\",firstname)\n",
    "        print(\"Method parameter lastname=\",lastname)\n",
    "        \n",
    "#object creation\n",
    "e1=example()\n",
    "e1.test('Mahendra','Dhoni')"
   ]
  },
  {
   "cell_type": "code",
   "execution_count": 9,
   "id": "a86bef30",
   "metadata": {},
   "outputs": [
    {
     "name": "stdout",
     "output_type": "stream",
     "text": [
      "Class member x= python\n",
      "Class member y= programming\n",
      "Method parameter firstname= Mahendra\n",
      "Method parameter lastname= Dhoni\n",
      "Class member x= python\n",
      "Class member y= programming\n",
      "Method parameter firstname= Mahendra\n",
      "Method parameter lastname= Dhoni\n"
     ]
    }
   ],
   "source": [
    "#class methods with parameter\n",
    "#class definition\n",
    "class example:\n",
    "    x='python'          #class member x and y\n",
    "    y='programming'\n",
    "    def test(self,firstname,lastname):\n",
    "        print(\"Class member x=\",self.x)\n",
    "        print(\"Class member y=\",self.y)\n",
    "        print(\"Method parameter firstname=\",firstname)\n",
    "        print(\"Method parameter lastname=\",lastname)\n",
    "        #convert function parameter into class member\n",
    "        self.firstname=firstname #fn,ln are class member\n",
    "        self.ln=lastname\n",
    "        \n",
    "#object creation\n",
    "e1=example()\n",
    "e1.test('Mahendra','Dhoni')\n",
    "#outside a class we access class member by using an object\n",
    "print(\"Class member x=\",e1.x)\n",
    "print(\"Class member y=\",e1.y)\n",
    "#outside a class we access class method parameter\n",
    "print(\"Method parameter firstname=\",e1.firstname)\n",
    "print(\"Method parameter lastname=\",e1.ln)"
   ]
  },
  {
   "cell_type": "code",
   "execution_count": 12,
   "id": "4d8a8ab8",
   "metadata": {},
   "outputs": [
    {
     "name": "stdout",
     "output_type": "stream",
     "text": [
      "Course name python\n",
      "Student name Prathamesh\n",
      "Education BE(Computer)\n",
      "Course name python\n",
      "Student name Jay\n",
      "Education BE(E&TC)\n"
     ]
    }
   ],
   "source": [
    "#create a database student by using class.\n",
    "class student:\n",
    "    #class member course_name(Common database values)\n",
    "    course_name='python'\n",
    "    def stud_info(self,name,education):\n",
    "        #name,education are class method parameters\n",
    "        print(\"Course name\",self.course_name)\n",
    "        print(\"Student name\",name)\n",
    "        print(\"Education\",education)\n",
    "#object creation\n",
    "s1=student()\n",
    "#call class method stud_info\n",
    "s1.stud_info('Prathamesh','BE(Computer)')\n",
    "s1.stud_info('Jay','BE(E&TC)')\n",
    "    "
   ]
  },
  {
   "cell_type": "code",
   "execution_count": 13,
   "id": "b76a436f",
   "metadata": {},
   "outputs": [
    {
     "name": "stdout",
     "output_type": "stream",
     "text": [
      "Enter the student namedeepali\n",
      "Enter the educationME(Comp)\n",
      "Course name python\n",
      "Student name deepali\n",
      "Education ME(Comp)\n"
     ]
    }
   ],
   "source": [
    "#create a database student by using class.\n",
    "class student:\n",
    "    #class member course_name(Common database values)\n",
    "    course_name='python'\n",
    "    def stud_info(self,name,education):\n",
    "        #name,education are class method parameters\n",
    "        print(\"Course name\",self.course_name)\n",
    "        print(\"Student name\",name)\n",
    "        print(\"Education\",education)\n",
    "#object creation\n",
    "s1=student()\n",
    "#ake student name and education from a user\n",
    "sn=input(\"Enter the student name\")\n",
    "ed=input(\"Enter the education\")\n",
    "#call class method stud_info\n",
    "s1.stud_info(sn,ed)"
   ]
  },
  {
   "cell_type": "code",
   "execution_count": 14,
   "id": "c0ccb7b6",
   "metadata": {},
   "outputs": [
    {
     "name": "stdout",
     "output_type": "stream",
     "text": [
      "Enter the no of students2\n",
      "Enter the student namexyz\n",
      "Enter the educationM.A.\n",
      "Course name python\n",
      "Student name xyz\n",
      "Education M.A.\n",
      "Enter the student namePQR\n",
      "Enter the educationB.A\n",
      "Course name python\n",
      "Student name PQR\n",
      "Education B.A\n"
     ]
    }
   ],
   "source": [
    "#create a database student by using class.\n",
    "class student:\n",
    "    #class member course_name(Common database values)\n",
    "    course_name='python'\n",
    "    def stud_info(self,name,education):\n",
    "        #name,education are class method parameters\n",
    "        print(\"Course name\",self.course_name)\n",
    "        print(\"Student name\",name)\n",
    "        print(\"Education\",education)\n",
    "#object creation\n",
    "s1=student()\n",
    "n=int(input(\"Enter the no of students \"))\n",
    "for i in range(1,n+1):\n",
    "    #take student name and education from a user\n",
    "    sn=input(\"Enter the student name\")\n",
    "    ed=input(\"Enter the education\")\n",
    "    #call class method stud_info\n",
    "    s1.stud_info(sn,ed)"
   ]
  },
  {
   "cell_type": "code",
   "execution_count": 15,
   "id": "0a7b9c28",
   "metadata": {},
   "outputs": [
    {
     "name": "stdout",
     "output_type": "stream",
     "text": [
      "Enter the no of students 2\n",
      "Enter the student namexyz\n",
      "Enter the educationm.a\n",
      "Enter the student namepqr\n",
      "Enter the educationb.a\n",
      "  Course Name Student Name Education\n",
      "0      python          xyz       m.a\n",
      "1      python          pqr       b.a\n"
     ]
    }
   ],
   "source": [
    "#create a database student by using class.\n",
    "cn_list=[]\n",
    "sn_list=[]\n",
    "ed_list=[]\n",
    "class student:\n",
    "    #class member course_name(Common database values)\n",
    "    course_name='python'\n",
    "    def stud_info(self,name,education):\n",
    "        #name,education are class method parameters\n",
    "        cn_list.append(self.course_name)\n",
    "        sn_list.append(name)\n",
    "        ed_list.append(education)\n",
    "#object creation\n",
    "s1=student()\n",
    "n=int(input(\"Enter the no of students \"))\n",
    "for i in range(1,n+1):\n",
    "    #take student name and education from a user\n",
    "    sn=input(\"Enter the student name\")\n",
    "    ed=input(\"Enter the education\")\n",
    "    #call class method stud_info\n",
    "    s1.stud_info(sn,ed)\n",
    "#create a dictionary\n",
    "stud_dict={'Course Name':cn_list,\n",
    "          'Student Name':sn_list,\n",
    "          'Education':ed_list}\n",
    "#convert dictionary into tabular form(pandas dataframe)\n",
    "import pandas as pd\n",
    "stud_df=pd.DataFrame(stud_dict)\n",
    "print(stud_df)"
   ]
  },
  {
   "cell_type": "code",
   "execution_count": 17,
   "id": "d0556f77",
   "metadata": {},
   "outputs": [
    {
     "name": "stdout",
     "output_type": "stream",
     "text": [
      "Enter the no of students 2\n",
      "Enter the student nameSakshi\n",
      "Enter the educationB.Tech\n",
      "Enter the student nameSayali\n",
      "Enter the educationM.Sc(Computer)\n",
      "  Course Name Student Name       Education\n",
      "0      python       Sakshi          B.Tech\n",
      "1      python       Sayali  M.Sc(Computer)\n"
     ]
    }
   ],
   "source": [
    "#create a database student by using class.\n",
    "cn_list=[]\n",
    "sn_list=[]\n",
    "ed_list=[]\n",
    "class student:\n",
    "    #class member course_name(Common database values)\n",
    "    course_name='python'\n",
    "    def stud_info(self,name,education):\n",
    "        #name,education are class method parameters\n",
    "        cn_list.append(self.course_name)\n",
    "        sn_list.append(name)\n",
    "        ed_list.append(education)\n",
    "#object creation\n",
    "s1=student()\n",
    "n=int(input(\"Enter the no of students \"))\n",
    "for i in range(1,n+1):\n",
    "    #take student name and education from a user\n",
    "    sn=input(\"Enter the student name\")\n",
    "    ed=input(\"Enter the education\")\n",
    "    #call class method stud_info\n",
    "    s1.stud_info(sn,ed)\n",
    "#create a dictionary\n",
    "stud_dict={'Course Name':cn_list,\n",
    "          'Student Name':sn_list,\n",
    "          'Education':ed_list}\n",
    "#convert dictionary into tabular form(pandas dataframe)\n",
    "import pandas as pd\n",
    "stud_df=pd.DataFrame(stud_dict)\n",
    "print(stud_df)\n",
    "#convert dataframe into excelsheet\n",
    "stud_df.to_excel('student_info.xlsx')"
   ]
  },
  {
   "cell_type": "code",
   "execution_count": 18,
   "id": "40b9dbd0",
   "metadata": {},
   "outputs": [
    {
     "name": "stdout",
     "output_type": "stream",
     "text": [
      "Requirement already satisfied: openpyxl in c:\\users\\lenovo\\anaconda3\\lib\\site-packages (2.5.5)\n",
      "Requirement already satisfied: jdcal in c:\\users\\lenovo\\anaconda3\\lib\\site-packages (from openpyxl) (1.4.1)\n",
      "Requirement already satisfied: et-xmlfile in c:\\users\\lenovo\\anaconda3\\lib\\site-packages (from openpyxl) (1.1.0)\n",
      "Note: you may need to restart the kernel to use updated packages.\n"
     ]
    }
   ],
   "source": [
    "pip install openpyxl"
   ]
  },
  {
   "cell_type": "markdown",
   "id": "1355096e",
   "metadata": {},
   "source": [
    "# Constructor"
   ]
  },
  {
   "cell_type": "code",
   "execution_count": 4,
   "id": "5276812b",
   "metadata": {},
   "outputs": [
    {
     "name": "stdout",
     "output_type": "stream",
     "text": [
      "Welcome to constructor\n",
      "Welcome to class method\n"
     ]
    }
   ],
   "source": [
    "#class definition\n",
    "class A:\n",
    "    def __init__(self):\n",
    "        print(\"Welcome to constructor\")\n",
    "    def info(self):\n",
    "        print(\"Welcome to class method\")\n",
    "#object creation\n",
    "a1=A() #construct(build an object)+act(called built in method)\n",
    "a1.info() #called class method info using object name\n"
   ]
  },
  {
   "cell_type": "code",
   "execution_count": 7,
   "id": "4237a171",
   "metadata": {},
   "outputs": [
    {
     "name": "stdout",
     "output_type": "stream",
     "text": [
      "Welcome to third constructor\n",
      "Welcome to third constructor\n",
      "Welcome to third constructor\n"
     ]
    }
   ],
   "source": [
    "#constructor oveloading is not possible in python.\n",
    "class A:\n",
    "    def __init__(self):\n",
    "        print(\"Welcome to first constructor\")\n",
    "    def __init__(self):\n",
    "        print(\"Welcome to second constructor\")\n",
    "    def __init__(self):\n",
    "        print(\"Welcome to third constructor\")\n",
    "a1=A() #object created + constructor called\n",
    "a2=A()\n",
    "a3=A()"
   ]
  },
  {
   "cell_type": "code",
   "execution_count": 12,
   "id": "52929a08",
   "metadata": {},
   "outputs": [
    {
     "name": "stdout",
     "output_type": "stream",
     "text": [
      "Welcome to first constructor\n"
     ]
    }
   ],
   "source": [
    "#constructor oveloading is not possible in python.\n",
    "class A:\n",
    "    def __init__(self):\n",
    "        print(\"Welcome to first constructor\")\n",
    "        return \n",
    "a1=A() #object created + constructor called"
   ]
  },
  {
   "cell_type": "code",
   "execution_count": 15,
   "id": "9332e7fb",
   "metadata": {},
   "outputs": [
    {
     "name": "stdout",
     "output_type": "stream",
     "text": [
      "Constructor without parameter\n",
      "Constructor with parameter\n",
      "Constructor parameter value is python\n",
      "This is non-parameterized constructor\n",
      "Constructor parameter value is 20\n"
     ]
    }
   ],
   "source": [
    "#Types of constructor\n",
    "#default constructor\n",
    "class x:\n",
    "    def __init__(self):\n",
    "        print(\"Constructor without parameter\")\n",
    "#parameterized constructor\n",
    "class y:\n",
    "    def __init__(self,name):\n",
    "        print(\"Constructor with parameter\")\n",
    "        print(\"Constructor parameter value is\",name)\n",
    "#non-parameterized constructor\n",
    "class z:\n",
    "    def __init__(self,a=None):\n",
    "        print(\"This is non-parameterized constructor\")\n",
    "        print(\"Constructor parameter value is\",a)\n",
    "#object creation of class x\n",
    "x1=x()\n",
    "#object creation of class y\n",
    "y1=y('python')\n",
    "#object creation of class z\n",
    "z1=z(20)"
   ]
  },
  {
   "cell_type": "code",
   "execution_count": 21,
   "id": "2308f92d",
   "metadata": {},
   "outputs": [
    {
     "name": "stdout",
     "output_type": "stream",
     "text": [
      "This is a static method\n",
      "This is a static method\n",
      "This is a class method\n"
     ]
    }
   ],
   "source": [
    "#static method is working same as normal function definition in the class.\n",
    "#we can execute static method using object and class name.\n",
    "class A:\n",
    "    @staticmethod\n",
    "    def info():\n",
    "        print(\"This is a static method\")\n",
    "    def show(self):\n",
    "        print(\"This is a class method\")\n",
    "a1=A() #object creation\n",
    "a1.info() #called static method using an object\n",
    "A.info() #called static method using an class\n",
    "a1.show() #called class method using an object only\n"
   ]
  },
  {
   "cell_type": "markdown",
   "id": "bf7ce0a6",
   "metadata": {},
   "source": [
    "# Inheritance"
   ]
  },
  {
   "cell_type": "code",
   "execution_count": 22,
   "id": "1e076241",
   "metadata": {},
   "outputs": [
    {
     "name": "stdout",
     "output_type": "stream",
     "text": [
      "I am parent class A\n",
      "I am child class B\n"
     ]
    }
   ],
   "source": [
    "#single inheritance(one superclass one subclass)\n",
    "#class definition\n",
    "class A:\n",
    "    def show(self):\n",
    "        print(\"I am parent class A\")\n",
    "class B(A):\n",
    "    def display(self):\n",
    "        print(\"I am child class B\")\n",
    "#object creation\n",
    "b1=B() #child class object\n",
    "b1.show() #called parent class method\n",
    "b1.display() #called child class method"
   ]
  },
  {
   "cell_type": "code",
   "execution_count": 25,
   "id": "1bb957e1",
   "metadata": {},
   "outputs": [
    {
     "name": "stdout",
     "output_type": "stream",
     "text": [
      "I am parent class A\n",
      "I am child class B\n"
     ]
    }
   ],
   "source": [
    "#single inheritance(one superclass one subclass)\n",
    "#class definition\n",
    "class A:\n",
    "    def show(self):\n",
    "        print(\"I am parent class A\")\n",
    "class B(A):\n",
    "    def show(self):\n",
    "        super().show()   #parent class method called\n",
    "        print(\"I am child class B\")\n",
    "#object creation\n",
    "b1=B() #child class object\n",
    "b1.show() #called child class method"
   ]
  },
  {
   "cell_type": "code",
   "execution_count": 26,
   "id": "cc16d297",
   "metadata": {},
   "outputs": [
    {
     "name": "stdout",
     "output_type": "stream",
     "text": [
      "Welcome to good vibes library\n",
      "Welcome to marathi section\n"
     ]
    }
   ],
   "source": [
    "class library:\n",
    "    def __init__(self):\n",
    "        print(\"Welcome to good vibes library\")\n",
    "class marathi(library):\n",
    "    def __init__(self):\n",
    "        super().__init__()\n",
    "        print(\"Welcome to marathi section\")\n",
    "m1=marathi()"
   ]
  },
  {
   "cell_type": "markdown",
   "id": "eaced471",
   "metadata": {},
   "source": [
    "# Multilevel Inheritance"
   ]
  },
  {
   "cell_type": "code",
   "execution_count": 1,
   "id": "3a2c256e",
   "metadata": {},
   "outputs": [
    {
     "name": "stdout",
     "output_type": "stream",
     "text": [
      "Welcome to YASH bank\n",
      "Welcome user Raj\n",
      "Welcome a saving account\n"
     ]
    }
   ],
   "source": [
    "#bank is a superclass\n",
    "class Bank:\n",
    "    def __init__(self):\n",
    "        print(\"Welcome to YASH bank\")\n",
    "#account is a subclass(bank is superclass)\n",
    "class Account(Bank):\n",
    "    def show(self,name):\n",
    "        print(\"Welcome user\",name)\n",
    "#Savingaccount is a subclass(account is superclass)\n",
    "class Savingaccount(Account):\n",
    "    def display(self):\n",
    "        print(\"Welcome a saving account\")\n",
    "#object creation\n",
    "s1=Savingaccount() #child class object and called superclass constructor\n",
    "s1.show('Raj')     #called parent class account method\n",
    "s1.display()       #called child class Savingaccount method\n",
    "    "
   ]
  },
  {
   "cell_type": "code",
   "execution_count": 2,
   "id": "d926a0bd",
   "metadata": {},
   "outputs": [
    {
     "name": "stdout",
     "output_type": "stream",
     "text": [
      "Name of company  Yash Technology\n",
      "Job profile  Python Developer\n",
      "Location  Pune\n",
      "Salary  40000\n",
      "Employee skills are  python,sql\n",
      "Employee name  Sandesh\n",
      "Education   BE(CS)\n",
      "Experience  Fresher\n",
      "Name of department  Development\n",
      "Project name Business oriented\n"
     ]
    }
   ],
   "source": [
    "#parent class 1\n",
    "class HR:\n",
    "    company_name='Yash Technology' #class member\n",
    "    def job_info(self,job_profile,location,salary):\n",
    "        print(\"Name of company \",self.company_name)\n",
    "        print(\"Job profile \",job_profile)\n",
    "        print(\"Location \",location)\n",
    "        print(\"Salary \",salary)\n",
    "#parent class 2\n",
    "class employee:\n",
    "    skills='python,sql' #class member\n",
    "    def emp_info(self,name,education,experience):\n",
    "        print(\"Employee skills are \",self.skills)\n",
    "        print(\"Employee name \",name)\n",
    "        print(\"Education  \",education)\n",
    "        print(\"Experience \",experience)\n",
    "#child class\n",
    "class manager(HR,employee):\n",
    "    department_name='Development'\n",
    "    def dept_info(self,project_name):\n",
    "        print(\"Name of department \",self.department_name)\n",
    "        print(\"Project name\",project_name)\n",
    "#child class manager\n",
    "m1=manager()\n",
    "m1.job_info('Python Developer','Pune',40000)\n",
    "m1.emp_info('Sandesh','BE(CS)','Fresher')\n",
    "m1.dept_info('Business oriented')\n",
    "        \n",
    "        "
   ]
  },
  {
   "cell_type": "code",
   "execution_count": 3,
   "id": "6f6cde6c",
   "metadata": {},
   "outputs": [
    {
     "name": "stdout",
     "output_type": "stream",
     "text": [
      "Name of company  Yash Technology\n",
      "Job profile  Python Developer\n",
      "Location  Pune\n",
      "Salary  40000\n",
      "Employee skills are  python,sql\n",
      "Employee name  Sandesh\n",
      "Education   BE(CS)\n",
      "Experience  Fresher\n",
      "Name of department  Development\n",
      "Project name Business oriented\n"
     ]
    }
   ],
   "source": [
    "#parent class 1\n",
    "class HR:\n",
    "    company_name='Yash Technology' #class member\n",
    "    def job_info(self,job_profile,location,salary):\n",
    "        print(\"Name of company \",self.company_name)\n",
    "        print(\"Job profile \",job_profile)\n",
    "        print(\"Location \",location)\n",
    "        print(\"Salary \",salary)\n",
    "#parent class 2\n",
    "class employee:\n",
    "    skills='python,sql' #class member\n",
    "    def emp_info(self,name,education,experience):\n",
    "        print(\"Employee skills are \",self.skills)\n",
    "        print(\"Employee name \",name)\n",
    "        print(\"Education  \",education)\n",
    "        print(\"Experience \",experience)\n",
    "#child class\n",
    "class manager(HR,employee):\n",
    "    department_name='Development'\n",
    "    def dept_info(self,project_name):\n",
    "        super().job_info('Python Developer','Pune',40000)\n",
    "        super().emp_info('Sandesh','BE(CS)','Fresher')\n",
    "        print(\"Name of department \",self.department_name)\n",
    "        print(\"Project name\",project_name)\n",
    "#child class manager\n",
    "m1=manager()\n",
    "m1.dept_info('Business oriented')\n",
    "        \n",
    "        "
   ]
  },
  {
   "cell_type": "code",
   "execution_count": 4,
   "id": "266f3edc",
   "metadata": {},
   "outputs": [
    {
     "name": "stdout",
     "output_type": "stream",
     "text": [
      "Welcome to Loan Department\n",
      "Personal loan interest rate is 11.5\n",
      "Welcome to Loan Department\n",
      "Car loan interest rate is 13\n"
     ]
    }
   ],
   "source": [
    "#parent class\n",
    "class loan:\n",
    "    def __init__(self):\n",
    "        print(\"Welcome to Loan Department\")\n",
    "#child class 1\n",
    "class personal_loan(loan):\n",
    "    def loan_info(self,interest_rate):\n",
    "        print(\"Personal loan interest rate is\",interest_rate)\n",
    "#child class 2\n",
    "class car_loan(loan):\n",
    "    def loan_info(self,interest_rate):\n",
    "        print(\"Car loan interest rate is\",interest_rate)\n",
    "#object creation\n",
    "#person_loan class object\n",
    "p1=personal_loan() #constructor called of superclass\n",
    "p1.loan_info(11.5)\n",
    "#car_loan class object\n",
    "c1=car_loan()    #constructor called of superclass\n",
    "c1.loan_info(13)"
   ]
  },
  {
   "cell_type": "code",
   "execution_count": 7,
   "id": "1af1ed18",
   "metadata": {},
   "outputs": [
    {
     "name": "stdout",
     "output_type": "stream",
     "text": [
      "Welcome to Yash Bank\n",
      "Welcome to Loan Department\n",
      "Welcome to Yash Bank\n",
      "Welcome to Loan Department\n",
      "Personal loan interest rate is 11.5\n",
      "Welcome to Yash Bank\n",
      "Welcome to Loan Department\n",
      "Car loan interest rate is 13\n"
     ]
    }
   ],
   "source": [
    "#parent class\n",
    "class Bank:\n",
    "    def __init__(self):\n",
    "        print(\"Welcome to Yash Bank\")\n",
    "#parent class\n",
    "class loan(Bank):\n",
    "    def __init__(self):\n",
    "        super().__init__()\n",
    "        print(\"Welcome to Loan Department\")\n",
    "#child class 1\n",
    "class personal_loan(loan):\n",
    "    def loan_info(self,interest_rate):\n",
    "        print(\"Personal loan interest rate is\",interest_rate)\n",
    "#child class 2\n",
    "class car_loan(loan):\n",
    "    def loan_info(self,interest_rate):\n",
    "        print(\"Car loan interest rate is\",interest_rate)\n",
    "#object creation\n",
    "#loan class object\n",
    "obj=loan() #constructor called of superclass\n",
    "#person_loan class object\n",
    "p1=personal_loan() #constructor called of superclass\n",
    "p1.loan_info(11.5)\n",
    "#car_loan class object\n",
    "c1=car_loan()    #constructor called of superclass\n",
    "c1.loan_info(13)"
   ]
  },
  {
   "cell_type": "code",
   "execution_count": 5,
   "id": "02f46f92",
   "metadata": {},
   "outputs": [
    {
     "name": "stdout",
     "output_type": "stream",
     "text": [
      "This is a draw function for circle\n",
      "Radius of circle 4.5\n",
      "This is a draw function for square\n",
      "Side of square 10\n",
      "This is a draw function for rectangle\n",
      "Length of rectangle 4 Breadth of rectangle 8\n"
     ]
    }
   ],
   "source": [
    "from multipledispatch import dispatch\n",
    "@dispatch(float)\n",
    "def draw(radius):\n",
    "    print(\"This is a draw function for circle\")\n",
    "    print(\"Radius of circle\",radius)\n",
    "@dispatch(int)\n",
    "def draw(side):\n",
    "    print(\"This is a draw function for square\")\n",
    "    print(\"Side of square\",side)\n",
    "@dispatch(int,int)\n",
    "def draw(length,breadth):\n",
    "    print(\"This is a draw function for rectangle\")\n",
    "    print(\"Length of rectangle\",length,\"Breadth of rectangle\",breadth)\n",
    "draw(4.5) #called draw function for circle\n",
    "draw(10) #called draw function for square\n",
    "draw(4,8) #called draw function for rectangle"
   ]
  },
  {
   "cell_type": "markdown",
   "id": "a125d99e",
   "metadata": {},
   "source": [
    "# Abstraction"
   ]
  },
  {
   "cell_type": "markdown",
   "id": "fa7d0c8d",
   "metadata": {},
   "source": [
    "To hide internal details from user side.User interested only what is the output of program.Abstraction can be achieved using inheritance.\n",
    "Abstraction is possible by using library abc(abstract base class) and method abstract method."
   ]
  },
  {
   "cell_type": "code",
   "execution_count": 10,
   "id": "220727e1",
   "metadata": {},
   "outputs": [
    {
     "name": "stdout",
     "output_type": "stream",
     "text": [
      "Payment 50 done by googlepay\n",
      "Payment 100 done by phonepay\n",
      "Payment 300 done by paytm\n"
     ]
    }
   ],
   "source": [
    "from abc import abstractmethod,ABC\n",
    "class bankpayment(ABC):\n",
    "    def payment(self):\n",
    "        pass\n",
    "class googlepay(bankpayment):\n",
    "    def payment(self,amount):\n",
    "        print(\"Payment\",amount ,\"done by googlepay\")\n",
    "class phonepe(bankpayment):\n",
    "    def payment(self,amount):\n",
    "        print(\"Payment\",amount, \"done by phonepe\")\n",
    "class paytm(bankpayment):\n",
    "    def payment(self,amount):\n",
    "        print(\"Payment\",amount ,\"done by paytm\")\n",
    "g1=googlepay()   #object creation of googlepay\n",
    "p1=phonepe()   #object creation of phonepe\n",
    "p2=paytm()   #object creation of paytm\n",
    "g1.payment(50) #method called for googlepay\n",
    "p1.payment(100) #method called for phonepe\n",
    "p2.payment(300) #method called for paytm"
   ]
  },
  {
   "cell_type": "code",
   "execution_count": 15,
   "id": "07fa3a1f",
   "metadata": {},
   "outputs": [
    {
     "name": "stdout",
     "output_type": "stream",
     "text": [
      "Select payment \n",
      "      1.Googlepay\n",
      "      2.Phonepe\n",
      "      3.PayTm\n",
      "Enter the choice1\n",
      "Enter the amount400\n",
      "Payment 400 done by googlepay\n"
     ]
    }
   ],
   "source": [
    "from abc import abstractmethod,ABC\n",
    "class bankpayment(ABC):\n",
    "    def payment(self):\n",
    "        pass\n",
    "class googlepay(bankpayment):\n",
    "    def payment(self,amount):\n",
    "        print(\"Payment\",amount ,\"done by googlepay\")\n",
    "class phonepe(bankpayment):\n",
    "    def payment(self,amount):\n",
    "        print(\"Payment\",amount, \"done by phonepe\")\n",
    "class paytm(bankpayment):\n",
    "    def payment(self,amount):\n",
    "        print(\"Payment\",amount ,\"done by paytm\")\n",
    "print(\"\"\"Select payment \n",
    "      1.Googlepay\n",
    "      2.Phonepe\n",
    "      3.PayTm\"\"\")\n",
    "choice=int(input(\"Enter the choice\"))\n",
    "amount=int(input(\"Enter the amount\"))\n",
    "if choice==1:\n",
    "    g1=googlepay()   #object creation of googlepay\n",
    "    g1.payment(amount) #method called for googlepay\n",
    "elif choice==2:\n",
    "    p1=phonepe()   #object creation of phonepe\n",
    "    p1.payment(amount) #method called for phonepe\n",
    "elif choice==3:\n",
    "    p2=paytm()   #object creation of paytm\n",
    "    p2.payment(amount) #method called for paytm"
   ]
  },
  {
   "cell_type": "markdown",
   "id": "66233f69",
   "metadata": {},
   "source": [
    "# Encapsulation"
   ]
  },
  {
   "cell_type": "code",
   "execution_count": 19,
   "id": "99491330",
   "metadata": {},
   "outputs": [
    {
     "name": "stdout",
     "output_type": "stream",
     "text": [
      "Within a class\n",
      "Name of employee Sahil\n",
      "Education of employee B.C.A\n",
      "Phone number 123456789\n",
      "Salary of employee 40000\n",
      "Outside a class\n",
      "Name of employee Sahil\n",
      "Education of employee B.C.A\n"
     ]
    }
   ],
   "source": [
    "class HR:\n",
    "    name='Sahil'     #public member\n",
    "    _education='B.C.A' #protected member\n",
    "    __phone_number=123456789 #private member\n",
    "    __salary=40000   #private member\n",
    "    def show(self):\n",
    "        print(\"Within a class\")\n",
    "        print(\"Name of employee\",self.name)\n",
    "        print(\"Education of employee\",self._education)\n",
    "        print(\"Phone number\",self.__phone_number)\n",
    "        print(\"Salary of employee\",self.__salary)\n",
    "h1=HR()\n",
    "h1.show()\n",
    "print(\"Outside a class\")\n",
    "print(\"Name of employee\",h1.name)\n",
    "print(\"Education of employee\",h1._education)\n",
    "#print(\"Phone number\",h1.__phone_number)\n",
    "#print(\"Salary of employee\",h1.__salary)"
   ]
  },
  {
   "cell_type": "code",
   "execution_count": 24,
   "id": "0cb68515",
   "metadata": {},
   "outputs": [
    {
     "name": "stdout",
     "output_type": "stream",
     "text": [
      "Within a sub class\n",
      "Name of employee Sahil\n",
      "Education of employee B.C.A\n",
      "Phone number 123456789\n",
      "Outside a class\n",
      "Name of employee Sahil\n",
      "Education of employee B.C.A\n",
      "Phone number 123456789\n"
     ]
    }
   ],
   "source": [
    "class HR:\n",
    "    name='Sahil'     #public member\n",
    "    _education='B.C.A' #protected member\n",
    "    _phone_number=123456789 #protected member\n",
    "    __salary=40000   #private member\n",
    "    \n",
    "class manager(HR):\n",
    "    def show(self):\n",
    "        print(\"Within a sub class\")\n",
    "        print(\"Name of employee\",self.name)\n",
    "        print(\"Education of employee\",self._education)\n",
    "        print(\"Phone number\",self._phone_number)\n",
    "        #print(\"Salary of employee\",self.__salary)\n",
    "m1=manager()\n",
    "m1.show()\n",
    "print(\"Outside a class\")\n",
    "print(\"Name of employee\",h1.name)\n",
    "print(\"Education of employee\",h1._education)\n",
    "print(\"Phone number\",m1._phone_number)\n"
   ]
  },
  {
   "cell_type": "code",
   "execution_count": null,
   "id": "f12698ba",
   "metadata": {},
   "outputs": [],
   "source": []
  }
 ],
 "metadata": {
  "kernelspec": {
   "display_name": "Python 3 (ipykernel)",
   "language": "python",
   "name": "python3"
  },
  "language_info": {
   "codemirror_mode": {
    "name": "ipython",
    "version": 3
   },
   "file_extension": ".py",
   "mimetype": "text/x-python",
   "name": "python",
   "nbconvert_exporter": "python",
   "pygments_lexer": "ipython3",
   "version": "3.11.5"
  }
 },
 "nbformat": 4,
 "nbformat_minor": 5
}
