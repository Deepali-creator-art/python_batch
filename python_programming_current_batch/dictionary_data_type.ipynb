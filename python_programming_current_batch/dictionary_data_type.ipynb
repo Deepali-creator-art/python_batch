{
 "cells": [
  {
   "cell_type": "code",
   "execution_count": 14,
   "id": "1e540b16",
   "metadata": {},
   "outputs": [
    {
     "name": "stdout",
     "output_type": "stream",
     "text": [
      "<class 'dict'>\n"
     ]
    }
   ],
   "source": [
    "#Empty dictionary declaration\n",
    "x={}\n",
    "print(type(x))"
   ]
  },
  {
   "cell_type": "code",
   "execution_count": 15,
   "id": "ac7a5a34",
   "metadata": {},
   "outputs": [
    {
     "name": "stdout",
     "output_type": "stream",
     "text": [
      "{'student_name': ['Atul', 'Tejas', 'Pushkar'], 'marks': (34, 67, 89)}\n"
     ]
    }
   ],
   "source": [
    "student_data={'student_name':['Atul','Tejas','Pushkar'],\n",
    "             'marks':(34,67,89)}\n",
    "print(student_data)"
   ]
  },
  {
   "cell_type": "code",
   "execution_count": 16,
   "id": "2757e49a",
   "metadata": {},
   "outputs": [
    {
     "data": {
      "text/html": [
       "<div>\n",
       "<style scoped>\n",
       "    .dataframe tbody tr th:only-of-type {\n",
       "        vertical-align: middle;\n",
       "    }\n",
       "\n",
       "    .dataframe tbody tr th {\n",
       "        vertical-align: top;\n",
       "    }\n",
       "\n",
       "    .dataframe thead th {\n",
       "        text-align: right;\n",
       "    }\n",
       "</style>\n",
       "<table border=\"1\" class=\"dataframe\">\n",
       "  <thead>\n",
       "    <tr style=\"text-align: right;\">\n",
       "      <th></th>\n",
       "      <th>student_name</th>\n",
       "      <th>marks</th>\n",
       "    </tr>\n",
       "  </thead>\n",
       "  <tbody>\n",
       "    <tr>\n",
       "      <th>0</th>\n",
       "      <td>Atul</td>\n",
       "      <td>34</td>\n",
       "    </tr>\n",
       "    <tr>\n",
       "      <th>1</th>\n",
       "      <td>Tejas</td>\n",
       "      <td>67</td>\n",
       "    </tr>\n",
       "    <tr>\n",
       "      <th>2</th>\n",
       "      <td>Pushkar</td>\n",
       "      <td>89</td>\n",
       "    </tr>\n",
       "  </tbody>\n",
       "</table>\n",
       "</div>"
      ],
      "text/plain": [
       "  student_name  marks\n",
       "0         Atul     34\n",
       "1        Tejas     67\n",
       "2      Pushkar     89"
      ]
     },
     "execution_count": 16,
     "metadata": {},
     "output_type": "execute_result"
    }
   ],
   "source": [
    "#convert dictionary into dataframe\n",
    "import pandas as pd \n",
    "pd.DataFrame(student_data)"
   ]
  },
  {
   "cell_type": "code",
   "execution_count": 17,
   "id": "92f86785",
   "metadata": {},
   "outputs": [
    {
     "data": {
      "text/plain": [
       "dict_keys(['student_name', 'marks'])"
      ]
     },
     "execution_count": 17,
     "metadata": {},
     "output_type": "execute_result"
    }
   ],
   "source": [
    "student_data.keys()"
   ]
  },
  {
   "cell_type": "code",
   "execution_count": 18,
   "id": "ef9a641c",
   "metadata": {},
   "outputs": [
    {
     "data": {
      "text/plain": [
       "dict_values([['Atul', 'Tejas', 'Pushkar'], (34, 67, 89)])"
      ]
     },
     "execution_count": 18,
     "metadata": {},
     "output_type": "execute_result"
    }
   ],
   "source": [
    "student_data.values()"
   ]
  },
  {
   "cell_type": "code",
   "execution_count": 19,
   "id": "0db3b4a4",
   "metadata": {},
   "outputs": [
    {
     "data": {
      "text/plain": [
       "dict_items([('student_name', ['Atul', 'Tejas', 'Pushkar']), ('marks', (34, 67, 89))])"
      ]
     },
     "execution_count": 19,
     "metadata": {},
     "output_type": "execute_result"
    }
   ],
   "source": [
    "student_data.items()"
   ]
  },
  {
   "cell_type": "code",
   "execution_count": 20,
   "id": "ed6c4908",
   "metadata": {},
   "outputs": [
    {
     "data": {
      "text/plain": [
       "{'mobile_company': ['samsung', 'oppo', 'vivo'],\n",
       " 'mobile_price': [20000, 25000, 35000]}"
      ]
     },
     "execution_count": 20,
     "metadata": {},
     "output_type": "execute_result"
    }
   ],
   "source": [
    "mobile_data={'mobile_company':['samsung','oppo','vivo'],\n",
    "            'mobile_price':[20000,25000,35000]}\n",
    "mobile_data"
   ]
  },
  {
   "cell_type": "code",
   "execution_count": 21,
   "id": "5e607a2c",
   "metadata": {},
   "outputs": [
    {
     "data": {
      "text/plain": [
       "dict_keys(['mobile_company', 'mobile_price'])"
      ]
     },
     "execution_count": 21,
     "metadata": {},
     "output_type": "execute_result"
    }
   ],
   "source": [
    "mobile_data.keys()"
   ]
  },
  {
   "cell_type": "code",
   "execution_count": 22,
   "id": "aa65ca24",
   "metadata": {},
   "outputs": [
    {
     "data": {
      "text/plain": [
       "dict_values([['samsung', 'oppo', 'vivo'], [20000, 25000, 35000]])"
      ]
     },
     "execution_count": 22,
     "metadata": {},
     "output_type": "execute_result"
    }
   ],
   "source": [
    "mobile_data.values()"
   ]
  },
  {
   "cell_type": "code",
   "execution_count": 23,
   "id": "6dd0302e",
   "metadata": {},
   "outputs": [
    {
     "data": {
      "text/plain": [
       "dict_items([('mobile_company', ['samsung', 'oppo', 'vivo']), ('mobile_price', [20000, 25000, 35000])])"
      ]
     },
     "execution_count": 23,
     "metadata": {},
     "output_type": "execute_result"
    }
   ],
   "source": [
    "mobile_data.items()"
   ]
  },
  {
   "cell_type": "code",
   "execution_count": 24,
   "id": "acec0a14",
   "metadata": {},
   "outputs": [
    {
     "data": {
      "text/plain": [
       "{'mobile_company': ['samsung', 'oppo', 'vivo'],\n",
       " 'mobile_price': [20000, 25000, 35000],\n",
       " 'mobile_color': ('red', 'grey', 'white')}"
      ]
     },
     "execution_count": 24,
     "metadata": {},
     "output_type": "execute_result"
    }
   ],
   "source": [
    "#add elements into a dictionary=>called function\n",
    "mobile_data.update({'mobile_color':('red','grey','white')})\n",
    "mobile_data"
   ]
  },
  {
   "cell_type": "code",
   "execution_count": 25,
   "id": "524c4b20",
   "metadata": {},
   "outputs": [
    {
     "data": {
      "text/plain": [
       "('mobile_color', ('red', 'grey', 'white'))"
      ]
     },
     "execution_count": 25,
     "metadata": {},
     "output_type": "execute_result"
    }
   ],
   "source": [
    "#remove element of dictionary\n",
    "#popitem() remove last key value pair\n",
    "mobile_data.popitem()"
   ]
  },
  {
   "cell_type": "code",
   "execution_count": 26,
   "id": "9426b90d",
   "metadata": {},
   "outputs": [
    {
     "data": {
      "text/plain": [
       "{'mobile_company': ['samsung', 'oppo', 'vivo'],\n",
       " 'mobile_price': [20000, 25000, 35000]}"
      ]
     },
     "execution_count": 26,
     "metadata": {},
     "output_type": "execute_result"
    }
   ],
   "source": [
    "mobile_data"
   ]
  },
  {
   "cell_type": "code",
   "execution_count": 27,
   "id": "7ebe5d7e",
   "metadata": {},
   "outputs": [
    {
     "data": {
      "text/plain": [
       "['samsung', 'oppo', 'vivo']"
      ]
     },
     "execution_count": 27,
     "metadata": {},
     "output_type": "execute_result"
    }
   ],
   "source": [
    "#pop() is used to remove particular key value pair\n",
    "mobile_data.pop('mobile_company')"
   ]
  },
  {
   "cell_type": "code",
   "execution_count": 28,
   "id": "94f14c86",
   "metadata": {},
   "outputs": [
    {
     "data": {
      "text/plain": [
       "{'mobile_price': [20000, 25000, 35000]}"
      ]
     },
     "execution_count": 28,
     "metadata": {},
     "output_type": "execute_result"
    }
   ],
   "source": [
    "mobile_data"
   ]
  },
  {
   "cell_type": "code",
   "execution_count": 29,
   "id": "973ffe5f",
   "metadata": {},
   "outputs": [
    {
     "data": {
      "text/plain": [
       "[20000, 25000, 35000]"
      ]
     },
     "execution_count": 29,
     "metadata": {},
     "output_type": "execute_result"
    }
   ],
   "source": [
    "#access dictionary elements by using get() or key parameter\n",
    "mobile_data.get('mobile_price')"
   ]
  },
  {
   "cell_type": "code",
   "execution_count": 30,
   "id": "221e4b27",
   "metadata": {},
   "outputs": [
    {
     "data": {
      "text/plain": [
       "[20000, 25000, 35000]"
      ]
     },
     "execution_count": 30,
     "metadata": {},
     "output_type": "execute_result"
    }
   ],
   "source": [
    "mobile_data['mobile_price']"
   ]
  },
  {
   "cell_type": "code",
   "execution_count": 32,
   "id": "72b58b14",
   "metadata": {},
   "outputs": [
    {
     "data": {
      "text/plain": [
       "{'Aditya': 'python', 'pooja': 'python', 'sandesh': 'python'}"
      ]
     },
     "execution_count": 32,
     "metadata": {},
     "output_type": "execute_result"
    }
   ],
   "source": [
    "names=['Aditya','pooja','sandesh']\n",
    "course_name='python'\n",
    "x={}\n",
    "x.fromkeys(names,course_name)"
   ]
  },
  {
   "cell_type": "code",
   "execution_count": 33,
   "id": "b8ae3cd0",
   "metadata": {},
   "outputs": [
    {
     "data": {
      "text/plain": [
       "{'employee_name': 'Deepak', 'post': 'Manager'}"
      ]
     },
     "execution_count": 33,
     "metadata": {},
     "output_type": "execute_result"
    }
   ],
   "source": [
    "#setdefault()\n",
    "data={'employee_name':'Deepak','post':'Manager'}\n",
    "data"
   ]
  },
  {
   "cell_type": "code",
   "execution_count": 36,
   "id": "482b2034",
   "metadata": {},
   "outputs": [
    {
     "data": {
      "text/plain": [
       "{'employee_name': 'Deepak', 'post': 'Manager', 'company_name': 'Infosys'}"
      ]
     },
     "execution_count": 36,
     "metadata": {},
     "output_type": "execute_result"
    }
   ],
   "source": [
    "data.setdefault('company_name','Infosys')\n",
    "data"
   ]
  },
  {
   "cell_type": "code",
   "execution_count": 37,
   "id": "02bb74c4",
   "metadata": {},
   "outputs": [],
   "source": [
    "#2 dimesional dictionary=>dictionary within dictionary\n",
    "employee_data={'empid1':{'employee_name':'Arya','company_name':'Infosys'},\n",
    "              'empid2':{'employee_name':'YashRaj','company_name':'L&T'},\n",
    "              'empid3':{'employee_name':'Pranay','company_name':'Yash Technology'}}"
   ]
  },
  {
   "cell_type": "code",
   "execution_count": 38,
   "id": "68af1629",
   "metadata": {},
   "outputs": [
    {
     "data": {
      "text/html": [
       "<div>\n",
       "<style scoped>\n",
       "    .dataframe tbody tr th:only-of-type {\n",
       "        vertical-align: middle;\n",
       "    }\n",
       "\n",
       "    .dataframe tbody tr th {\n",
       "        vertical-align: top;\n",
       "    }\n",
       "\n",
       "    .dataframe thead th {\n",
       "        text-align: right;\n",
       "    }\n",
       "</style>\n",
       "<table border=\"1\" class=\"dataframe\">\n",
       "  <thead>\n",
       "    <tr style=\"text-align: right;\">\n",
       "      <th></th>\n",
       "      <th>empid1</th>\n",
       "      <th>empid2</th>\n",
       "      <th>empid3</th>\n",
       "    </tr>\n",
       "  </thead>\n",
       "  <tbody>\n",
       "    <tr>\n",
       "      <th>employee_name</th>\n",
       "      <td>Arya</td>\n",
       "      <td>YashRaj</td>\n",
       "      <td>Pranay</td>\n",
       "    </tr>\n",
       "    <tr>\n",
       "      <th>company_name</th>\n",
       "      <td>Infosys</td>\n",
       "      <td>L&amp;T</td>\n",
       "      <td>Yash Technology</td>\n",
       "    </tr>\n",
       "  </tbody>\n",
       "</table>\n",
       "</div>"
      ],
      "text/plain": [
       "                empid1   empid2           empid3\n",
       "employee_name     Arya  YashRaj           Pranay\n",
       "company_name   Infosys      L&T  Yash Technology"
      ]
     },
     "execution_count": 38,
     "metadata": {},
     "output_type": "execute_result"
    }
   ],
   "source": [
    "import pandas as pd\n",
    "pd.DataFrame(employee_data)"
   ]
  },
  {
   "cell_type": "code",
   "execution_count": 40,
   "id": "ef7baf3c",
   "metadata": {},
   "outputs": [
    {
     "name": "stdout",
     "output_type": "stream",
     "text": [
      "empid1\n",
      "Hello\n",
      "empid2\n",
      "Hello\n",
      "empid3\n",
      "Hello\n"
     ]
    }
   ],
   "source": [
    "#for loop  execution depends on keys parameters\n",
    "for i in employee_data:\n",
    "    print(i)\n",
    "    print(\"Hello\")"
   ]
  },
  {
   "cell_type": "code",
   "execution_count": 41,
   "id": "df43f835",
   "metadata": {},
   "outputs": [
    {
     "name": "stdout",
     "output_type": "stream",
     "text": [
      "empid1\n",
      "Hello\n",
      "empid2\n",
      "Hello\n",
      "empid3\n",
      "Hello\n"
     ]
    }
   ],
   "source": [
    "for i in employee_data.keys():\n",
    "    print(i)\n",
    "    print(\"Hello\")"
   ]
  },
  {
   "cell_type": "code",
   "execution_count": 42,
   "id": "43970631",
   "metadata": {},
   "outputs": [
    {
     "name": "stdout",
     "output_type": "stream",
     "text": [
      "{'employee_name': 'Arya', 'company_name': 'Infosys'}\n",
      "Hello\n",
      "{'employee_name': 'YashRaj', 'company_name': 'L&T'}\n",
      "Hello\n",
      "{'employee_name': 'Pranay', 'company_name': 'Yash Technology'}\n",
      "Hello\n"
     ]
    }
   ],
   "source": [
    "for i in employee_data.values():\n",
    "    print(i)\n",
    "    print(\"Hello\")"
   ]
  },
  {
   "cell_type": "code",
   "execution_count": 43,
   "id": "2fe4a613",
   "metadata": {},
   "outputs": [
    {
     "name": "stdout",
     "output_type": "stream",
     "text": [
      "['Atul', 'Tejas', 'Pushkar']\n",
      "Bye\n",
      "(34, 67, 89)\n",
      "Bye\n"
     ]
    }
   ],
   "source": [
    "student_data={'student_name':['Atul','Tejas','Pushkar'],\n",
    "             'marks':(34,67,89)}\n",
    "for j in student_data.values():\n",
    "    print(j)\n",
    "    print(\"Bye\")\n",
    "              "
   ]
  },
  {
   "cell_type": "code",
   "execution_count": 44,
   "id": "17119b84",
   "metadata": {},
   "outputs": [
    {
     "name": "stdout",
     "output_type": "stream",
     "text": [
      "('student_name', ['Atul', 'Tejas', 'Pushkar'])\n",
      "Bye\n",
      "('marks', (34, 67, 89))\n",
      "Bye\n"
     ]
    }
   ],
   "source": [
    "student_data={'student_name':['Atul','Tejas','Pushkar'],\n",
    "             'marks':(34,67,89)}\n",
    "for j in student_data.items():\n",
    "    print(j)\n",
    "    print(\"Bye\")"
   ]
  },
  {
   "cell_type": "code",
   "execution_count": 45,
   "id": "093cc446",
   "metadata": {},
   "outputs": [],
   "source": [
    "#2 dimesional dictionary=>dictionary within dictionary\n",
    "employee_data={'empid1':{'employee_name':'Arya','company_name':'Infosys'},\n",
    "              'empid2':{'employee_name':'YashRaj','company_name':'L&T'},\n",
    "              'empid3':{'employee_name':'Pranay','company_name':'Yash Technology'}}\n"
   ]
  },
  {
   "cell_type": "code",
   "execution_count": 46,
   "id": "40b6f7a9",
   "metadata": {},
   "outputs": [
    {
     "data": {
      "text/plain": [
       "{'empid1': {'employee_name': 'Arya', 'company_name': 'Infosys'},\n",
       " 'empid2': {'employee_name': 'YashRaj', 'company_name': 'L&T'},\n",
       " 'empid3': {'employee_name': 'Pranay', 'company_name': 'Yash Technology'},\n",
       " 'empid4': {'employee_name': 'Sandesh', 'company_name': 'Microsoft'}}"
      ]
     },
     "execution_count": 46,
     "metadata": {},
     "output_type": "execute_result"
    }
   ],
   "source": [
    "#update() is used to combine two dictionaries\n",
    "employee_data.update({'empid4':{'employee_name':'Sandesh','company_name':'Microsoft'}})\n",
    "employee_data"
   ]
  },
  {
   "cell_type": "code",
   "execution_count": 47,
   "id": "c8dd0afe",
   "metadata": {},
   "outputs": [
    {
     "data": {
      "text/plain": [
       "{'empid1': {'employee_name': 'Arya', 'company_name': 'IBM'},\n",
       " 'empid2': {'employee_name': 'YashRaj', 'company_name': 'L&T'},\n",
       " 'empid3': {'employee_name': 'Pranay', 'company_name': 'Yash Technology'},\n",
       " 'empid4': {'employee_name': 'Sandesh', 'company_name': 'Microsoft'}}"
      ]
     },
     "execution_count": 47,
     "metadata": {},
     "output_type": "execute_result"
    }
   ],
   "source": [
    "employee_data['empid1']['company_name']='IBM'\n",
    "employee_data"
   ]
  },
  {
   "cell_type": "code",
   "execution_count": 48,
   "id": "fa1879fe",
   "metadata": {},
   "outputs": [
    {
     "data": {
      "text/plain": [
       "{'empid1': {'employee_name': 'Arya', 'company_name': 'IBM'},\n",
       " 'empid2': {'employee_name': 'YashRaj', 'company_name': 'L&T'},\n",
       " 'empid3': {'employee_name': 'Sahil', 'company_name': 'Yash Technology'},\n",
       " 'empid4': {'employee_name': 'Sandesh', 'company_name': 'Microsoft'}}"
      ]
     },
     "execution_count": 48,
     "metadata": {},
     "output_type": "execute_result"
    }
   ],
   "source": [
    "employee_data['empid3']['employee_name']='Sahil'\n",
    "employee_data"
   ]
  },
  {
   "cell_type": "code",
   "execution_count": 54,
   "id": "3ac24b72",
   "metadata": {},
   "outputs": [
    {
     "name": "stdout",
     "output_type": "stream",
     "text": [
      "Enter the employee nameAditya\n",
      "Aditya is not present in given dictionary\n"
     ]
    }
   ],
   "source": [
    "emp_name=input(\"Enter the employee name\")\n",
    "for i in employee_data:\n",
    "    #print(i)\n",
    "    if(employee_data[i]['employee_name']==emp_name):\n",
    "        print(f\"{emp_name} is present in given dictionary\")\n",
    "        break\n",
    "else:\n",
    "    print(f\"{emp_name} is not present in given dictionary\")\n",
    "    \n"
   ]
  },
  {
   "cell_type": "code",
   "execution_count": 56,
   "id": "142c7253",
   "metadata": {},
   "outputs": [
    {
     "name": "stdout",
     "output_type": "stream",
     "text": [
      "{1: 100, 2: 500, 3: 800, 5: 700}\n"
     ]
    }
   ],
   "source": [
    "x={1:100,2:300,3:400,2:500,5:700,3:800}\n",
    "print(x)"
   ]
  },
  {
   "cell_type": "code",
   "execution_count": 58,
   "id": "700d2c3f",
   "metadata": {},
   "outputs": [
    {
     "name": "stdout",
     "output_type": "stream",
     "text": [
      "{'x': 900, 'y': 300, 'z': 600, 'p': 1000}\n"
     ]
    }
   ],
   "source": [
    "s1={'x':100,'y':300,'z':600,'p':700,'x':900,'p':1000}\n",
    "print(s1)"
   ]
  },
  {
   "cell_type": "code",
   "execution_count": null,
   "id": "62d80ecd",
   "metadata": {},
   "outputs": [],
   "source": []
  }
 ],
 "metadata": {
  "kernelspec": {
   "display_name": "Python 3 (ipykernel)",
   "language": "python",
   "name": "python3"
  },
  "language_info": {
   "codemirror_mode": {
    "name": "ipython",
    "version": 3
   },
   "file_extension": ".py",
   "mimetype": "text/x-python",
   "name": "python",
   "nbconvert_exporter": "python",
   "pygments_lexer": "ipython3",
   "version": "3.11.5"
  }
 },
 "nbformat": 4,
 "nbformat_minor": 5
}
