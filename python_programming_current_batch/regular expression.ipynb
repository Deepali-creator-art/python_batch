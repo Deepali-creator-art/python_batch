{
 "cells": [
  {
   "cell_type": "code",
   "execution_count": 3,
   "id": "0c49add0",
   "metadata": {},
   "outputs": [
    {
     "data": {
      "text/plain": [
       "['T', 'i', 'r', 'u', 'p', 'a', 't', 'i']"
      ]
     },
     "execution_count": 3,
     "metadata": {},
     "output_type": "execute_result"
    }
   ],
   "source": [
    "import re\n",
    "name='Tirupati'\n",
    "pattern=r'[A-Za-z]'\n",
    "re.findall(pattern,name)"
   ]
  },
  {
   "cell_type": "code",
   "execution_count": 4,
   "id": "5506dd87",
   "metadata": {},
   "outputs": [
    {
     "data": {
      "text/plain": [
       "['2', '0', '2', '5']"
      ]
     },
     "execution_count": 4,
     "metadata": {},
     "output_type": "execute_result"
    }
   ],
   "source": [
    "import re\n",
    "x='Happy New Year 2025'\n",
    "pattern=r'[0-9]'\n",
    "re.findall(pattern,x)"
   ]
  },
  {
   "cell_type": "code",
   "execution_count": 7,
   "id": "c89a8776",
   "metadata": {},
   "outputs": [
    {
     "name": "stdout",
     "output_type": "stream",
     "text": [
      "['H', 'a', 'p', 'p', 'y', 'N', 'e', 'w', 'Y', 'e', 'a', 'r', '2', '0', '2', '5']\n"
     ]
    }
   ],
   "source": [
    "import re\n",
    "x='***Happy New Year 2025***'\n",
    "pattern=r'\\w'\n",
    "print(re.findall(pattern,x))"
   ]
  },
  {
   "cell_type": "code",
   "execution_count": 8,
   "id": "37910d0e",
   "metadata": {},
   "outputs": [
    {
     "name": "stdout",
     "output_type": "stream",
     "text": [
      "['*', '*', '*', ' ', ' ', ' ', '*', '*', '*']\n"
     ]
    }
   ],
   "source": [
    "import re\n",
    "x='***Happy New Year 2025***'\n",
    "pattern=r'\\W'\n",
    "print(re.findall(pattern,x))"
   ]
  },
  {
   "cell_type": "code",
   "execution_count": 9,
   "id": "9218ce56",
   "metadata": {},
   "outputs": [
    {
     "name": "stdout",
     "output_type": "stream",
     "text": [
      "['2', '0', '2', '5']\n"
     ]
    }
   ],
   "source": [
    "import re\n",
    "x='***Happy New Year 2025***'\n",
    "pattern=r'\\d'\n",
    "print(re.findall(pattern,x))"
   ]
  },
  {
   "cell_type": "code",
   "execution_count": 10,
   "id": "d51e96b3",
   "metadata": {},
   "outputs": [
    {
     "name": "stdout",
     "output_type": "stream",
     "text": [
      "['*', '*', '*', 'H', 'a', 'p', 'p', 'y', ' ', 'N', 'e', 'w', ' ', 'Y', 'e', 'a', 'r', ' ', '*', '*', '*']\n"
     ]
    }
   ],
   "source": [
    "import re\n",
    "x='***Happy New Year 2025***'\n",
    "pattern=r'\\D'\n",
    "print(re.findall(pattern,x))"
   ]
  },
  {
   "cell_type": "code",
   "execution_count": 11,
   "id": "86b46185",
   "metadata": {},
   "outputs": [
    {
     "name": "stdout",
     "output_type": "stream",
     "text": [
      "[' ', ' ', ' ']\n"
     ]
    }
   ],
   "source": [
    "import re\n",
    "x='***Happy New Year 2025***'\n",
    "pattern=r'\\s'\n",
    "print(re.findall(pattern,x))"
   ]
  },
  {
   "cell_type": "code",
   "execution_count": 12,
   "id": "8fecc3ac",
   "metadata": {},
   "outputs": [
    {
     "name": "stdout",
     "output_type": "stream",
     "text": [
      "['*', '*', '*', 'H', 'a', 'p', 'p', 'y', 'N', 'e', 'w', 'Y', 'e', 'a', 'r', '2', '0', '2', '5', '*', '*', '*']\n"
     ]
    }
   ],
   "source": [
    "import re\n",
    "x='***Happy New Year 2025***'\n",
    "pattern=r'\\S'\n",
    "print(re.findall(pattern,x))"
   ]
  },
  {
   "cell_type": "code",
   "execution_count": 13,
   "id": "4d04cfe3",
   "metadata": {},
   "outputs": [
    {
     "name": "stdout",
     "output_type": "stream",
     "text": [
      "['S']\n"
     ]
    }
   ],
   "source": [
    "import re\n",
    "x='Sakshi'\n",
    "pattern='^S'\n",
    "print(re.findall(pattern,x))"
   ]
  },
  {
   "cell_type": "code",
   "execution_count": 14,
   "id": "77ec42fb",
   "metadata": {},
   "outputs": [
    {
     "name": "stdout",
     "output_type": "stream",
     "text": [
      "['i']\n"
     ]
    }
   ],
   "source": [
    "import re\n",
    "x='Sakshi'\n",
    "pattern='i$'\n",
    "print(re.findall(pattern,x))"
   ]
  },
  {
   "cell_type": "code",
   "execution_count": 15,
   "id": "c46f76aa",
   "metadata": {},
   "outputs": [
    {
     "name": "stdout",
     "output_type": "stream",
     "text": [
      "['Sakshi']\n"
     ]
    }
   ],
   "source": [
    "import re\n",
    "x='Sakshi'\n",
    "pattern='^S.*'\n",
    "print(re.findall(pattern,x))"
   ]
  },
  {
   "cell_type": "code",
   "execution_count": 16,
   "id": "76de9f9e",
   "metadata": {},
   "outputs": [
    {
     "name": "stdout",
     "output_type": "stream",
     "text": [
      "['Sakshi']\n"
     ]
    }
   ],
   "source": [
    "import re\n",
    "x='Sakshi'\n",
    "pattern='.*i$'\n",
    "print(re.findall(pattern,x))"
   ]
  },
  {
   "cell_type": "code",
   "execution_count": 17,
   "id": "1874c015",
   "metadata": {},
   "outputs": [
    {
     "name": "stdout",
     "output_type": "stream",
     "text": [
      "['O']\n"
     ]
    }
   ],
   "source": [
    "import re\n",
    "x='Om'\n",
    "pattern='^O'\n",
    "print(re.findall(pattern,x))"
   ]
  },
  {
   "cell_type": "code",
   "execution_count": 18,
   "id": "37b860d3",
   "metadata": {},
   "outputs": [
    {
     "name": "stdout",
     "output_type": "stream",
     "text": [
      "['m']\n"
     ]
    }
   ],
   "source": [
    "import re\n",
    "x='Om'\n",
    "pattern='m$'\n",
    "print(re.findall(pattern,x))"
   ]
  },
  {
   "cell_type": "code",
   "execution_count": 19,
   "id": "224deffe",
   "metadata": {},
   "outputs": [
    {
     "name": "stdout",
     "output_type": "stream",
     "text": [
      "['Om']\n"
     ]
    }
   ],
   "source": [
    "import re\n",
    "x='Om'\n",
    "pattern='^O.*'\n",
    "print(re.findall(pattern,x))"
   ]
  },
  {
   "cell_type": "code",
   "execution_count": 20,
   "id": "dc20f4ca",
   "metadata": {},
   "outputs": [
    {
     "name": "stdout",
     "output_type": "stream",
     "text": [
      "['Om']\n"
     ]
    }
   ],
   "source": [
    "import re\n",
    "x='Om'\n",
    "pattern='.*m$'\n",
    "print(re.findall(pattern,x))"
   ]
  },
  {
   "cell_type": "code",
   "execution_count": 32,
   "id": "67ebef68",
   "metadata": {},
   "outputs": [
    {
     "name": "stdout",
     "output_type": "stream",
     "text": [
      "['Om']\n"
     ]
    }
   ],
   "source": [
    "import re\n",
    "x='Om'\n",
    "pattern='^O+.'\n",
    "print(re.findall(pattern,x))"
   ]
  },
  {
   "cell_type": "code",
   "execution_count": 34,
   "id": "98bae92f",
   "metadata": {},
   "outputs": [
    {
     "name": "stdout",
     "output_type": "stream",
     "text": [
      "['Om']\n"
     ]
    }
   ],
   "source": [
    "import re\n",
    "x='Om'\n",
    "pattern='.+m$'\n",
    "print(re.findall(pattern,x))"
   ]
  },
  {
   "cell_type": "code",
   "execution_count": 35,
   "id": "020c899f",
   "metadata": {},
   "outputs": [
    {
     "name": "stdout",
     "output_type": "stream",
     "text": [
      "['Sakshi']\n"
     ]
    }
   ],
   "source": [
    "import re\n",
    "x='Sakshi'\n",
    "pattern='^S.+i$'\n",
    "print(re.findall(pattern,x))"
   ]
  },
  {
   "cell_type": "code",
   "execution_count": 36,
   "id": "b24d174c",
   "metadata": {},
   "outputs": [
    {
     "name": "stdout",
     "output_type": "stream",
     "text": [
      "[]\n"
     ]
    }
   ],
   "source": [
    "# + one or more occurance of characters\n",
    "import re\n",
    "x='Om'\n",
    "pattern='^O.+m$'\n",
    "print(re.findall(pattern,x))"
   ]
  },
  {
   "cell_type": "code",
   "execution_count": 37,
   "id": "646cd38b",
   "metadata": {},
   "outputs": [
    {
     "name": "stdout",
     "output_type": "stream",
     "text": [
      "['Sakshi']\n"
     ]
    }
   ],
   "source": [
    "import re\n",
    "x='Sakshi'\n",
    "pattern='^S.*i$'\n",
    "print(re.findall(pattern,x))"
   ]
  },
  {
   "cell_type": "code",
   "execution_count": 38,
   "id": "0b79fa07",
   "metadata": {},
   "outputs": [
    {
     "name": "stdout",
     "output_type": "stream",
     "text": [
      "['Om']\n"
     ]
    }
   ],
   "source": [
    "# * zero or more occurance of characters\n",
    "import re\n",
    "x='Om'\n",
    "pattern='^O.*m$'\n",
    "print(re.findall(pattern,x))"
   ]
  },
  {
   "cell_type": "code",
   "execution_count": 46,
   "id": "c46f4336",
   "metadata": {},
   "outputs": [
    {
     "name": "stdout",
     "output_type": "stream",
     "text": [
      "bye\n",
      "hie\n",
      "eye\n",
      "ice\n",
      "table\n",
      "false\n",
      "type\n",
      "true\n"
     ]
    }
   ],
   "source": [
    "import re\n",
    "paragraph='''bye hie \n",
    "            sweet eye hello\n",
    "            ice table false\n",
    "            type true happy\n",
    "            sky'''\n",
    "#to filter words those are end with character 'e'\n",
    "#convert string into list\n",
    "pattern='.*e$'\n",
    "for word in paragraph.split():\n",
    "    #print(word)\n",
    "    if re.findall(pattern,word):\n",
    "        print(word)"
   ]
  },
  {
   "cell_type": "code",
   "execution_count": 65,
   "id": "161c3adc",
   "metadata": {},
   "outputs": [
    {
     "data": {
      "text/plain": [
       "['1234', '5678', '8901', '2345']"
      ]
     },
     "execution_count": 65,
     "metadata": {},
     "output_type": "execute_result"
    }
   ],
   "source": [
    "import re\n",
    "debit_card='1234 5678 8901 2345'\n",
    "pattern='(\\d{4})'\n",
    "re.findall(pattern,debit_card)\n"
   ]
  },
  {
   "cell_type": "code",
   "execution_count": 66,
   "id": "be7c0e15",
   "metadata": {},
   "outputs": [
    {
     "data": {
      "text/plain": [
       "<re.Match object; span=(0, 4), match='1234'>"
      ]
     },
     "execution_count": 66,
     "metadata": {},
     "output_type": "execute_result"
    }
   ],
   "source": [
    "import re\n",
    "debit_card='1234 5678 8901 2345'\n",
    "pattern='(\\d{4})'\n",
    "re.search(pattern,debit_card)"
   ]
  },
  {
   "cell_type": "code",
   "execution_count": 67,
   "id": "5cca086c",
   "metadata": {},
   "outputs": [
    {
     "data": {
      "text/plain": [
       "<re.Match object; span=(0, 4), match='1234'>"
      ]
     },
     "execution_count": 67,
     "metadata": {},
     "output_type": "execute_result"
    }
   ],
   "source": [
    "import re\n",
    "debit_card='1234 5678 8901 2345'\n",
    "pattern='(\\d{4})'\n",
    "re.match(pattern,debit_card)"
   ]
  },
  {
   "cell_type": "code",
   "execution_count": 71,
   "id": "74d28119",
   "metadata": {},
   "outputs": [
    {
     "name": "stdout",
     "output_type": "stream",
     "text": [
      "1234 5678 8901 2345\n",
      "1234\n",
      "5678\n",
      "8901\n",
      "2345\n"
     ]
    }
   ],
   "source": [
    "import re\n",
    "debit_card='1234 5678 8901 2345'\n",
    "pattern='(\\d{4}) (\\d{4}) (\\d{4}) (\\d{4})'\n",
    "g1=re.search(pattern,debit_card)\n",
    "print(g1.group())\n",
    "print(g1.group(1))\n",
    "print(g1.group(2))\n",
    "print(g1.group(3))\n",
    "print(g1.group(4))"
   ]
  },
  {
   "cell_type": "code",
   "execution_count": 76,
   "id": "91db72b0",
   "metadata": {},
   "outputs": [
    {
     "data": {
      "text/plain": [
       "<re.Match object; span=(5, 6), match='S'>"
      ]
     },
     "execution_count": 76,
     "metadata": {},
     "output_type": "execute_result"
    }
   ],
   "source": [
    "import re\n",
    "pattern='[A-Z]'\n",
    "name='mangeSh'\n",
    "re.search(pattern,name)"
   ]
  },
  {
   "cell_type": "code",
   "execution_count": 78,
   "id": "95ed6d65",
   "metadata": {},
   "outputs": [
    {
     "data": {
      "text/plain": [
       "<re.Match object; span=(0, 1), match='M'>"
      ]
     },
     "execution_count": 78,
     "metadata": {},
     "output_type": "execute_result"
    }
   ],
   "source": [
    "import re\n",
    "pattern='[A-Z]'\n",
    "name='MangeSh'\n",
    "re.match(pattern,name)"
   ]
  },
  {
   "cell_type": "code",
   "execution_count": 81,
   "id": "c0bc053d",
   "metadata": {},
   "outputs": [
    {
     "data": {
      "text/plain": [
       "'****Happy****Birthday****Sakshi****'"
      ]
     },
     "execution_count": 81,
     "metadata": {},
     "output_type": "execute_result"
    }
   ],
   "source": [
    "import re\n",
    "x=' Happy Birthday Sakshi '\n",
    "pattern=r'\\s'\n",
    "re.sub(pattern,'****',x)"
   ]
  },
  {
   "cell_type": "code",
   "execution_count": null,
   "id": "232b7937",
   "metadata": {},
   "outputs": [],
   "source": []
  }
 ],
 "metadata": {
  "kernelspec": {
   "display_name": "Python 3 (ipykernel)",
   "language": "python",
   "name": "python3"
  },
  "language_info": {
   "codemirror_mode": {
    "name": "ipython",
    "version": 3
   },
   "file_extension": ".py",
   "mimetype": "text/x-python",
   "name": "python",
   "nbconvert_exporter": "python",
   "pygments_lexer": "ipython3",
   "version": "3.11.5"
  }
 },
 "nbformat": 4,
 "nbformat_minor": 5
}
