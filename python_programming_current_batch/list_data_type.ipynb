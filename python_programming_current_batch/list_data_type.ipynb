{
 "cells": [
  {
   "cell_type": "code",
   "execution_count": 1,
   "id": "f2550ff2",
   "metadata": {},
   "outputs": [
    {
     "name": "stdout",
     "output_type": "stream",
     "text": [
      "<class 'list'>\n"
     ]
    }
   ],
   "source": [
    "#empty list initialization\n",
    "x=[]\n",
    "print(type(x))"
   ]
  },
  {
   "cell_type": "code",
   "execution_count": 2,
   "id": "4d023552",
   "metadata": {},
   "outputs": [
    {
     "name": "stdout",
     "output_type": "stream",
     "text": [
      "<class 'list'>\n"
     ]
    }
   ],
   "source": [
    "#empty list initialization\n",
    "y=list()\n",
    "print(type(y))"
   ]
  },
  {
   "cell_type": "code",
   "execution_count": 3,
   "id": "ee4000fc",
   "metadata": {},
   "outputs": [
    {
     "data": {
      "text/plain": [
       "['Pranay', 'Ketaki']"
      ]
     },
     "execution_count": 3,
     "metadata": {},
     "output_type": "execute_result"
    }
   ],
   "source": [
    "names=['Ketaki','Pranay','Sohan','Mangesh']\n",
    "names[1::-1]"
   ]
  },
  {
   "cell_type": "code",
   "execution_count": 4,
   "id": "5653c2ef",
   "metadata": {},
   "outputs": [
    {
     "data": {
      "text/plain": [
       "[]"
      ]
     },
     "execution_count": 4,
     "metadata": {},
     "output_type": "execute_result"
    }
   ],
   "source": [
    "names[2:3:-1]"
   ]
  },
  {
   "cell_type": "code",
   "execution_count": 5,
   "id": "b0fb42da",
   "metadata": {},
   "outputs": [
    {
     "data": {
      "text/plain": [
       "['Sohan', 'Pranay', 'Ketaki']"
      ]
     },
     "execution_count": 5,
     "metadata": {},
     "output_type": "execute_result"
    }
   ],
   "source": [
    "names[2::-1]"
   ]
  },
  {
   "cell_type": "code",
   "execution_count": 6,
   "id": "f6d8dead",
   "metadata": {},
   "outputs": [
    {
     "data": {
      "text/plain": [
       "['Mangesh']"
      ]
     },
     "execution_count": 6,
     "metadata": {},
     "output_type": "execute_result"
    }
   ],
   "source": [
    "names[:2:-1]"
   ]
  },
  {
   "cell_type": "code",
   "execution_count": 7,
   "id": "5b9593eb",
   "metadata": {},
   "outputs": [
    {
     "data": {
      "text/plain": [
       "['Mangesh', 'Sohan', 'Pranay', 'Ketaki']"
      ]
     },
     "execution_count": 7,
     "metadata": {},
     "output_type": "execute_result"
    }
   ],
   "source": [
    "names[::-1]"
   ]
  },
  {
   "cell_type": "code",
   "execution_count": 8,
   "id": "e02db4a4",
   "metadata": {},
   "outputs": [
    {
     "data": {
      "text/plain": [
       "['Mangesh']"
      ]
     },
     "execution_count": 8,
     "metadata": {},
     "output_type": "execute_result"
    }
   ],
   "source": [
    "names[:2:-2]"
   ]
  },
  {
   "cell_type": "code",
   "execution_count": 9,
   "id": "5a50a2a2",
   "metadata": {},
   "outputs": [],
   "source": [
    "#List operations\n",
    "#add elements into a list\n",
    "names=['Ketaki','Pranay','Sohan','Mangesh']\n",
    "#add single element only\n",
    "names.append('Omkar')"
   ]
  },
  {
   "cell_type": "code",
   "execution_count": 10,
   "id": "57bdce18",
   "metadata": {},
   "outputs": [
    {
     "data": {
      "text/plain": [
       "['Ketaki', 'Pranay', 'Sohan', 'Mangesh', 'Omkar']"
      ]
     },
     "execution_count": 10,
     "metadata": {},
     "output_type": "execute_result"
    }
   ],
   "source": [
    "names"
   ]
  },
  {
   "cell_type": "code",
   "execution_count": 11,
   "id": "39db53a0",
   "metadata": {},
   "outputs": [
    {
     "data": {
      "text/plain": [
       "['Ketaki', 'Pranay', 'Sohan', 'Mangesh', 'Omkar', 'Sakshi', 'Sayali']"
      ]
     },
     "execution_count": 11,
     "metadata": {},
     "output_type": "execute_result"
    }
   ],
   "source": [
    "#add more than one element\n",
    "names.extend(['Sakshi','Sayali'])\n",
    "names"
   ]
  },
  {
   "cell_type": "code",
   "execution_count": 12,
   "id": "1b810226",
   "metadata": {},
   "outputs": [
    {
     "data": {
      "text/plain": [
       "['Ketaki', 'Pranay', 'Sohan', 'Mangesh', 'Sahil', 'Omkar', 'Sakshi', 'Sayali']"
      ]
     },
     "execution_count": 12,
     "metadata": {},
     "output_type": "execute_result"
    }
   ],
   "source": [
    "#using insert function we can add element to a particular location\n",
    "#syntaxt=>insert(index,element)\n",
    "names.insert(4,'Sahil')\n",
    "names"
   ]
  },
  {
   "cell_type": "code",
   "execution_count": 13,
   "id": "e7b63b4f",
   "metadata": {},
   "outputs": [
    {
     "data": {
      "text/plain": [
       "7"
      ]
     },
     "execution_count": 13,
     "metadata": {},
     "output_type": "execute_result"
    }
   ],
   "source": [
    "#index() function\n",
    "names.index('Sayali')"
   ]
  },
  {
   "cell_type": "code",
   "execution_count": 14,
   "id": "ccf785d6",
   "metadata": {},
   "outputs": [
    {
     "name": "stdout",
     "output_type": "stream",
     "text": [
      "['Ketaki', 'Pranay', 'Sohan', 'Mangesh', 'Sahil', 'Omkar', 'Sakshi', 'Deepali', 'Sayali']\n"
     ]
    }
   ],
   "source": [
    "names.insert(7,'Deepali')\n",
    "print(names)"
   ]
  },
  {
   "cell_type": "code",
   "execution_count": 15,
   "id": "ec34e49f",
   "metadata": {},
   "outputs": [
    {
     "data": {
      "text/plain": [
       "['Sayali',\n",
       " 'Pranay',\n",
       " 'Sohan',\n",
       " 'Mangesh',\n",
       " 'Sahil',\n",
       " 'Omkar',\n",
       " 'Sakshi',\n",
       " 'Deepali',\n",
       " 'Ketaki']"
      ]
     },
     "execution_count": 15,
     "metadata": {},
     "output_type": "execute_result"
    }
   ],
   "source": [
    "temp=names[0]\n",
    "names[0]=names[-1]\n",
    "names[-1]=temp\n",
    "names"
   ]
  },
  {
   "cell_type": "code",
   "execution_count": 16,
   "id": "ca7d8db6",
   "metadata": {},
   "outputs": [
    {
     "data": {
      "text/plain": [
       "['Sayali',\n",
       " 'Pranay',\n",
       " 'Sohan',\n",
       " 'Mangesh',\n",
       " 'Sahil',\n",
       " 'Omkar',\n",
       " 'Sakshi',\n",
       " 'Deepali',\n",
       " 'Ketaki',\n",
       " 'Jayesh',\n",
       " 'Bhusan']"
      ]
     },
     "execution_count": 16,
     "metadata": {},
     "output_type": "execute_result"
    }
   ],
   "source": [
    "names+=['Jayesh','Bhusan']  # + operator is similar to extend function.\n",
    "names"
   ]
  },
  {
   "cell_type": "code",
   "execution_count": 19,
   "id": "2befd3f0",
   "metadata": {},
   "outputs": [
    {
     "name": "stdout",
     "output_type": "stream",
     "text": [
      "Original list [23, 78, 90, 45, 75]\n",
      "Duplicate list  [23, 78, 90, 45, 75]\n",
      "Id of numbers 2992116804800\n",
      "Id of new numbers 2992116804800\n",
      "Original list [23, 78, 90, 45, 75, 55, 66, 77]\n",
      "Duplicate list  [23, 78, 90, 45, 75, 55, 66, 77]\n"
     ]
    }
   ],
   "source": [
    "numbers=[23,78,90,45,75]\n",
    "new_numbers=numbers\n",
    "print(\"Original list\",numbers)\n",
    "print(\"Duplicate list \",new_numbers)\n",
    "print(\"Id of numbers\",id(numbers))\n",
    "print(\"Id of new numbers\",id(new_numbers))\n",
    "numbers+=[55,66,77]\n",
    "print(\"Original list\",numbers)\n",
    "print(\"Duplicate list \",new_numbers)"
   ]
  },
  {
   "cell_type": "code",
   "execution_count": 20,
   "id": "15f96058",
   "metadata": {},
   "outputs": [
    {
     "name": "stdout",
     "output_type": "stream",
     "text": [
      "[11, 22, 33, 44, 55, 66, 77, 88]\n",
      "[11, 22, 33, 44, 55, 66, 77, 88]\n",
      "[11, 22, 33, 44, 55, 66, 77, 88]\n"
     ]
    }
   ],
   "source": [
    "x=[11,22,33,44,55]\n",
    "y=x\n",
    "z=y\n",
    "y.extend([66,77,88])\n",
    "print(x)\n",
    "print(y)\n",
    "print(z)"
   ]
  },
  {
   "cell_type": "code",
   "execution_count": 24,
   "id": "8e039db1",
   "metadata": {},
   "outputs": [
    {
     "name": "stdout",
     "output_type": "stream",
     "text": [
      "[11, 22, 33, 44, 55]\n",
      "[11, 22, 33, 44, 55]\n",
      "[66, 77, 88, 66, 77, 88]\n"
     ]
    }
   ],
   "source": [
    "x=[11,22,33,44,55]\n",
    "y=x\n",
    "z=[66,77,88]\n",
    "z=z*2\n",
    "print(x)\n",
    "print(y)\n",
    "print(z)"
   ]
  },
  {
   "cell_type": "code",
   "execution_count": 25,
   "id": "c01877c2",
   "metadata": {},
   "outputs": [
    {
     "data": {
      "text/plain": [
       "['Sayali',\n",
       " 'Pranay',\n",
       " 'Sohan',\n",
       " 'Mangesh',\n",
       " 'Sahil',\n",
       " 'Omkar',\n",
       " 'Sakshi',\n",
       " 'Deepali',\n",
       " 'Ketaki',\n",
       " 'Jayesh',\n",
       " 'Bhusan']"
      ]
     },
     "execution_count": 25,
     "metadata": {},
     "output_type": "execute_result"
    }
   ],
   "source": [
    "names"
   ]
  },
  {
   "cell_type": "code",
   "execution_count": 26,
   "id": "f63aeb76",
   "metadata": {},
   "outputs": [
    {
     "data": {
      "text/plain": [
       "5"
      ]
     },
     "execution_count": 26,
     "metadata": {},
     "output_type": "execute_result"
    }
   ],
   "source": [
    "#update list element\n",
    "names.index('Omkar')"
   ]
  },
  {
   "cell_type": "code",
   "execution_count": 27,
   "id": "bdd3ff84",
   "metadata": {},
   "outputs": [
    {
     "data": {
      "text/plain": [
       "['Sayali',\n",
       " 'Pranay',\n",
       " 'Sohan',\n",
       " 'Mangesh',\n",
       " 'Sahil',\n",
       " 'Aditya',\n",
       " 'Sakshi',\n",
       " 'Deepali',\n",
       " 'Ketaki',\n",
       " 'Jayesh',\n",
       " 'Bhusan']"
      ]
     },
     "execution_count": 27,
     "metadata": {},
     "output_type": "execute_result"
    }
   ],
   "source": [
    "names[5]='Aditya'\n",
    "names"
   ]
  },
  {
   "cell_type": "code",
   "execution_count": 28,
   "id": "b461c5b8",
   "metadata": {},
   "outputs": [
    {
     "data": {
      "text/plain": [
       "6"
      ]
     },
     "execution_count": 28,
     "metadata": {},
     "output_type": "execute_result"
    }
   ],
   "source": [
    "names.index('Sakshi')"
   ]
  },
  {
   "cell_type": "code",
   "execution_count": 29,
   "id": "3fc88788",
   "metadata": {},
   "outputs": [
    {
     "data": {
      "text/plain": [
       "8"
      ]
     },
     "execution_count": 29,
     "metadata": {},
     "output_type": "execute_result"
    }
   ],
   "source": [
    "names.index('Ketaki')"
   ]
  },
  {
   "cell_type": "code",
   "execution_count": 30,
   "id": "276b37da",
   "metadata": {},
   "outputs": [
    {
     "data": {
      "text/plain": [
       "['Sayali',\n",
       " 'Pranay',\n",
       " 'Sohan',\n",
       " 'Mangesh',\n",
       " 'Sahil',\n",
       " 'Aditya',\n",
       " 'Bhagyashree',\n",
       " 'Prathamesh',\n",
       " 'Sandesh',\n",
       " 'Jayesh',\n",
       " 'Bhusan']"
      ]
     },
     "execution_count": 30,
     "metadata": {},
     "output_type": "execute_result"
    }
   ],
   "source": [
    "names[6:9]=['Bhagyashree','Prathamesh','Sandesh']\n",
    "names"
   ]
  },
  {
   "cell_type": "code",
   "execution_count": 1,
   "id": "342e1ee3",
   "metadata": {},
   "outputs": [
    {
     "name": "stdout",
     "output_type": "stream",
     "text": [
      "Ascending order elements are [12, 17, 21, 23, 29, 31, 56, 78, 89, 90]\n"
     ]
    }
   ],
   "source": [
    "numbers=[21,78,23,31,90,56,89,12,17,29]\n",
    "#arrange list elements in ascending order\n",
    "numbers.sort()\n",
    "print(\"Ascending order elements are\",numbers)"
   ]
  },
  {
   "cell_type": "code",
   "execution_count": 2,
   "id": "2b1cf93a",
   "metadata": {},
   "outputs": [
    {
     "name": "stdout",
     "output_type": "stream",
     "text": [
      "Descending order elements are [95, 90, 90, 89, 78, 67, 54, 34, 32, 12]\n"
     ]
    }
   ],
   "source": [
    "#arrange elements in descending order\n",
    "sample=[67,89,34,90,32,78,12,90,54,95]\n",
    "sample.sort(reverse=True)\n",
    "print(\"Descending order elements are\",sample)"
   ]
  },
  {
   "cell_type": "code",
   "execution_count": 3,
   "id": "f9623ccb",
   "metadata": {},
   "outputs": [
    {
     "name": "stdout",
     "output_type": "stream",
     "text": [
      "Festival names in ascending order ['Dasara', 'Diwali', 'Ganapati', 'Happy New Year', 'Holi']\n"
     ]
    }
   ],
   "source": [
    "festival_names=['Dasara','Diwali','Happy New Year','Holi','Ganapati']\n",
    "#ascending order \n",
    "festival_names.sort() #ascii value  of A-Z\n",
    "print(\"Festival names in ascending order\",festival_names)"
   ]
  },
  {
   "cell_type": "code",
   "execution_count": 4,
   "id": "90a7a8af",
   "metadata": {},
   "outputs": [
    {
     "name": "stdout",
     "output_type": "stream",
     "text": [
      "Festival names in ascending order ['Dasara', 'Ganapati', 'Happy New Year', 'Holi', 'diwali']\n"
     ]
    }
   ],
   "source": [
    "festival_names=['Dasara','diwali','Happy New Year','Holi','Ganapati']\n",
    "#ascending order \n",
    "festival_names.sort() #ascii value  of A-Z and a-z\n",
    "print(\"Festival names in ascending order\",festival_names)"
   ]
  },
  {
   "cell_type": "code",
   "execution_count": 6,
   "id": "62927df7",
   "metadata": {},
   "outputs": [
    {
     "name": "stdout",
     "output_type": "stream",
     "text": [
      "Students marks in descending order :=> [95, 90, 90, 89, 78, 67, 54, 34, 32, 12]\n",
      "Topper marks are [95, 90, 90]\n"
     ]
    }
   ],
   "source": [
    "#arrange elements in descending order\n",
    "student_marks=[67,89,34,90,32,78,12,90,54,95]\n",
    "student_marks.sort(reverse=True)\n",
    "print(\"Students marks in descending order :=>\",student_marks)\n",
    "print(\"Topper marks are\",student_marks[0:3])"
   ]
  },
  {
   "cell_type": "code",
   "execution_count": 7,
   "id": "e359def0",
   "metadata": {},
   "outputs": [
    {
     "data": {
      "text/plain": [
       "3"
      ]
     },
     "execution_count": 7,
     "metadata": {},
     "output_type": "execute_result"
    }
   ],
   "source": [
    "#count()\n",
    "name=[20,30,67,89,34,30,30,20]\n",
    "name.count(30)"
   ]
  },
  {
   "cell_type": "code",
   "execution_count": 8,
   "id": "00b3196f",
   "metadata": {},
   "outputs": [
    {
     "data": {
      "text/plain": [
       "2"
      ]
     },
     "execution_count": 8,
     "metadata": {},
     "output_type": "execute_result"
    }
   ],
   "source": [
    "names=['Yash','Bhagyashree','Sakshi','Sayali','Aniket','Yash','Bhagyashree']\n",
    "names.count('Bhagyashree')"
   ]
  },
  {
   "cell_type": "code",
   "execution_count": 9,
   "id": "41c0f773",
   "metadata": {},
   "outputs": [
    {
     "data": {
      "text/plain": [
       "Counter({'Yash': 2, 'Bhagyashree': 2, 'Sakshi': 1, 'Sayali': 1, 'Aniket': 1})"
      ]
     },
     "execution_count": 9,
     "metadata": {},
     "output_type": "execute_result"
    }
   ],
   "source": [
    "from collections import Counter\n",
    "names=['Yash','Bhagyashree','Sakshi','Sayali','Aniket','Yash','Bhagyashree']\n",
    "Counter(names)"
   ]
  },
  {
   "cell_type": "code",
   "execution_count": 24,
   "id": "cc7bf498",
   "metadata": {},
   "outputs": [
    {
     "name": "stdout",
     "output_type": "stream",
     "text": [
      "['Yash', 2, 'Bhagyashree', 2, 'Sakshi', 1, 'Sayali', 1, 'Aniket', 1]\n"
     ]
    }
   ],
   "source": [
    "names=['Yash','Bhagyashree','Sakshi','Sayali','Aniket','Yash','Bhagyashree']\n",
    "count_names=[]\n",
    "for n in names:\n",
    "    if n not in count_names:\n",
    "        element_count=names.count(n)\n",
    "        count_names.extend([n,element_count])\n",
    "print(count_names)\n",
    "   \n",
    "   "
   ]
  },
  {
   "cell_type": "code",
   "execution_count": 25,
   "id": "9cf18df5",
   "metadata": {},
   "outputs": [
    {
     "name": "stdout",
     "output_type": "stream",
     "text": [
      "['Bhagyashree', 'Yash', 'Aniket', 'Sayali', 'Sakshi', 'Bhagyashree', 'Yash']\n"
     ]
    }
   ],
   "source": [
    "names=['Yash','Bhagyashree','Sakshi','Sayali','Aniket','Yash','Bhagyashree']\n",
    "#reverse() is used to read list in reverse direction(from right to left)\n",
    "names.reverse() #access -ve indexing element from -1 to onwards\n",
    "print(names)"
   ]
  },
  {
   "cell_type": "code",
   "execution_count": 26,
   "id": "bd9d32ec",
   "metadata": {},
   "outputs": [
    {
     "name": "stdout",
     "output_type": "stream",
     "text": [
      "['Yash', 'Bhagyashree', 'Sakshi', 'Sayali', 'Aniket', 'Yash']\n"
     ]
    }
   ],
   "source": [
    "names=['Yash','Bhagyashree','Sakshi','Sayali','Aniket','Yash','Bhagyashree']\n",
    "#remove element from a list\n",
    "names.pop() #remove last element of list\n",
    "print(names)"
   ]
  },
  {
   "cell_type": "code",
   "execution_count": 29,
   "id": "72bd43d7",
   "metadata": {},
   "outputs": [
    {
     "name": "stdout",
     "output_type": "stream",
     "text": [
      "['Yash', 'Bhagyashree', 'Sakshi', 'Sayali', 'Yash', 'Bhagyashree']\n"
     ]
    }
   ],
   "source": [
    "names=['Yash','Bhagyashree','Sakshi','Sayali','Aniket','Yash','Bhagyashree']\n",
    "#remove particular element from a list\n",
    "names.remove('Aniket')\n",
    "print(names)"
   ]
  },
  {
   "cell_type": "code",
   "execution_count": 30,
   "id": "4d028af1",
   "metadata": {},
   "outputs": [
    {
     "name": "stdout",
     "output_type": "stream",
     "text": [
      "Original list [23, 78, 90, 45, 75]\n",
      "Duplicate list  [23, 78, 90, 45, 75]\n",
      "Id of numbers 2098790171456\n",
      "Id of new numbers 2098790171456\n",
      "Original list [23, 78, 90, 45, 75, 55, 66, 77]\n",
      "Duplicate list  [23, 78, 90, 45, 75, 55, 66, 77]\n"
     ]
    }
   ],
   "source": [
    "#important\n",
    "numbers=[23,78,90,45,75]\n",
    "new_numbers=numbers\n",
    "print(\"Original list\",numbers)\n",
    "print(\"Duplicate list \",new_numbers)\n",
    "print(\"Id of numbers\",id(numbers))\n",
    "print(\"Id of new numbers\",id(new_numbers))\n",
    "numbers+=[55,66,77]\n",
    "print(\"Original list\",numbers)\n",
    "print(\"Duplicate list \",new_numbers)"
   ]
  },
  {
   "cell_type": "code",
   "execution_count": 32,
   "id": "75d1ac7e",
   "metadata": {},
   "outputs": [
    {
     "name": "stdout",
     "output_type": "stream",
     "text": [
      "Original list [23, 78, 90, 45, 75]\n",
      "Duplicate list  [23, 78, 90, 45, 75]\n",
      "Original list [23, 78, 90, 45, 75, 55, 66, 77]\n",
      "Duplicate list  [23, 78, 90, 45, 75]\n"
     ]
    }
   ],
   "source": [
    "#important \n",
    "numbers=[23,78,90,45,75]\n",
    "new_numbers=numbers.copy()\n",
    "print(\"Original list\",numbers)\n",
    "print(\"Duplicate list \",new_numbers)\n",
    "#print(\"Id of numbers\",id(numbers))\n",
    "#print(\"Id of new numbers\",id(new_numbers))\n",
    "numbers+=[55,66,77]\n",
    "print(\"Original list\",numbers)\n",
    "print(\"Duplicate list \",new_numbers)"
   ]
  },
  {
   "cell_type": "code",
   "execution_count": 42,
   "id": "f6d87194",
   "metadata": {},
   "outputs": [
    {
     "name": "stdout",
     "output_type": "stream",
     "text": [
      "Id of original list 2098787096768\n",
      "Id of duplicate list 2098791496960\n",
      "Original list [10, 20, 30, [70, 50]]\n",
      "Duplicate list  [10, 20, 30, [70, 50]]\n"
     ]
    }
   ],
   "source": [
    "#shallow copy and deep copy in list\n",
    "import copy\n",
    "numbers=[10,20,30,[40,50]]\n",
    "duplicate_number_list1=copy.copy(numbers) #shallow copy\n",
    "print(\"Id of original list\",id(numbers))\n",
    "print(\"Id of duplicate list\",id(duplicate_number_list1))\n",
    "numbers[3][0]=70\n",
    "print(\"Original list\",numbers)\n",
    "print(\"Duplicate list \",duplicate_number_list1)"
   ]
  },
  {
   "cell_type": "code",
   "execution_count": 44,
   "id": "e0fe5174",
   "metadata": {},
   "outputs": [
    {
     "name": "stdout",
     "output_type": "stream",
     "text": [
      "Id of original list 2098810040896\n",
      "Id of duplicate list 2098810032512\n",
      "Original list [10, 20, 30, [90, 50]]\n",
      "Duplicate list  [10, 20, 30, [40, 50]]\n"
     ]
    }
   ],
   "source": [
    "#shallow copy and deep copy in list\n",
    "import copy\n",
    "numbers=[10,20,30,[40,50]]\n",
    "duplicate_number_list1=copy.deepcopy(numbers) #deep copy\n",
    "print(\"Id of original list\",id(numbers))\n",
    "print(\"Id of duplicate list\",id(duplicate_number_list1))\n",
    "numbers[3][0]=90\n",
    "print(\"Original list\",numbers)\n",
    "print(\"Duplicate list \",duplicate_number_list1)"
   ]
  },
  {
   "cell_type": "markdown",
   "id": "989c9623",
   "metadata": {},
   "source": [
    "Tuple data type"
   ]
  },
  {
   "cell_type": "code",
   "execution_count": 45,
   "id": "4a8add8f",
   "metadata": {},
   "outputs": [
    {
     "name": "stdout",
     "output_type": "stream",
     "text": [
      "<class 'tuple'>\n"
     ]
    }
   ],
   "source": [
    "x=(10,20,30,45,78)\n",
    "print(type(x))"
   ]
  },
  {
   "cell_type": "code",
   "execution_count": 46,
   "id": "fbfa1e0e",
   "metadata": {},
   "outputs": [
    {
     "data": {
      "text/plain": [
       "2"
      ]
     },
     "execution_count": 46,
     "metadata": {},
     "output_type": "execute_result"
    }
   ],
   "source": [
    "x=(10,20,30,45,78)\n",
    "x.index(30)"
   ]
  },
  {
   "cell_type": "code",
   "execution_count": 47,
   "id": "bbd1d714",
   "metadata": {},
   "outputs": [
    {
     "data": {
      "text/plain": [
       "1"
      ]
     },
     "execution_count": 47,
     "metadata": {},
     "output_type": "execute_result"
    }
   ],
   "source": [
    "x.count(45)"
   ]
  },
  {
   "cell_type": "code",
   "execution_count": 50,
   "id": "ae7cb0f3",
   "metadata": {},
   "outputs": [
    {
     "data": {
      "text/plain": [
       "Counter({20: 4, 30: 2, 78: 2, 10: 1, 45: 1})"
      ]
     },
     "execution_count": 50,
     "metadata": {},
     "output_type": "execute_result"
    }
   ],
   "source": [
    "from collections import Counter\n",
    "x=(10,20,30,45,78,78,20,20,20,30)\n",
    "Counter(x)"
   ]
  },
  {
   "cell_type": "code",
   "execution_count": 52,
   "id": "e4da4a62",
   "metadata": {},
   "outputs": [
    {
     "name": "stdout",
     "output_type": "stream",
     "text": [
      "Ascending order tuple [10, 20, 20, 20, 20, 30, 30, 45, 78, 78]\n"
     ]
    }
   ],
   "source": [
    "x=(10,20,30,45,78,78,20,20,20,30)\n",
    "#arrange tuple in ascending order\n",
    "x_sort=sorted(x)\n",
    "print(\"Ascending order tuple\",x_sort)"
   ]
  },
  {
   "cell_type": "code",
   "execution_count": 53,
   "id": "b4beb1fe",
   "metadata": {},
   "outputs": [
    {
     "name": "stdout",
     "output_type": "stream",
     "text": [
      "Descending order tuple [78, 78, 45, 30, 30, 20, 20, 20, 20, 10]\n"
     ]
    }
   ],
   "source": [
    "x=(10,20,30,45,78,78,20,20,20,30)\n",
    "#arrange tuple in descending order\n",
    "x_sort=sorted(x,reverse=True)\n",
    "print(\"Descending order tuple\",x_sort)"
   ]
  },
  {
   "cell_type": "code",
   "execution_count": null,
   "id": "9055e76a",
   "metadata": {},
   "outputs": [],
   "source": [
    "#difference append() and extend()\n",
    "#diference between shallow copy and deep copy\n",
    "#difference between list and tuple\n",
    "#difference between sort and sorted function\n",
    "#How we can update list element?"
   ]
  }
 ],
 "metadata": {
  "kernelspec": {
   "display_name": "Python 3 (ipykernel)",
   "language": "python",
   "name": "python3"
  },
  "language_info": {
   "codemirror_mode": {
    "name": "ipython",
    "version": 3
   },
   "file_extension": ".py",
   "mimetype": "text/x-python",
   "name": "python",
   "nbconvert_exporter": "python",
   "pygments_lexer": "ipython3",
   "version": "3.11.5"
  }
 },
 "nbformat": 4,
 "nbformat_minor": 5
}
