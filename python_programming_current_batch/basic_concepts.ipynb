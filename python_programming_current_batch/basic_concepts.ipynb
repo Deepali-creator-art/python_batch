{
 "cells": [
  {
   "cell_type": "code",
   "execution_count": 1,
   "id": "173b9521",
   "metadata": {},
   "outputs": [
    {
     "data": {
      "text/plain": [
       "'pythonprogramming'"
      ]
     },
     "execution_count": 1,
     "metadata": {},
     "output_type": "execute_result"
    }
   ],
   "source": [
    "a='python'\n",
    "b='programming'\n",
    "a+b"
   ]
  },
  {
   "cell_type": "markdown",
   "id": "262da29b",
   "metadata": {},
   "source": [
    "# python basic concepts"
   ]
  },
  {
   "cell_type": "markdown",
   "id": "013321a3",
   "metadata": {},
   "source": [
    "print() is used to display an output message."
   ]
  },
  {
   "cell_type": "code",
   "execution_count": 4,
   "id": "669ac2b1",
   "metadata": {},
   "outputs": [
    {
     "data": {
      "text/plain": [
       "30"
      ]
     },
     "execution_count": 4,
     "metadata": {},
     "output_type": "execute_result"
    }
   ],
   "source": [
    "p=10\n",
    "q=20\n",
    "p+q"
   ]
  },
  {
   "cell_type": "code",
   "execution_count": 5,
   "id": "8a88e720",
   "metadata": {},
   "outputs": [
    {
     "data": {
      "text/plain": [
       "'pythonprogramming'"
      ]
     },
     "execution_count": 5,
     "metadata": {},
     "output_type": "execute_result"
    }
   ],
   "source": [
    "a+b"
   ]
  },
  {
   "cell_type": "code",
   "execution_count": 6,
   "id": "c787de55",
   "metadata": {},
   "outputs": [
    {
     "data": {
      "text/plain": [
       "'python'"
      ]
     },
     "execution_count": 6,
     "metadata": {},
     "output_type": "execute_result"
    }
   ],
   "source": [
    "a"
   ]
  },
  {
   "cell_type": "code",
   "execution_count": 7,
   "id": "feb4729a",
   "metadata": {},
   "outputs": [
    {
     "data": {
      "text/plain": [
       "'programming'"
      ]
     },
     "execution_count": 7,
     "metadata": {},
     "output_type": "execute_result"
    }
   ],
   "source": [
    "b"
   ]
  },
  {
   "cell_type": "markdown",
   "id": "263d15d8",
   "metadata": {},
   "source": [
    "# Data types in python"
   ]
  },
  {
   "cell_type": "markdown",
   "id": "1f62f446",
   "metadata": {},
   "source": [
    "Numeric data type :=>\n",
    "    1.Integer\n",
    "    2.Float\n",
    "    3.Complex"
   ]
  },
  {
   "cell_type": "code",
   "execution_count": 6,
   "id": "5ac34e06",
   "metadata": {},
   "outputs": [
    {
     "name": "stdout",
     "output_type": "stream",
     "text": [
      "<class 'int'>\n",
      "<class 'float'>\n",
      "<class 'complex'>\n"
     ]
    }
   ],
   "source": [
    "a=2024 #int\n",
    "b=3.12 #float\n",
    "c=3+7j #complex\n",
    "#how to identify the data type of variable\n",
    "print(type(a))\n",
    "print(type(b))\n",
    "print(type(c))"
   ]
  },
  {
   "cell_type": "markdown",
   "id": "691454a6",
   "metadata": {},
   "source": [
    "type() is function which used to identify the data type of variable."
   ]
  },
  {
   "cell_type": "markdown",
   "id": "6f888c42",
   "metadata": {},
   "source": [
    "Boolean data type => True False"
   ]
  },
  {
   "cell_type": "code",
   "execution_count": 7,
   "id": "a5c1b337",
   "metadata": {},
   "outputs": [
    {
     "data": {
      "text/plain": [
       "2"
      ]
     },
     "execution_count": 7,
     "metadata": {},
     "output_type": "execute_result"
    }
   ],
   "source": [
    "True +True"
   ]
  },
  {
   "cell_type": "code",
   "execution_count": 8,
   "id": "9581c805",
   "metadata": {},
   "outputs": [
    {
     "data": {
      "text/plain": [
       "1"
      ]
     },
     "execution_count": 8,
     "metadata": {},
     "output_type": "execute_result"
    }
   ],
   "source": [
    "True + False"
   ]
  },
  {
   "cell_type": "code",
   "execution_count": 11,
   "id": "b4a6e61a",
   "metadata": {},
   "outputs": [
    {
     "name": "stdout",
     "output_type": "stream",
     "text": [
      "['False', 'None', 'True', 'and', 'as', 'assert', 'async', 'await', 'break', 'class', 'continue', 'def', 'del', 'elif', 'else', 'except', 'finally', 'for', 'from', 'global', 'if', 'import', 'in', 'is', 'lambda', 'nonlocal', 'not', 'or', 'pass', 'raise', 'return', 'try', 'while', 'with', 'yield']\n"
     ]
    }
   ],
   "source": [
    "import keyword\n",
    "print(keyword.kwlist)"
   ]
  },
  {
   "cell_type": "code",
   "execution_count": 18,
   "id": "ecadbe9e",
   "metadata": {},
   "outputs": [],
   "source": [
    "true =100"
   ]
  },
  {
   "cell_type": "code",
   "execution_count": 19,
   "id": "e6871ed8",
   "metadata": {},
   "outputs": [
    {
     "data": {
      "text/plain": [
       "100"
      ]
     },
     "execution_count": 19,
     "metadata": {},
     "output_type": "execute_result"
    }
   ],
   "source": [
    "true"
   ]
  },
  {
   "cell_type": "code",
   "execution_count": 22,
   "id": "37fdd9d7",
   "metadata": {},
   "outputs": [
    {
     "name": "stdout",
     "output_type": "stream",
     "text": [
      "<class 'str'>\n"
     ]
    }
   ],
   "source": [
    "name='Prathmesh'\n",
    "print(type(name))"
   ]
  },
  {
   "cell_type": "code",
   "execution_count": 27,
   "id": "802fcd38",
   "metadata": {},
   "outputs": [
    {
     "name": "stdout",
     "output_type": "stream",
     "text": [
      "Enter the name3.56\n",
      "3.56\n",
      "<class 'str'>\n"
     ]
    }
   ],
   "source": [
    "x=input(\"Enter the name\")\n",
    "print(x)\n",
    "print(type(x))"
   ]
  },
  {
   "cell_type": "code",
   "execution_count": 29,
   "id": "c15d9680",
   "metadata": {},
   "outputs": [
    {
     "name": "stdout",
     "output_type": "stream",
     "text": [
      "Enter the value789\n",
      "<class 'str'>\n",
      "Enter the second value123\n",
      "<class 'str'>\n",
      "789123\n"
     ]
    }
   ],
   "source": [
    "p=input(\"Enter the value\")\n",
    "print(type(p))\n",
    "q=input(\"Enter the second value\")\n",
    "print(type(q))\n",
    "print(p+q)"
   ]
  },
  {
   "cell_type": "code",
   "execution_count": 33,
   "id": "b3222c8c",
   "metadata": {},
   "outputs": [
    {
     "name": "stdout",
     "output_type": "stream",
     "text": [
      "Enter the value45\n",
      "<class 'int'>\n",
      "Enter the second value78\n",
      "<class 'int'>\n",
      "123\n"
     ]
    }
   ],
   "source": [
    "#Convert string data type into integer\n",
    "p=int(input(\"Enter the value\"))\n",
    "print(type(p))\n",
    "q=int(input(\"Enter the second value\"))\n",
    "print(type(q))\n",
    "print(p+q)"
   ]
  },
  {
   "cell_type": "code",
   "execution_count": 31,
   "id": "f8fa8889",
   "metadata": {},
   "outputs": [
    {
     "name": "stdout",
     "output_type": "stream",
     "text": [
      "Enter the value3.56\n",
      "<class 'float'>\n",
      "Enter the second value34\n",
      "<class 'float'>\n",
      "37.56\n"
     ]
    }
   ],
   "source": [
    "#Convert string data type into float\n",
    "p=float(input(\"Enter the value\"))\n",
    "print(type(p))\n",
    "q=float(input(\"Enter the second value\"))\n",
    "print(type(q))\n",
    "print(p+q)"
   ]
  },
  {
   "cell_type": "code",
   "execution_count": 34,
   "id": "2a1a61b3",
   "metadata": {},
   "outputs": [
    {
     "name": "stdout",
     "output_type": "stream",
     "text": [
      "Enter the value34\n",
      "<class 'complex'>\n",
      "Enter the second value67\n",
      "<class 'complex'>\n",
      "(101+0j)\n"
     ]
    }
   ],
   "source": [
    "#Convert string data type into complex\n",
    "p=complex(input(\"Enter the value\"))\n",
    "print(type(p))\n",
    "q=complex(input(\"Enter the second value\"))\n",
    "print(type(q))\n",
    "print(p+q)"
   ]
  },
  {
   "cell_type": "code",
   "execution_count": 1,
   "id": "09cc692f",
   "metadata": {},
   "outputs": [
    {
     "name": "stdout",
     "output_type": "stream",
     "text": [
      "Enter the credit amount10000\n",
      "Your account  has been credited 10000 Your current available balance is 60000\n"
     ]
    }
   ],
   "source": [
    "balance_amount=50000 #constant\n",
    "#Type casting=>convert credit variable into integer\n",
    "credit=int(input(\"Enter the credit amount\"))\n",
    "balance_amount=balance_amount+credit\n",
    "print(\"Your account  has been credited\",credit,\"Your current available balance is\",balance_amount)"
   ]
  },
  {
   "cell_type": "code",
   "execution_count": 2,
   "id": "8c0a5266",
   "metadata": {},
   "outputs": [
    {
     "name": "stdout",
     "output_type": "stream",
     "text": [
      "Enter the  usernameBhagyashri\n",
      "Welcome to Bhagyashri\n"
     ]
    }
   ],
   "source": [
    "#To write print() different ways\n",
    "#Method 1\n",
    "username=input(\"Enter the  username\")\n",
    "print(\"Welcome to\",username)"
   ]
  },
  {
   "cell_type": "code",
   "execution_count": 10,
   "id": "aeca7ea5",
   "metadata": {},
   "outputs": [
    {
     "name": "stdout",
     "output_type": "stream",
     "text": [
      "Enter the  usernamerutuja\n",
      "Welcome to rutuja\n"
     ]
    }
   ],
   "source": [
    "#Method 2\n",
    "username=input(\"Enter the  username\")\n",
    "print(f\"Welcome to {username}\") #format string"
   ]
  },
  {
   "cell_type": "code",
   "execution_count": 7,
   "id": "2ef41b1e",
   "metadata": {},
   "outputs": [
    {
     "name": "stdout",
     "output_type": "stream",
     "text": [
      "Enter the  usernamesakshi\n",
      "Welcome to sakshi\n"
     ]
    }
   ],
   "source": [
    "#Method 3\n",
    "username=input(\"Enter the  username\")\n",
    "print(\"Welcome to {}\" .format(username)) # using format method"
   ]
  },
  {
   "cell_type": "code",
   "execution_count": 8,
   "id": "1047fd02",
   "metadata": {},
   "outputs": [
    {
     "name": "stdout",
     "output_type": "stream",
     "text": [
      "Enter the  usernameDeepali\n",
      "Welcome to Deepali\n"
     ]
    }
   ],
   "source": [
    "#Method 4\n",
    "username=input(\"Enter the  username\")\n",
    "print(\"Welcome to %s\" %username) # using format method"
   ]
  },
  {
   "cell_type": "code",
   "execution_count": 12,
   "id": "0d68f9bb",
   "metadata": {},
   "outputs": [
    {
     "name": "stdout",
     "output_type": "stream",
     "text": [
      "I like panipuri Don't like pizza and burger\n",
      "I like panipuri Don't like pizza and burger\n"
     ]
    }
   ],
   "source": [
    "x='pizza'\n",
    "y='burger'\n",
    "z='panipuri'\n",
    "print(\"I like\",z,\"Don't like\",x,\"and\",y)\n",
    "print(f\"I like {z} Don't like {x} and {y}\") #placeholder {}"
   ]
  },
  {
   "cell_type": "code",
   "execution_count": 1,
   "id": "b37c59c7",
   "metadata": {},
   "outputs": [
    {
     "data": {
      "text/plain": [
       "False"
      ]
     },
     "execution_count": 1,
     "metadata": {},
     "output_type": "execute_result"
    }
   ],
   "source": [
    "bool(0)"
   ]
  },
  {
   "cell_type": "code",
   "execution_count": 2,
   "id": "6d9a61a7",
   "metadata": {},
   "outputs": [
    {
     "data": {
      "text/plain": [
       "True"
      ]
     },
     "execution_count": 2,
     "metadata": {},
     "output_type": "execute_result"
    }
   ],
   "source": [
    "bool(1)"
   ]
  },
  {
   "cell_type": "code",
   "execution_count": 3,
   "id": "e762de41",
   "metadata": {},
   "outputs": [
    {
     "data": {
      "text/plain": [
       "True"
      ]
     },
     "execution_count": 3,
     "metadata": {},
     "output_type": "execute_result"
    }
   ],
   "source": [
    "bool(100)"
   ]
  },
  {
   "cell_type": "code",
   "execution_count": 4,
   "id": "1926efe3",
   "metadata": {},
   "outputs": [
    {
     "data": {
      "text/plain": [
       "True"
      ]
     },
     "execution_count": 4,
     "metadata": {},
     "output_type": "execute_result"
    }
   ],
   "source": [
    "bool(-50)"
   ]
  },
  {
   "cell_type": "code",
   "execution_count": 5,
   "id": "ffe7337a",
   "metadata": {},
   "outputs": [
    {
     "data": {
      "text/plain": [
       "False"
      ]
     },
     "execution_count": 5,
     "metadata": {},
     "output_type": "execute_result"
    }
   ],
   "source": [
    "bool('')"
   ]
  },
  {
   "cell_type": "code",
   "execution_count": 6,
   "id": "d78dd3ab",
   "metadata": {},
   "outputs": [
    {
     "data": {
      "text/plain": [
       "True"
      ]
     },
     "execution_count": 6,
     "metadata": {},
     "output_type": "execute_result"
    }
   ],
   "source": [
    "bool('abc')"
   ]
  },
  {
   "cell_type": "code",
   "execution_count": 7,
   "id": "1e64736f",
   "metadata": {},
   "outputs": [
    {
     "data": {
      "text/plain": [
       "False"
      ]
     },
     "execution_count": 7,
     "metadata": {},
     "output_type": "execute_result"
    }
   ],
   "source": [
    "bool([])"
   ]
  },
  {
   "cell_type": "code",
   "execution_count": 8,
   "id": "85b1d7e0",
   "metadata": {},
   "outputs": [
    {
     "data": {
      "text/plain": [
       "False"
      ]
     },
     "execution_count": 8,
     "metadata": {},
     "output_type": "execute_result"
    }
   ],
   "source": [
    "bool(())"
   ]
  },
  {
   "cell_type": "code",
   "execution_count": 9,
   "id": "a83897eb",
   "metadata": {},
   "outputs": [
    {
     "data": {
      "text/plain": [
       "False"
      ]
     },
     "execution_count": 9,
     "metadata": {},
     "output_type": "execute_result"
    }
   ],
   "source": [
    "bool({})"
   ]
  },
  {
   "cell_type": "code",
   "execution_count": 10,
   "id": "25d45619",
   "metadata": {},
   "outputs": [
    {
     "data": {
      "text/plain": [
       "True"
      ]
     },
     "execution_count": 10,
     "metadata": {},
     "output_type": "execute_result"
    }
   ],
   "source": [
    "bool([10,20,30])"
   ]
  },
  {
   "cell_type": "code",
   "execution_count": 11,
   "id": "939bb4c4",
   "metadata": {},
   "outputs": [
    {
     "data": {
      "text/plain": [
       "(True, True, True, True)"
      ]
     },
     "execution_count": 11,
     "metadata": {},
     "output_type": "execute_result"
    }
   ],
   "source": [
    "bool(10),bool('*'),bool(-20),bool(90)"
   ]
  },
  {
   "cell_type": "code",
   "execution_count": 12,
   "id": "d53767fb",
   "metadata": {},
   "outputs": [
    {
     "data": {
      "text/plain": [
       "True"
      ]
     },
     "execution_count": 12,
     "metadata": {},
     "output_type": "execute_result"
    }
   ],
   "source": [
    "bool(-1000000)"
   ]
  },
  {
   "cell_type": "markdown",
   "id": "31b3a50b",
   "metadata": {},
   "source": [
    "If bool function has a zero value then result is False ,if bool function we pass any no-zero value result is True."
   ]
  },
  {
   "cell_type": "code",
   "execution_count": 13,
   "id": "8a48b823",
   "metadata": {},
   "outputs": [
    {
     "name": "stdout",
     "output_type": "stream",
     "text": [
      "Happy Sad Great\n"
     ]
    }
   ],
   "source": [
    "#Multiline statement\n",
    "a,b,c='Happy','Sad','Great'\n",
    "print(a,b,c)"
   ]
  },
  {
   "cell_type": "code",
   "execution_count": 14,
   "id": "e20b6981",
   "metadata": {},
   "outputs": [
    {
     "name": "stdout",
     "output_type": "stream",
     "text": [
      "Happy Happy Happy\n"
     ]
    }
   ],
   "source": [
    "a=b=c='Happy'\n",
    "print(a,b,c)"
   ]
  },
  {
   "cell_type": "code",
   "execution_count": 16,
   "id": "4d877470",
   "metadata": {},
   "outputs": [
    {
     "name": "stdout",
     "output_type": "stream",
     "text": [
      "210\n"
     ]
    }
   ],
   "source": [
    "x=10+20+30\\\n",
    "+40+50+60\n",
    "print(x)"
   ]
  },
  {
   "cell_type": "markdown",
   "id": "a4900638",
   "metadata": {},
   "source": [
    "Combine multiline statement using \\ symbol.\n"
   ]
  },
  {
   "cell_type": "code",
   "execution_count": 17,
   "id": "5443cd1f",
   "metadata": {},
   "outputs": [
    {
     "name": "stdout",
     "output_type": "stream",
     "text": [
      "['apple', 'pineapple', 'banana']\n",
      "<class 'list'>\n"
     ]
    }
   ],
   "source": [
    "#list data type=>[]\n",
    "fruit=['apple','pineapple','banana']\n",
    "print(fruit)\n",
    "print(type(fruit))\n",
    "#type casting we use list()"
   ]
  },
  {
   "cell_type": "code",
   "execution_count": 18,
   "id": "a69111a1",
   "metadata": {},
   "outputs": [
    {
     "name": "stdout",
     "output_type": "stream",
     "text": [
      "('apple', 'pineapple', 'banana')\n",
      "<class 'tuple'>\n"
     ]
    }
   ],
   "source": [
    "#tuple data type=>()\n",
    "fruit=('apple','pineapple','banana')\n",
    "print(fruit)\n",
    "print(type(fruit))\n",
    "#type casting we use tuple()"
   ]
  },
  {
   "cell_type": "code",
   "execution_count": 19,
   "id": "beb9cc8e",
   "metadata": {},
   "outputs": [
    {
     "name": "stdout",
     "output_type": "stream",
     "text": [
      "{'pineapple', 'banana', 'apple'}\n",
      "<class 'set'>\n"
     ]
    }
   ],
   "source": [
    "#set data type=>{}\n",
    "fruit={'apple','pineapple','banana'}\n",
    "print(fruit)\n",
    "print(type(fruit))\n",
    "#type casting we use set()"
   ]
  },
  {
   "cell_type": "code",
   "execution_count": 22,
   "id": "6bbfd5f6",
   "metadata": {},
   "outputs": [
    {
     "name": "stdout",
     "output_type": "stream",
     "text": [
      "Division operator result is 4.4\n",
      "Floor division operator result is 4\n",
      "Modulus operator result is 2\n"
     ]
    }
   ],
   "source": [
    "x=22\n",
    "y=5\n",
    "print(\"Division operator result is\",x/y)\n",
    "print(\"Floor division operator result is\",x//y)\n",
    "print(\"Modulus operator result is\",x%y)"
   ]
  },
  {
   "cell_type": "code",
   "execution_count": 23,
   "id": "89614545",
   "metadata": {},
   "outputs": [
    {
     "data": {
      "text/plain": [
       "512"
      ]
     },
     "execution_count": 23,
     "metadata": {},
     "output_type": "execute_result"
    }
   ],
   "source": [
    "2**3**2"
   ]
  },
  {
   "cell_type": "code",
   "execution_count": 24,
   "id": "b5479b3a",
   "metadata": {},
   "outputs": [
    {
     "name": "stdout",
     "output_type": "stream",
     "text": [
      "Value of x is 8\n",
      "Value of y is 3\n"
     ]
    }
   ],
   "source": [
    "x=2\n",
    "y=3\n",
    "x**=y      #x=x**y\n",
    "print(\"Value of x is\",x)\n",
    "print(\"Value of y is\",y)"
   ]
  },
  {
   "cell_type": "code",
   "execution_count": 25,
   "id": "9bed6da0",
   "metadata": {},
   "outputs": [
    {
     "name": "stdout",
     "output_type": "stream",
     "text": [
      "Value of x is 4\n",
      "Value of y is 81\n"
     ]
    }
   ],
   "source": [
    "x=4\n",
    "y=3\n",
    "y**=x     #y=y**x\n",
    "print(\"Value of x is\",x)\n",
    "print(\"Value of y is\",y)"
   ]
  },
  {
   "cell_type": "code",
   "execution_count": 26,
   "id": "ec141bd2",
   "metadata": {},
   "outputs": [
    {
     "name": "stdout",
     "output_type": "stream",
     "text": [
      "False\n"
     ]
    }
   ],
   "source": [
    "x='Python'\n",
    "y='python'\n",
    "print(x>y)"
   ]
  },
  {
   "cell_type": "code",
   "execution_count": 27,
   "id": "bb349240",
   "metadata": {},
   "outputs": [
    {
     "data": {
      "text/plain": [
       "65"
      ]
     },
     "execution_count": 27,
     "metadata": {},
     "output_type": "execute_result"
    }
   ],
   "source": [
    "ord('A')"
   ]
  },
  {
   "cell_type": "code",
   "execution_count": 28,
   "id": "f0464d21",
   "metadata": {},
   "outputs": [
    {
     "data": {
      "text/plain": [
       "90"
      ]
     },
     "execution_count": 28,
     "metadata": {},
     "output_type": "execute_result"
    }
   ],
   "source": [
    "ord('Z')"
   ]
  },
  {
   "cell_type": "code",
   "execution_count": 29,
   "id": "096e11ef",
   "metadata": {},
   "outputs": [
    {
     "data": {
      "text/plain": [
       "97"
      ]
     },
     "execution_count": 29,
     "metadata": {},
     "output_type": "execute_result"
    }
   ],
   "source": [
    "ord('a')"
   ]
  },
  {
   "cell_type": "code",
   "execution_count": 30,
   "id": "b9ddc10a",
   "metadata": {},
   "outputs": [
    {
     "data": {
      "text/plain": [
       "122"
      ]
     },
     "execution_count": 30,
     "metadata": {},
     "output_type": "execute_result"
    }
   ],
   "source": [
    "ord('z')"
   ]
  },
  {
   "cell_type": "code",
   "execution_count": 32,
   "id": "4f57afc9",
   "metadata": {},
   "outputs": [
    {
     "data": {
      "text/plain": [
       "48"
      ]
     },
     "execution_count": 32,
     "metadata": {},
     "output_type": "execute_result"
    }
   ],
   "source": [
    "ord('0')"
   ]
  },
  {
   "cell_type": "code",
   "execution_count": 33,
   "id": "49da0b46",
   "metadata": {},
   "outputs": [
    {
     "data": {
      "text/plain": [
       "57"
      ]
     },
     "execution_count": 33,
     "metadata": {},
     "output_type": "execute_result"
    }
   ],
   "source": [
    "ord('9')"
   ]
  },
  {
   "cell_type": "code",
   "execution_count": 34,
   "id": "be0535a6",
   "metadata": {},
   "outputs": [
    {
     "data": {
      "text/plain": [
       "80"
      ]
     },
     "execution_count": 34,
     "metadata": {},
     "output_type": "execute_result"
    }
   ],
   "source": [
    "ord('P')"
   ]
  },
  {
   "cell_type": "code",
   "execution_count": 35,
   "id": "dfbff57c",
   "metadata": {},
   "outputs": [
    {
     "data": {
      "text/plain": [
       "112"
      ]
     },
     "execution_count": 35,
     "metadata": {},
     "output_type": "execute_result"
    }
   ],
   "source": [
    "ord('p')"
   ]
  },
  {
   "cell_type": "code",
   "execution_count": 2,
   "id": "feed224f",
   "metadata": {},
   "outputs": [
    {
     "data": {
      "text/plain": [
       "False"
      ]
     },
     "execution_count": 2,
     "metadata": {},
     "output_type": "execute_result"
    }
   ],
   "source": [
    "a=10\n",
    "b=20\n",
    "not(not(not(a<b)))"
   ]
  },
  {
   "cell_type": "code",
   "execution_count": 5,
   "id": "806c8ede",
   "metadata": {},
   "outputs": [
    {
     "name": "stdout",
     "output_type": "stream",
     "text": [
      "Id of a is 140703556539464\n",
      "Id of b is 140703556539592\n"
     ]
    }
   ],
   "source": [
    "a=10\n",
    "print(\"Id of a is\",id(a))\n",
    "b=14\n",
    "print(\"Id of b is\",id(b))"
   ]
  },
  {
   "cell_type": "markdown",
   "id": "cc647ee2",
   "metadata": {},
   "source": []
  },
  {
   "cell_type": "code",
   "execution_count": 6,
   "id": "440264ea",
   "metadata": {},
   "outputs": [
    {
     "name": "stdout",
     "output_type": "stream",
     "text": [
      "Id of a is 140703556540104\n",
      "Id of b is 140703556540104\n",
      "Comparision operator result a==b True\n",
      "Identity operator result a is b True\n"
     ]
    }
   ],
   "source": [
    "#Identity operator with comparision operator =>equal to operator\n",
    "a=30\n",
    "b=30\n",
    "print(\"Id of a is\",id(a))\n",
    "print(\"Id of b is\",id(b))\n",
    "print(\"Comparision operator result a==b\",a==b) #compare variable values\n",
    "print(\"Identity operator result a is b\",a is b) #compare memory address of variable"
   ]
  },
  {
   "cell_type": "code",
   "execution_count": 7,
   "id": "40493f88",
   "metadata": {},
   "outputs": [
    {
     "name": "stdout",
     "output_type": "stream",
     "text": [
      "Id of a is 140703556543304\n",
      "Id of b is 140703556543304\n",
      "Comparision operator result a==b True\n",
      "Identity operator result a is b True\n"
     ]
    }
   ],
   "source": [
    "#Identity operator with comparision operator =>equal to operator\n",
    "a=130\n",
    "b=130\n",
    "print(\"Id of a is\",id(a))\n",
    "print(\"Id of b is\",id(b))\n",
    "print(\"Comparision operator result a==b\",a==b) #compare variable values\n",
    "print(\"Identity operator result a is b\",a is b) #compare memory address of variable"
   ]
  },
  {
   "cell_type": "code",
   "execution_count": 8,
   "id": "239b268c",
   "metadata": {},
   "outputs": [
    {
     "name": "stdout",
     "output_type": "stream",
     "text": [
      "Id of a is 140703556547336\n",
      "Id of b is 140703556547336\n",
      "Comparision operator result a==b True\n",
      "Identity operator result a is b True\n"
     ]
    }
   ],
   "source": [
    "#Identity operator with comparision operator =>equal to operator\n",
    "a=256\n",
    "b=256\n",
    "print(\"Id of a is\",id(a))\n",
    "print(\"Id of b is\",id(b))\n",
    "print(\"Comparision operator result a==b\",a==b) #compare variable values\n",
    "print(\"Identity operator result a is b\",a is b) #compare memory address of variable"
   ]
  },
  {
   "cell_type": "code",
   "execution_count": 9,
   "id": "b31e5603",
   "metadata": {},
   "outputs": [
    {
     "name": "stdout",
     "output_type": "stream",
     "text": [
      "Id of a is 1804623654352\n",
      "Id of b is 1804623656048\n",
      "Comparision operator result a==b True\n",
      "Identity operator result a is b False\n"
     ]
    }
   ],
   "source": [
    "#Identity operator with comparision operator =>equal to operator\n",
    "a=257\n",
    "b=257\n",
    "print(\"Id of a is\",id(a))\n",
    "print(\"Id of b is\",id(b))\n",
    "print(\"Comparision operator result a==b\",a==b) #compare variable values\n",
    "print(\"Identity operator result a is b\",a is b) #compare memory address of variable"
   ]
  },
  {
   "cell_type": "code",
   "execution_count": 10,
   "id": "56f0bd5a",
   "metadata": {},
   "outputs": [
    {
     "data": {
      "text/plain": [
       "'0b100000000'"
      ]
     },
     "execution_count": 10,
     "metadata": {},
     "output_type": "execute_result"
    }
   ],
   "source": [
    "#Integer data type range value is 0 to 256 memory capacity for integer data type is 8 bits.\n",
    "bin(256)"
   ]
  },
  {
   "cell_type": "code",
   "execution_count": 12,
   "id": "46433319",
   "metadata": {},
   "outputs": [
    {
     "name": "stdout",
     "output_type": "stream",
     "text": [
      "Id of a is 1804571961776\n",
      "Id of b is 1804571961776\n",
      "Comparision operator result a==b True\n",
      "Identity operator result a is b True\n"
     ]
    }
   ],
   "source": [
    "#Identity operator with comparision operator =>equal to operator\n",
    "a='python'\n",
    "b='python'\n",
    "print(\"Id of a is\",id(a))\n",
    "print(\"Id of b is\",id(b))\n",
    "print(\"Comparision operator result a==b\",a==b) #compare variable values\n",
    "print(\"Identity operator result a is b\",a is b) #compare memory address of variable"
   ]
  },
  {
   "cell_type": "code",
   "execution_count": 15,
   "id": "cc2039d7",
   "metadata": {},
   "outputs": [
    {
     "name": "stdout",
     "output_type": "stream",
     "text": [
      "Id of a is 1804624578928\n",
      "Id of b is 1804624648816\n",
      "Comparision operator result a==b True\n",
      "Identity operator result a is b False\n"
     ]
    }
   ],
   "source": [
    "#Identity operator with comparision operator =>equal to operator\n",
    "a='python program'\n",
    "b='python program'\n",
    "print(\"Id of a is\",id(a))\n",
    "print(\"Id of b is\",id(b))\n",
    "print(\"Comparision operator result a==b\",a==b) #compare variable values\n",
    "print(\"Identity operator result a is b\",a is b) #compare memory address of variable"
   ]
  },
  {
   "cell_type": "code",
   "execution_count": 17,
   "id": "73aec360",
   "metadata": {},
   "outputs": [
    {
     "name": "stdout",
     "output_type": "stream",
     "text": [
      "Id of a is 1804624645440\n",
      "Id of b is 1804624645824\n",
      "Comparision operator result a==b False\n",
      "Identity operator result a is b False\n"
     ]
    }
   ],
   "source": [
    "#Identity operator with comparision operator =>equal to operator\n",
    "a=['Shashank','Omkar','Aryan']\n",
    "b=['Omkar','Shashank','Aryan']\n",
    "print(\"Id of a is\",id(a))\n",
    "print(\"Id of b is\",id(b))\n",
    "print(\"Comparision operator result a==b\",a==b) #compare variable values\n",
    "print(\"Identity operator result a is b\",a is b) #compare memory address of variable"
   ]
  },
  {
   "cell_type": "code",
   "execution_count": 18,
   "id": "b0d1c14d",
   "metadata": {},
   "outputs": [
    {
     "name": "stdout",
     "output_type": "stream",
     "text": [
      "Id of a is 1804624425984\n",
      "Id of b is 1804624508992\n",
      "Comparision operator result a==b True\n",
      "Identity operator result a is b False\n"
     ]
    }
   ],
   "source": [
    "#Identity operator with comparision operator =>equal to operator\n",
    "a=('Shashank','Omkar','Aryan')\n",
    "b=('Shashank','Omkar','Aryan')\n",
    "print(\"Id of a is\",id(a))\n",
    "print(\"Id of b is\",id(b))\n",
    "print(\"Comparision operator result a==b\",a==b) #compare variable values\n",
    "print(\"Identity operator result a is b\",a is b) #compare memory address of variable"
   ]
  },
  {
   "cell_type": "code",
   "execution_count": 19,
   "id": "60cb8dc8",
   "metadata": {},
   "outputs": [
    {
     "name": "stdout",
     "output_type": "stream",
     "text": [
      "Id of a is 1804623949696\n",
      "Id of b is 1804623950816\n",
      "Comparision operator result a==b True\n",
      "Identity operator result a is b False\n"
     ]
    }
   ],
   "source": [
    "#Identity operator with comparision operator =>equal to operator\n",
    "a={'Shashank','Omkar','Aryan'}\n",
    "b={'Omkar','Shashank','Aryan'}\n",
    "print(\"Id of a is\",id(a))\n",
    "print(\"Id of b is\",id(b))\n",
    "print(\"Comparision operator result a==b\",a==b) #compare variable values\n",
    "print(\"Identity operator result a is b\",a is b) #compare memory address of variable"
   ]
  },
  {
   "cell_type": "code",
   "execution_count": null,
   "id": "49d249cd",
   "metadata": {},
   "outputs": [],
   "source": []
  }
 ],
 "metadata": {
  "kernelspec": {
   "display_name": "Python 3 (ipykernel)",
   "language": "python",
   "name": "python3"
  },
  "language_info": {
   "codemirror_mode": {
    "name": "ipython",
    "version": 3
   },
   "file_extension": ".py",
   "mimetype": "text/x-python",
   "name": "python",
   "nbconvert_exporter": "python",
   "pygments_lexer": "ipython3",
   "version": "3.11.5"
  }
 },
 "nbformat": 4,
 "nbformat_minor": 5
}
