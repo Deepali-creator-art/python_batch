{
 "cells": [
  {
   "cell_type": "code",
   "execution_count": 1,
   "id": "274a7046",
   "metadata": {},
   "outputs": [
    {
     "name": "stdout",
     "output_type": "stream",
     "text": [
      "<class 'dict'>\n"
     ]
    }
   ],
   "source": [
    "s1={}\n",
    "print(type(s1))"
   ]
  },
  {
   "cell_type": "code",
   "execution_count": 2,
   "id": "ea2ea6b6",
   "metadata": {},
   "outputs": [
    {
     "name": "stdout",
     "output_type": "stream",
     "text": [
      "<class 'set'>\n"
     ]
    }
   ],
   "source": [
    "s2={10}\n",
    "print(type(s2))"
   ]
  },
  {
   "cell_type": "code",
   "execution_count": 3,
   "id": "b5785649",
   "metadata": {},
   "outputs": [
    {
     "name": "stdout",
     "output_type": "stream",
     "text": [
      "<class 'set'>\n"
     ]
    }
   ],
   "source": [
    "#to declare empty set we use set ()\n",
    "s3=set()\n",
    "print(type(s3))"
   ]
  },
  {
   "cell_type": "code",
   "execution_count": 4,
   "id": "d052d30a",
   "metadata": {},
   "outputs": [
    {
     "name": "stdout",
     "output_type": "stream",
     "text": [
      "{50, 20, 40, 10, 30}\n"
     ]
    }
   ],
   "source": [
    "s4={10,20,30,40,50} #set is an unordered data type\n",
    "print(s4)"
   ]
  },
  {
   "cell_type": "code",
   "execution_count": 5,
   "id": "527a20c2",
   "metadata": {},
   "outputs": [
    {
     "name": "stdout",
     "output_type": "stream",
     "text": [
      "{'Karanji', 'Chakali', 'Chiwada'}\n"
     ]
    }
   ],
   "source": [
    "diwali_faral={'Chakali','Chiwada','Karanji'}\n",
    "print(diwali_faral)"
   ]
  },
  {
   "cell_type": "code",
   "execution_count": 6,
   "id": "dab0c3d3",
   "metadata": {},
   "outputs": [],
   "source": [
    "# it stored result in same object i.e.it is muttable data type\n",
    "diwali_faral.add('shev') "
   ]
  },
  {
   "cell_type": "code",
   "execution_count": 7,
   "id": "a98a303f",
   "metadata": {},
   "outputs": [
    {
     "data": {
      "text/plain": [
       "{'Chakali', 'Chiwada', 'Karanji', 'shev'}"
      ]
     },
     "execution_count": 7,
     "metadata": {},
     "output_type": "execute_result"
    }
   ],
   "source": [
    "diwali_faral"
   ]
  },
  {
   "cell_type": "code",
   "execution_count": 8,
   "id": "1105972b",
   "metadata": {},
   "outputs": [
    {
     "data": {
      "text/plain": [
       "{'Chakali', 'Chiwada', 'Karanji', 'anarase', 'laddu', 'shev'}"
      ]
     },
     "execution_count": 8,
     "metadata": {},
     "output_type": "execute_result"
    }
   ],
   "source": [
    "diwali_faral.update({'laddu','anarase'})\n",
    "diwali_faral\n"
   ]
  },
  {
   "cell_type": "code",
   "execution_count": 9,
   "id": "761f3d8f",
   "metadata": {},
   "outputs": [
    {
     "data": {
      "text/plain": [
       "'Chakali'"
      ]
     },
     "execution_count": 9,
     "metadata": {},
     "output_type": "execute_result"
    }
   ],
   "source": [
    "diwali_faral.pop()"
   ]
  },
  {
   "cell_type": "code",
   "execution_count": 10,
   "id": "3508d93f",
   "metadata": {},
   "outputs": [
    {
     "data": {
      "text/plain": [
       "{'Chiwada', 'Karanji', 'anarase', 'shev'}"
      ]
     },
     "execution_count": 10,
     "metadata": {},
     "output_type": "execute_result"
    }
   ],
   "source": [
    "diwali_faral.remove('laddu')\n",
    "diwali_faral"
   ]
  },
  {
   "cell_type": "code",
   "execution_count": 11,
   "id": "c8964507",
   "metadata": {},
   "outputs": [
    {
     "name": "stdout",
     "output_type": "stream",
     "text": [
      "Union result is {33, 66, 11, 44, 77, 22, 55}\n",
      "Union result is {33, 66, 11, 44, 77, 22, 55}\n",
      "Union result using operator {33, 66, 11, 44, 77, 22, 55}\n"
     ]
    }
   ],
   "source": [
    "#mathematical  operation =>union,intersection,\n",
    "#difference,symmetric_difference\n",
    "#union combine two sets\n",
    "t1={11,22,33,44,55}\n",
    "t2={33,44,55,66,77}\n",
    "print(\"Union result is\",t1.union(t2))\n",
    "print(\"Union result is\",t2.union(t1))\n",
    "print(\"Union result using operator\",t1|t2) # | operator "
   ]
  },
  {
   "cell_type": "code",
   "execution_count": 12,
   "id": "8c6423e6",
   "metadata": {},
   "outputs": [
    {
     "name": "stdout",
     "output_type": "stream",
     "text": [
      "Intersection result is {33, 44, 55}\n",
      "Intersection result is {33, 44, 55}\n",
      "Intersection result using operator {33, 44, 55}\n"
     ]
    }
   ],
   "source": [
    "#intersection returns common elements\n",
    "t1={11,22,33,44,55}\n",
    "t2={33,44,55,66,77}\n",
    "print(\"Intersection result is\",t1.intersection(t2))\n",
    "print(\"Intersection result is\",t2.intersection(t1))\n",
    "print(\"Intersection result using operator\",t1&t2) # & operator "
   ]
  },
  {
   "cell_type": "code",
   "execution_count": 13,
   "id": "44f02cbd",
   "metadata": {},
   "outputs": [
    {
     "name": "stdout",
     "output_type": "stream",
     "text": [
      "Difference result is t1.difference(t2)=> {11, 22}\n",
      "Difference result is t2.difference(t1)=> {66, 77}\n",
      "Difference result using operator t1-t2=> {11, 22}\n",
      "Difference result using operator t2-t1=> {66, 77}\n"
     ]
    }
   ],
   "source": [
    "#difference\n",
    "t1={11,22,33,44,55}\n",
    "t2={33,44,55,66,77}\n",
    "print(\"Difference result is t1.difference(t2)=>\",t1.difference(t2))\n",
    "print(\"Difference result is t2.difference(t1)=>\",t2.difference(t1))\n",
    "print(\"Difference result using operator t1-t2=>\",t1-t2) # - operator\n",
    "print(\"Difference result using operator t2-t1=>\",t2-t1) # - operator"
   ]
  },
  {
   "cell_type": "code",
   "execution_count": 14,
   "id": "dd110cbf",
   "metadata": {},
   "outputs": [
    {
     "name": "stdout",
     "output_type": "stream",
     "text": [
      "Difference result is => {66, 22, 11, 77}\n",
      "Difference result is => {66, 22, 11, 77}\n",
      "Difference result using operator t1^t2=> {66, 22, 11, 77}\n",
      "Difference result using operator t2^t1=> {66, 22, 11, 77}\n"
     ]
    }
   ],
   "source": [
    "# symmetric difference returns uncommon elements\n",
    "t1={11,22,33,44,55}\n",
    "t2={33,44,55,66,77}\n",
    "print(\"Difference result is =>\",t1.symmetric_difference(t2))\n",
    "print(\"Difference result is =>\",t2.symmetric_difference(t1))\n",
    "print(\"Difference result using operator t1^t2=>\",t1^t2) # - operator\n",
    "print(\"Difference result using operator t2^t1=>\",t2^t1) # - operator"
   ]
  },
  {
   "cell_type": "code",
   "execution_count": 15,
   "id": "ee07488c",
   "metadata": {},
   "outputs": [
    {
     "name": "stdout",
     "output_type": "stream",
     "text": [
      "<class 'frozenset'>\n"
     ]
    }
   ],
   "source": [
    "# frozenset \n",
    "new_set=frozenset({'a','b','c','d'})\n",
    "print(type(new_set))\n"
   ]
  },
  {
   "cell_type": "code",
   "execution_count": 16,
   "id": "6a49f71e",
   "metadata": {},
   "outputs": [
    {
     "name": "stdout",
     "output_type": "stream",
     "text": [
      "<class 'frozenset'>\n"
     ]
    },
    {
     "data": {
      "text/plain": [
       "frozenset({'a', 'b', 'c', 'd', 'e', 'f'})"
      ]
     },
     "execution_count": 16,
     "metadata": {},
     "output_type": "execute_result"
    }
   ],
   "source": [
    "new_set2=frozenset({'e','f','c','d'})\n",
    "print(type(new_set))\n",
    "new_set.union(new_set2)"
   ]
  },
  {
   "cell_type": "code",
   "execution_count": null,
   "id": "e70b80ac",
   "metadata": {},
   "outputs": [],
   "source": []
  }
 ],
 "metadata": {
  "kernelspec": {
   "display_name": "Python 3 (ipykernel)",
   "language": "python",
   "name": "python3"
  },
  "language_info": {
   "codemirror_mode": {
    "name": "ipython",
    "version": 3
   },
   "file_extension": ".py",
   "mimetype": "text/x-python",
   "name": "python",
   "nbconvert_exporter": "python",
   "pygments_lexer": "ipython3",
   "version": "3.11.5"
  }
 },
 "nbformat": 4,
 "nbformat_minor": 5
}
