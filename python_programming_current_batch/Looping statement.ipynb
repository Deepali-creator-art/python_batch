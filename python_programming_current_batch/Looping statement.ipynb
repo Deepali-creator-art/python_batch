{
 "cells": [
  {
   "cell_type": "code",
   "execution_count": 1,
   "id": "c537d3cd",
   "metadata": {},
   "outputs": [
    {
     "data": {
      "text/plain": [
       "range(0, 10)"
      ]
     },
     "execution_count": 1,
     "metadata": {},
     "output_type": "execute_result"
    }
   ],
   "source": [
    "#range() :=>Generate only integer values\n",
    "#sequence number =>1 to 10\n",
    "range(10)\n"
   ]
  },
  {
   "cell_type": "code",
   "execution_count": 2,
   "id": "0fd20d36",
   "metadata": {},
   "outputs": [
    {
     "data": {
      "text/plain": [
       "[0, 1, 2, 3, 4, 5, 6, 7, 8, 9]"
      ]
     },
     "execution_count": 2,
     "metadata": {},
     "output_type": "execute_result"
    }
   ],
   "source": [
    "list(range(10))"
   ]
  },
  {
   "cell_type": "code",
   "execution_count": 3,
   "id": "55c3c408",
   "metadata": {},
   "outputs": [
    {
     "data": {
      "text/plain": [
       "[1, 2, 3, 4, 5, 6, 7, 8, 9, 10]"
      ]
     },
     "execution_count": 3,
     "metadata": {},
     "output_type": "execute_result"
    }
   ],
   "source": [
    "list(range(1,11))"
   ]
  },
  {
   "cell_type": "code",
   "execution_count": 4,
   "id": "4a2bfa0d",
   "metadata": {},
   "outputs": [
    {
     "data": {
      "text/plain": [
       "(1, 2, 3, 4, 5, 6, 7, 8, 9, 10)"
      ]
     },
     "execution_count": 4,
     "metadata": {},
     "output_type": "execute_result"
    }
   ],
   "source": [
    "tuple(range(1,11))"
   ]
  },
  {
   "cell_type": "code",
   "execution_count": 5,
   "id": "7f5d01e3",
   "metadata": {},
   "outputs": [
    {
     "data": {
      "text/plain": [
       "[3, 6, 9, 12, 15, 18, 21, 24, 27]"
      ]
     },
     "execution_count": 5,
     "metadata": {},
     "output_type": "execute_result"
    }
   ],
   "source": [
    "list(range(3,30,3))"
   ]
  },
  {
   "cell_type": "code",
   "execution_count": 6,
   "id": "5eb23b09",
   "metadata": {},
   "outputs": [
    {
     "data": {
      "text/plain": [
       "[5, 9, 13, 17, 21, 25, 29, 33, 37, 41, 45, 49, 53, 57, 61, 65, 69, 73, 77]"
      ]
     },
     "execution_count": 6,
     "metadata": {},
     "output_type": "execute_result"
    }
   ],
   "source": [
    "list(range(5,80,4))"
   ]
  },
  {
   "cell_type": "code",
   "execution_count": 7,
   "id": "30eb5612",
   "metadata": {},
   "outputs": [
    {
     "data": {
      "text/plain": [
       "()"
      ]
     },
     "execution_count": 7,
     "metadata": {},
     "output_type": "execute_result"
    }
   ],
   "source": [
    "#step value -ve \n",
    "tuple(range(1,10,-1))"
   ]
  },
  {
   "cell_type": "code",
   "execution_count": 8,
   "id": "596bfeb5",
   "metadata": {},
   "outputs": [
    {
     "data": {
      "text/plain": [
       "(10, 9, 8, 7, 6, 5, 4, 3, 2, 1)"
      ]
     },
     "execution_count": 8,
     "metadata": {},
     "output_type": "execute_result"
    }
   ],
   "source": [
    "tuple(range(10,0,-1)) #descending order numbers"
   ]
  },
  {
   "cell_type": "code",
   "execution_count": 9,
   "id": "3fa90b5a",
   "metadata": {},
   "outputs": [
    {
     "data": {
      "text/plain": [
       "[40, 36, 32, 28, 24, 20, 16, 12, 8, 4]"
      ]
     },
     "execution_count": 9,
     "metadata": {},
     "output_type": "execute_result"
    }
   ],
   "source": [
    "list(range(40,0,-4))"
   ]
  },
  {
   "cell_type": "code",
   "execution_count": 10,
   "id": "b958a2f6",
   "metadata": {},
   "outputs": [
    {
     "data": {
      "text/plain": [
       "[2, 4, 6, 8, 10, 12, 14, 16, 18, 20, 22, 24, 26, 28, 30, 32, 34, 36, 38, 40]"
      ]
     },
     "execution_count": 10,
     "metadata": {},
     "output_type": "execute_result"
    }
   ],
   "source": [
    "list(range(2,42,2))"
   ]
  },
  {
   "cell_type": "code",
   "execution_count": 11,
   "id": "2ff8ca7a",
   "metadata": {},
   "outputs": [
    {
     "data": {
      "text/plain": [
       "[12, 10, 8, 6, 4]"
      ]
     },
     "execution_count": 11,
     "metadata": {},
     "output_type": "execute_result"
    }
   ],
   "source": [
    "list(range(12,2,-2))"
   ]
  },
  {
   "cell_type": "code",
   "execution_count": 12,
   "id": "fc76aa60",
   "metadata": {},
   "outputs": [
    {
     "data": {
      "text/plain": [
       "[]"
      ]
     },
     "execution_count": 12,
     "metadata": {},
     "output_type": "execute_result"
    }
   ],
   "source": [
    "list(range(2,12,-2))"
   ]
  },
  {
   "cell_type": "code",
   "execution_count": 13,
   "id": "3f15fe3b",
   "metadata": {},
   "outputs": [
    {
     "data": {
      "text/plain": [
       "()"
      ]
     },
     "execution_count": 13,
     "metadata": {},
     "output_type": "execute_result"
    }
   ],
   "source": [
    "tuple(range(3,13,-3))"
   ]
  },
  {
   "cell_type": "code",
   "execution_count": 14,
   "id": "9075cba8",
   "metadata": {},
   "outputs": [
    {
     "data": {
      "text/plain": [
       "(13, 10, 7, 4)"
      ]
     },
     "execution_count": 14,
     "metadata": {},
     "output_type": "execute_result"
    }
   ],
   "source": [
    "tuple(range(13,3,-3))"
   ]
  },
  {
   "cell_type": "code",
   "execution_count": 16,
   "id": "5e5ebc08",
   "metadata": {},
   "outputs": [
    {
     "name": "stdout",
     "output_type": "stream",
     "text": [
      "Happy Days\n",
      "0\n",
      "Happy Days\n",
      "1\n",
      "Happy Days\n",
      "2\n",
      "Happy Days\n",
      "3\n",
      "Happy Days\n",
      "4\n",
      "Happy Days\n",
      "5\n",
      "Happy Days\n",
      "6\n",
      "Happy Days\n",
      "7\n",
      "Happy Days\n",
      "8\n",
      "Happy Days\n",
      "9\n",
      "Happy Days\n",
      "10\n",
      "Happy Days\n",
      "11\n",
      "Happy Days\n",
      "12\n",
      "Happy Days\n",
      "13\n",
      "Happy Days\n",
      "14\n"
     ]
    }
   ],
   "source": [
    "#range() with for loop\n",
    "#print(\"Happy Days\") 15 times\n",
    "for i in range(15):\n",
    "    print(\"Happy Days\")\n",
    "    print(i)"
   ]
  },
  {
   "cell_type": "code",
   "execution_count": 17,
   "id": "1a144c04",
   "metadata": {},
   "outputs": [
    {
     "name": "stdout",
     "output_type": "stream",
     "text": [
      "Happy Diwali\n",
      "Happy Diwali\n",
      "Happy Diwali\n",
      "Happy Diwali\n",
      "Happy Diwali\n",
      "Happy Diwali\n",
      "Happy Diwali\n",
      "Happy Diwali\n",
      "Happy Diwali\n",
      "Happy Diwali\n",
      "Happy Diwali\n",
      "Happy Diwali\n",
      "Happy Diwali\n",
      "Happy Diwali\n",
      "Happy Diwali\n",
      "Happy Diwali\n",
      "Happy Diwali\n",
      "Happy Diwali\n",
      "Happy Diwali\n",
      "Happy Diwali\n",
      "Happy Diwali\n",
      "Happy Diwali\n",
      "Happy Diwali\n",
      "Happy Diwali\n",
      "Happy Diwali\n",
      "Happy Diwali\n",
      "Happy Diwali\n",
      "Happy Diwali\n",
      "Happy Diwali\n",
      "Happy Diwali\n",
      "Happy Diwali\n",
      "Happy Diwali\n",
      "Happy Diwali\n",
      "Happy Diwali\n",
      "Happy Diwali\n",
      "Happy Diwali\n",
      "Happy Diwali\n",
      "Happy Diwali\n",
      "Happy Diwali\n",
      "Happy Diwali\n",
      "Happy Diwali\n",
      "Happy Diwali\n",
      "Happy Diwali\n",
      "Happy Diwali\n",
      "Happy Diwali\n",
      "Happy Diwali\n",
      "Happy Diwali\n",
      "Happy Diwali\n",
      "Happy Diwali\n",
      "Happy Diwali\n"
     ]
    }
   ],
   "source": [
    "for i in range(1,51):\n",
    "    print(\"Happy Diwali\")"
   ]
  },
  {
   "cell_type": "code",
   "execution_count": 18,
   "id": "62688a8b",
   "metadata": {},
   "outputs": [
    {
     "name": "stdout",
     "output_type": "stream",
     "text": [
      "Even numbers 12\n",
      "Even numbers 14\n",
      "Even numbers 16\n",
      "Even numbers 18\n",
      "Even numbers 20\n"
     ]
    }
   ],
   "source": [
    "#To generate even numbers from 11 to 20 using range function.\n",
    "#input=>range()\n",
    "#process=>decide start,stop,step\n",
    "#output =>even numbers\n",
    "for number in range(12,21,2):\n",
    "    print(\"Even numbers\",number)"
   ]
  },
  {
   "cell_type": "code",
   "execution_count": 19,
   "id": "e0c63310",
   "metadata": {},
   "outputs": [
    {
     "name": "stdout",
     "output_type": "stream",
     "text": [
      "Odd numbers 11\n",
      "Odd numbers 13\n",
      "Odd numbers 15\n",
      "Odd numbers 17\n",
      "Odd numbers 19\n"
     ]
    }
   ],
   "source": [
    "#To generate odd numbers from 11 to 20 using range function.\n",
    "#input=>range()\n",
    "#process=>decide start,stop,step\n",
    "#output =>odd numbers\n",
    "for number in range(11,20,2):\n",
    "    print(\"Odd numbers\",number)"
   ]
  },
  {
   "cell_type": "code",
   "execution_count": 20,
   "id": "ba4e3535",
   "metadata": {},
   "outputs": [
    {
     "name": "stdout",
     "output_type": "stream",
     "text": [
      "Good morning\n",
      "Good morning\n",
      "Good morning\n",
      "Good morning\n",
      "Good morning\n",
      "Good morning\n"
     ]
    }
   ],
   "source": [
    "#list data type with for loop\n",
    "for number in [20,34,67,89,67,45]:\n",
    "    print(\"Good morning\")"
   ]
  },
  {
   "cell_type": "code",
   "execution_count": 21,
   "id": "005f2727",
   "metadata": {},
   "outputs": [
    {
     "name": "stdout",
     "output_type": "stream",
     "text": [
      "H\n",
      "Bye\n",
      "a\n",
      "Bye\n",
      "p\n",
      "Bye\n",
      "p\n",
      "Bye\n",
      "y\n",
      "Bye\n"
     ]
    }
   ],
   "source": [
    "#string data type with for loop\n",
    "for character in 'Happy':\n",
    "    print(character)\n",
    "    print(\"Bye\")"
   ]
  },
  {
   "cell_type": "code",
   "execution_count": 22,
   "id": "0d407f46",
   "metadata": {},
   "outputs": [
    {
     "name": "stdout",
     "output_type": "stream",
     "text": [
      "A\n",
      "b\n",
      "h\n",
      "i\n",
      "s\n",
      "h\n",
      "e\n",
      "k\n"
     ]
    }
   ],
   "source": [
    "name='Abhishek'\n",
    "for i in name:\n",
    "    print(i)"
   ]
  },
  {
   "cell_type": "code",
   "execution_count": 23,
   "id": "c518d66e",
   "metadata": {},
   "outputs": [
    {
     "name": "stdout",
     "output_type": "stream",
     "text": [
      "Sayali\n",
      "Happy Days\n",
      "Bhagyashree\n",
      "Happy Days\n",
      "Rutuja\n",
      "Happy Days\n",
      "Sakshi\n",
      "Happy Days\n",
      "Deepali\n",
      "Happy Days\n"
     ]
    }
   ],
   "source": [
    "#tuple data type\n",
    "student_name=('Sayali','Bhagyashree','Rutuja','Sakshi','Deepali')\n",
    "for name in student_name:\n",
    "    print(name)\n",
    "    print(\"Happy Days\")"
   ]
  },
  {
   "cell_type": "code",
   "execution_count": 28,
   "id": "547d26e7",
   "metadata": {},
   "outputs": [
    {
     "name": "stdout",
     "output_type": "stream",
     "text": [
      "rutuja\n",
      "Happy Days\n",
      "Deepali\n",
      "Happy Days\n",
      "Bhagyashree\n",
      "Happy Days\n",
      "Rutuja\n",
      "Happy Days\n",
      "Sayali\n",
      "Happy Days\n",
      "Sakshi\n",
      "Happy Days\n"
     ]
    }
   ],
   "source": [
    "# important=>set data type\n",
    "student_name={'Sayali','Bhagyashree','Rutuja','rutuja','Bhagyashree','Sakshi','Deepali'}\n",
    "for name in student_name:\n",
    "    print(name)\n",
    "    print(\"Happy Days\")"
   ]
  },
  {
   "cell_type": "code",
   "execution_count": 2,
   "id": "317f68c2",
   "metadata": {},
   "outputs": [
    {
     "name": "stdout",
     "output_type": "stream",
     "text": [
      "67\n",
      "Happy Days\n",
      "38\n",
      "Happy Days\n",
      "23\n",
      "Happy Days\n",
      "89\n",
      "Happy Days\n",
      "45\n",
      "Happy Days\n"
     ]
    }
   ],
   "source": [
    "#Set does not allow duplicates element.\n",
    "x={38,67,23,67,89,23,89,45}\n",
    "for i in x:\n",
    "    print(i)\n",
    "    print(\"Happy Days\")"
   ]
  },
  {
   "cell_type": "code",
   "execution_count": 3,
   "id": "0167071b",
   "metadata": {},
   "outputs": [
    {
     "name": "stdout",
     "output_type": "stream",
     "text": [
      "Hello\n",
      "Hello\n",
      "Hello\n",
      "Hello\n",
      "Hello\n"
     ]
    }
   ],
   "source": [
    "x={'apple','grapes','Grapes','banana','pineapple','pineapple'}\n",
    "for i in x:\n",
    "    print(\"Hello\")"
   ]
  },
  {
   "cell_type": "code",
   "execution_count": 4,
   "id": "1d7eb5b6",
   "metadata": {},
   "outputs": [
    {
     "name": "stdout",
     "output_type": "stream",
     "text": [
      "5\n",
      "10\n",
      "15\n",
      "20\n",
      "25\n"
     ]
    }
   ],
   "source": [
    "numbers=range(5,30,5) #5,10,15,20,25\n",
    "for i in numbers:\n",
    "    print(i)"
   ]
  },
  {
   "cell_type": "markdown",
   "id": "13c34da6",
   "metadata": {},
   "source": [
    "To display the addition of numbers from 21 to 30.\n",
    "21+22+23+.....30=>"
   ]
  },
  {
   "cell_type": "code",
   "execution_count": 22,
   "id": "844c5b84",
   "metadata": {},
   "outputs": [
    {
     "name": "stdout",
     "output_type": "stream",
     "text": [
      "Sum result is 21 and 0=0\n",
      "Sum result is 22 and 21=21\n",
      "Sum result is 23 and 43=43\n",
      "Sum result is 24 and 66=66\n",
      "Sum result is 25 and 90=90\n",
      "Sum result is 26 and 115=115\n",
      "Sum result is 27 and 141=141\n",
      "Sum result is 28 and 168=168\n",
      "Sum result is 29 and 196=196\n",
      "Sum result is 30 and 225=225\n"
     ]
    }
   ],
   "source": [
    "sum=0\n",
    "for number in range(21,31):\n",
    "    print(f\"Sum result is {number} and {sum}={sum}\")\n",
    "    sum=sum+number\n",
    "  "
   ]
  },
  {
   "cell_type": "code",
   "execution_count": 14,
   "id": "b7c70dd5",
   "metadata": {},
   "outputs": [
    {
     "data": {
      "text/plain": [
       "55.0"
      ]
     },
     "execution_count": 14,
     "metadata": {},
     "output_type": "execute_result"
    }
   ],
   "source": [
    "n=10\n",
    "s=1\n",
    "t=10\n",
    "n*(s+t)/2"
   ]
  },
  {
   "cell_type": "code",
   "execution_count": 19,
   "id": "ad54d272",
   "metadata": {},
   "outputs": [
    {
     "name": "stdout",
     "output_type": "stream",
     "text": [
      "Enter total no of numbers10\n",
      "Enter the start sequence number11\n",
      "Enter the last sequence number20\n",
      "Series sequence number addition is = 155\n"
     ]
    }
   ],
   "source": [
    "n=int(input(\"Enter total no of numbers\"))\n",
    "s=int(input(\"Enter the start sequence number\"))\n",
    "t=int(input(\"Enter the last sequence number\"))\n",
    "series_number_sum=n*(s+t)//2\n",
    "print(\"Series sequence number addition is =\",series_number_sum)"
   ]
  },
  {
   "cell_type": "code",
   "execution_count": 18,
   "id": "c21a78b1",
   "metadata": {},
   "outputs": [
    {
     "name": "stdout",
     "output_type": "stream",
     "text": [
      "Sum of numbers from 21 to 30 sum= 270\n"
     ]
    }
   ],
   "source": [
    "sum=0\n",
    "for number in range(11,26):\n",
    "    sum=sum+number\n",
    "print(\"Sum of numbers from 21 to 30 sum=\",sum)"
   ]
  },
  {
   "cell_type": "code",
   "execution_count": 24,
   "id": "06ac2ed4",
   "metadata": {},
   "outputs": [
    {
     "name": "stdout",
     "output_type": "stream",
     "text": [
      "RUBEN\n",
      "SURAJ\n",
      "SWAPNIL\n",
      "ADITYA\n",
      "AVINASH\n"
     ]
    }
   ],
   "source": [
    "#input\n",
    "names=['Ruben','Suraj','Swapnil','Aditya','Avinash']\n",
    "#process\n",
    "for name in names:\n",
    "    upper_case_name=name.upper()\n",
    "    print(upper_case_name)\n",
    "    \n"
   ]
  },
  {
   "cell_type": "code",
   "execution_count": 26,
   "id": "5f339e6a",
   "metadata": {},
   "outputs": [
    {
     "name": "stdout",
     "output_type": "stream",
     "text": [
      "nebuR\n",
      "jaruS\n",
      "linpawS\n",
      "aytidA\n",
      "hsanivA\n"
     ]
    }
   ],
   "source": [
    "#input\n",
    "names=['Ruben','Suraj','Swapnil','Aditya','Avinash']\n",
    "#process\n",
    "for name in names:\n",
    "    reverse_name=name[::-1]\n",
    "    print(reverse_name)"
   ]
  },
  {
   "cell_type": "code",
   "execution_count": 28,
   "id": "0eb6b333",
   "metadata": {},
   "outputs": [
    {
     "name": "stdout",
     "output_type": "stream",
     "text": [
      "a\n",
      "a\n"
     ]
    }
   ],
   "source": [
    "#Find the vowels in a given string.\n",
    "#vowels=>a,e,i,o,u\n",
    "person_name='Yashraj'\n",
    "for character in person_name:\n",
    "    if character in ['a','e','i','o','u']:\n",
    "        print(character)"
   ]
  },
  {
   "cell_type": "code",
   "execution_count": 32,
   "id": "1f8d1240",
   "metadata": {},
   "outputs": [
    {
     "name": "stdout",
     "output_type": "stream",
     "text": [
      "True\n",
      "True\n",
      "True\n",
      "True\n",
      "False\n",
      "False\n",
      "False\n",
      "True\n",
      "True\n",
      "True\n",
      "True\n"
     ]
    }
   ],
   "source": [
    "sample=[21,89,45,'python','',0,False,23.78,12+3j,'true',True]\n",
    "for  i in sample:\n",
    "    print(bool(i))"
   ]
  },
  {
   "cell_type": "code",
   "execution_count": 33,
   "id": "1b5ab16c",
   "metadata": {},
   "outputs": [
    {
     "name": "stdout",
     "output_type": "stream",
     "text": [
      "Outer loop\n",
      "Inner loop\n",
      "Inner loop\n",
      "Inner loop\n",
      "Outer loop\n",
      "Inner loop\n",
      "Inner loop\n",
      "Inner loop\n"
     ]
    }
   ],
   "source": [
    "for i in range(1,3):\n",
    "    print(\"Outer loop\")\n",
    "    for j in range(1,4):\n",
    "        print(\"Inner loop\")"
   ]
  },
  {
   "cell_type": "markdown",
   "id": "555d4b99",
   "metadata": {},
   "source": [
    "To display the multiplication table for 6.\n"
   ]
  },
  {
   "cell_type": "code",
   "execution_count": 35,
   "id": "899bb0ef",
   "metadata": {},
   "outputs": [
    {
     "name": "stdout",
     "output_type": "stream",
     "text": [
      "Multiplication table for 6\n",
      "6 * 1 = 6\n",
      "6 * 2 = 12\n",
      "6 * 3 = 18\n",
      "6 * 4 = 24\n",
      "6 * 5 = 30\n",
      "6 * 6 = 36\n",
      "6 * 7 = 42\n",
      "6 * 8 = 48\n",
      "6 * 9 = 54\n",
      "6 * 10 = 60\n"
     ]
    }
   ],
   "source": [
    "number=6\n",
    "print(f\"Multiplication table for {number}\")\n",
    "for i in range(1,11):\n",
    "    result=i*number\n",
    "    print(f\"{number} * {i} = {result}\")"
   ]
  },
  {
   "cell_type": "markdown",
   "id": "868a6b5c",
   "metadata": {},
   "source": [
    "To display the multiplication table from 6 to 10.\n"
   ]
  },
  {
   "cell_type": "code",
   "execution_count": 39,
   "id": "87ebca3c",
   "metadata": {},
   "outputs": [
    {
     "name": "stdout",
     "output_type": "stream",
     "text": [
      "Multiplication table for 6\n",
      "6 * 1 = 6\n",
      "6 * 2 = 12\n",
      "6 * 3 = 18\n",
      "6 * 4 = 24\n",
      "6 * 5 = 30\n",
      "6 * 6 = 36\n",
      "6 * 7 = 42\n",
      "6 * 8 = 48\n",
      "6 * 9 = 54\n",
      "6 * 10 = 60\n",
      "Multiplication table for 7\n",
      "7 * 1 = 7\n",
      "7 * 2 = 14\n",
      "7 * 3 = 21\n",
      "7 * 4 = 28\n",
      "7 * 5 = 35\n",
      "7 * 6 = 42\n",
      "7 * 7 = 49\n",
      "7 * 8 = 56\n",
      "7 * 9 = 63\n",
      "7 * 10 = 70\n",
      "Multiplication table for 8\n",
      "8 * 1 = 8\n",
      "8 * 2 = 16\n",
      "8 * 3 = 24\n",
      "8 * 4 = 32\n",
      "8 * 5 = 40\n",
      "8 * 6 = 48\n",
      "8 * 7 = 56\n",
      "8 * 8 = 64\n",
      "8 * 9 = 72\n",
      "8 * 10 = 80\n",
      "Multiplication table for 9\n",
      "9 * 1 = 9\n",
      "9 * 2 = 18\n",
      "9 * 3 = 27\n",
      "9 * 4 = 36\n",
      "9 * 5 = 45\n",
      "9 * 6 = 54\n",
      "9 * 7 = 63\n",
      "9 * 8 = 72\n",
      "9 * 9 = 81\n",
      "9 * 10 = 90\n",
      "Multiplication table for 10\n",
      "10 * 1 = 10\n",
      "10 * 2 = 20\n",
      "10 * 3 = 30\n",
      "10 * 4 = 40\n",
      "10 * 5 = 50\n",
      "10 * 6 = 60\n",
      "10 * 7 = 70\n",
      "10 * 8 = 80\n",
      "10 * 9 = 90\n",
      "10 * 10 = 100\n"
     ]
    }
   ],
   "source": [
    "result=0\n",
    "for number in range(6,11):\n",
    "    print(f\"Multiplication table for {number}\")\n",
    "    for j in range(1,11):\n",
    "        result=j*number\n",
    "        print(f\"{number} * {j} = {result}\")"
   ]
  },
  {
   "cell_type": "code",
   "execution_count": 1,
   "id": "118aab8b",
   "metadata": {},
   "outputs": [
    {
     "name": "stdout",
     "output_type": "stream",
     "text": [
      "1\t\n",
      "\n",
      "1\t1\t\n",
      "\n",
      "1\t1\t1\t\n",
      "\n",
      "1\t1\t1\t1\t\n",
      "\n",
      "1\t1\t1\t1\t1\t\n",
      "\n"
     ]
    }
   ],
   "source": [
    "for i in range(1,6):\n",
    "    for j in range(1,i+1):\n",
    "        print(1,end='\\t')\n",
    "    print('\\n')"
   ]
  },
  {
   "cell_type": "code",
   "execution_count": 4,
   "id": "ea15bb68",
   "metadata": {},
   "outputs": [
    {
     "name": "stdout",
     "output_type": "stream",
     "text": [
      "1\n",
      "11\n",
      "111\n",
      "1111\n",
      "11111\n"
     ]
    }
   ],
   "source": [
    "#single for loop\n",
    "for i in range(1,6):\n",
    "    print(i*'1',end='\\n')"
   ]
  },
  {
   "cell_type": "code",
   "execution_count": 6,
   "id": "9312caa2",
   "metadata": {},
   "outputs": [
    {
     "name": "stdout",
     "output_type": "stream",
     "text": [
      "1\t\n",
      "\n",
      "1\t2\t\n",
      "\n",
      "1\t2\t3\t\n",
      "\n",
      "1\t2\t3\t4\t\n",
      "\n",
      "1\t2\t3\t4\t5\t\n",
      "\n"
     ]
    }
   ],
   "source": [
    "for i in range(1,6):\n",
    "    for j in range(1,i+1):\n",
    "        print(j,end='\\t')\n",
    "    print('\\n')"
   ]
  },
  {
   "cell_type": "code",
   "execution_count": 7,
   "id": "3aa8ba4a",
   "metadata": {},
   "outputs": [
    {
     "name": "stdout",
     "output_type": "stream",
     "text": [
      "1\t\n",
      "\n",
      "2\t2\t\n",
      "\n",
      "3\t3\t3\t\n",
      "\n",
      "4\t4\t4\t4\t\n",
      "\n",
      "5\t5\t5\t5\t5\t\n",
      "\n"
     ]
    }
   ],
   "source": [
    "for i in range(1,6):\n",
    "    for j in range(1,i+1):\n",
    "        print(i,end='\\t')\n",
    "    print('\\n')"
   ]
  },
  {
   "cell_type": "code",
   "execution_count": 8,
   "id": "d9a081e2",
   "metadata": {},
   "outputs": [
    {
     "name": "stdout",
     "output_type": "stream",
     "text": [
      "2\t\n",
      "\n",
      "3\t4\t\n",
      "\n",
      "4\t5\t6\t\n",
      "\n",
      "5\t6\t7\t8\t\n",
      "\n",
      "6\t7\t8\t9\t10\t\n",
      "\n"
     ]
    }
   ],
   "source": [
    "for i in range(1,6):\n",
    "    for j in range(1,i+1):\n",
    "        print(i+j,end='\\t')\n",
    "    print('\\n')"
   ]
  },
  {
   "cell_type": "code",
   "execution_count": 9,
   "id": "129d0b1a",
   "metadata": {},
   "outputs": [
    {
     "name": "stdout",
     "output_type": "stream",
     "text": [
      "1\t\n",
      "\n",
      "2\t4\t\n",
      "\n",
      "3\t6\t9\t\n",
      "\n",
      "4\t8\t12\t16\t\n",
      "\n",
      "5\t10\t15\t20\t25\t\n",
      "\n"
     ]
    }
   ],
   "source": [
    "for i in range(1,6):\n",
    "    for j in range(1,i+1):\n",
    "        print(i*j,end='\\t')\n",
    "    print('\\n')"
   ]
  },
  {
   "cell_type": "code",
   "execution_count": 14,
   "id": "be933613",
   "metadata": {},
   "outputs": [
    {
     "name": "stdout",
     "output_type": "stream",
     "text": [
      "Enter  the single characterr\n",
      "r\n",
      "rr\n",
      "rrr\n",
      "rrrr\n",
      "rrrrr\n"
     ]
    }
   ],
   "source": [
    "character=input(\"Enter  the single character\")\n",
    "for i in range(1,6):\n",
    "    print(i*character,end='\\n')"
   ]
  },
  {
   "cell_type": "code",
   "execution_count": 16,
   "id": "47cb7d84",
   "metadata": {},
   "outputs": [
    {
     "data": {
      "text/plain": [
       "'A'"
      ]
     },
     "execution_count": 16,
     "metadata": {},
     "output_type": "execute_result"
    }
   ],
   "source": [
    "#To print A to Z characters.\n",
    "ord('A') #A-Z=>65-92\n",
    "chr(65)"
   ]
  },
  {
   "cell_type": "code",
   "execution_count": 20,
   "id": "a3ba3fce",
   "metadata": {},
   "outputs": [
    {
     "name": "stdout",
     "output_type": "stream",
     "text": [
      "A\tB\tC\tD\tE\tF\tG\tH\tI\tJ\tK\tL\tM\tN\tO\tP\tQ\tR\tS\tT\tU\tV\tW\tX\tY\tZ\t"
     ]
    }
   ],
   "source": [
    "ascii_value=ord('A')\n",
    "for i in range(1,27):\n",
    "    print(chr(ascii_value),end='\\t')\n",
    "    ascii_value+=1 #update ascii_value\n",
    "    "
   ]
  },
  {
   "cell_type": "code",
   "execution_count": 22,
   "id": "707ed3b4",
   "metadata": {},
   "outputs": [
    {
     "name": "stdout",
     "output_type": "stream",
     "text": [
      "A\t\n",
      "\n",
      "B\tC\t\n",
      "\n",
      "D\tE\tF\t\n",
      "\n",
      "G\tH\tI\tJ\t\n",
      "\n",
      "K\tL\tM\tN\tO\t\n",
      "\n"
     ]
    }
   ],
   "source": [
    "ascii_value=ord('A')\n",
    "for i in range(1,6):\n",
    "    for j in range(1,i+1):\n",
    "        print(chr(ascii_value),end='\\t')\n",
    "        ascii_value+=1\n",
    "    print('\\n')"
   ]
  },
  {
   "cell_type": "code",
   "execution_count": 23,
   "id": "5adf6852",
   "metadata": {},
   "outputs": [
    {
     "name": "stdout",
     "output_type": "stream",
     "text": [
      "A\t\n",
      "\n",
      "A\tB\t\n",
      "\n",
      "A\tB\tC\t\n",
      "\n",
      "A\tB\tC\tD\t\n",
      "\n",
      "A\tB\tC\tD\tE\t\n",
      "\n"
     ]
    }
   ],
   "source": [
    "for i in range(1,6):\n",
    "    ascii_value=ord('A')\n",
    "    for j in range(1,i+1):\n",
    "        print(chr(ascii_value),end='\\t')\n",
    "        ascii_value+=1\n",
    "    print('\\n')"
   ]
  },
  {
   "cell_type": "code",
   "execution_count": 28,
   "id": "5bea96da",
   "metadata": {},
   "outputs": [
    {
     "name": "stdout",
     "output_type": "stream",
     "text": [
      "A\t\n",
      "\n",
      "B\tB\t\n",
      "\n",
      "C\tC\tC\t\n",
      "\n",
      "D\tD\tD\tD\t\n",
      "\n",
      "E\tE\tE\tE\tE\t\n",
      "\n"
     ]
    }
   ],
   "source": [
    "ascii_value=ord('A')\n",
    "for i in range(1,6):\n",
    "    for j in range(1,i+1):\n",
    "        print(chr(ascii_value),end='\\t')\n",
    "    print('\\n')\n",
    "    ascii_value+=1 #update ascii_value\n",
    " "
   ]
  },
  {
   "cell_type": "code",
   "execution_count": 29,
   "id": "73047332",
   "metadata": {},
   "outputs": [
    {
     "name": "stdout",
     "output_type": "stream",
     "text": [
      "Inside for loop\n",
      "Inside for loop\n",
      "Inside for loop\n",
      "Outside for loop\n"
     ]
    }
   ],
   "source": [
    "#for loop with else\n",
    "for i in range(1,4):\n",
    "    print(\"Inside for loop\")\n",
    "else:\n",
    "    print(\"Outside for loop\")"
   ]
  },
  {
   "cell_type": "code",
   "execution_count": 34,
   "id": "220736b2",
   "metadata": {},
   "outputs": [
    {
     "name": "stdout",
     "output_type": "stream",
     "text": [
      "Enter the number4\n",
      "Given number 4 is not prime number\n"
     ]
    }
   ],
   "source": [
    "#To check the given number is prime number or not.\n",
    "number=int(input(\"Enter the number\"))\n",
    "for i in range(2,number):\n",
    "    if(number%i==0):\n",
    "        print(f\"Given number {number} is not prime number\")\n",
    "    break\n",
    "else:\n",
    "    print(f\"Given number {number} is a prime number\")\n"
   ]
  },
  {
   "cell_type": "code",
   "execution_count": 37,
   "id": "c71dbfc4",
   "metadata": {},
   "outputs": [
    {
     "name": "stdout",
     "output_type": "stream",
     "text": [
      "Y\n",
      "a\n",
      "s\n",
      "h\n"
     ]
    }
   ],
   "source": [
    "name='YashRaj'\n",
    "for i in name:\n",
    "    if(i=='R'):\n",
    "        break\n",
    "    print(i)\n",
    "    "
   ]
  },
  {
   "cell_type": "code",
   "execution_count": 38,
   "id": "51be611c",
   "metadata": {},
   "outputs": [
    {
     "name": "stdout",
     "output_type": "stream",
     "text": [
      "Y\n",
      "a\n",
      "s\n",
      "h\n",
      "a\n",
      "j\n"
     ]
    }
   ],
   "source": [
    "name='YashRaj'\n",
    "for i in name:\n",
    "    if(i=='R'):\n",
    "        continue\n",
    "    print(i)"
   ]
  },
  {
   "cell_type": "code",
   "execution_count": 6,
   "id": "87c589b3",
   "metadata": {},
   "outputs": [
    {
     "name": "stdout",
     "output_type": "stream",
     "text": [
      "Enter the password567\n",
      "Enter the password1234\n",
      "Welcome bank operation\n"
     ]
    }
   ],
   "source": [
    "count=1\n",
    "sys_password=1234\n",
    "while(count<=3):\n",
    "    user_password=int(input(\"Enter the password\"))\n",
    "    if(sys_password==user_password):\n",
    "        print(\"Welcome bank operation\")\n",
    "        break\n",
    "    count+=1\n",
    "else:\n",
    "    print(\"Please visit to bank branch\")\n",
    "    "
   ]
  },
  {
   "cell_type": "code",
   "execution_count": 8,
   "id": "8904a487",
   "metadata": {},
   "outputs": [
    {
     "name": "stdout",
     "output_type": "stream",
     "text": [
      "Enter  the number5\n",
      "Entered number 5\n",
      "Enter  the number8\n",
      "Entered number 8\n",
      "Enter  the number9\n",
      "Entered number 9\n",
      "Enter  the number3\n",
      "Entered number 3\n",
      "Enter  the number6\n",
      "Entered number 6\n",
      "Enter  the number90\n",
      "Entered number 90\n",
      "Enter  the number0\n",
      "Stop  execution\n"
     ]
    }
   ],
   "source": [
    "#print the numbers until the user enters 0.\n",
    "number=int(input(\"Enter  the number\"))\n",
    "while(number!=0):\n",
    "    print(\"Entered number\",number)\n",
    "    number=int(input(\"Enter  the number\"))\n",
    "print(\"Stop  execution\")"
   ]
  },
  {
   "cell_type": "code",
   "execution_count": 34,
   "id": "536b58c3",
   "metadata": {},
   "outputs": [
    {
     "name": "stdout",
     "output_type": "stream",
     "text": [
      "3\n"
     ]
    }
   ],
   "source": [
    "import random\n",
    "sys_number=random.randint(1,10)\n",
    "print(sys_number)"
   ]
  },
  {
   "cell_type": "code",
   "execution_count": 5,
   "id": "8b8a82e3",
   "metadata": {},
   "outputs": [
    {
     "name": "stdout",
     "output_type": "stream",
     "text": [
      "Enter the number6\n",
      "Enter the number7\n",
      "Enter the number8\n",
      "Enter the number3\n",
      "Enter the number9\n",
      "Enter the number10\n",
      "Enter the number2\n",
      "Congrats!!! You guessed it correctly\n"
     ]
    }
   ],
   "source": [
    "#Guess the number\n",
    "import random \n",
    "sys_number=random.randint(1,10)\n",
    "while True:\n",
    "    user_number=int(input(\"Enter the number\"))\n",
    "    if(sys_number==user_number):\n",
    "        print(\"Congrats!!! You guessed it correctly\")\n",
    "        break"
   ]
  },
  {
   "cell_type": "code",
   "execution_count": 4,
   "id": "73e17650",
   "metadata": {},
   "outputs": [
    {
     "data": {
      "text/plain": [
       "['__doc__',\n",
       " '__loader__',\n",
       " '__name__',\n",
       " '__package__',\n",
       " '__spec__',\n",
       " 'acos',\n",
       " 'acosh',\n",
       " 'asin',\n",
       " 'asinh',\n",
       " 'atan',\n",
       " 'atan2',\n",
       " 'atanh',\n",
       " 'cbrt',\n",
       " 'ceil',\n",
       " 'comb',\n",
       " 'copysign',\n",
       " 'cos',\n",
       " 'cosh',\n",
       " 'degrees',\n",
       " 'dist',\n",
       " 'e',\n",
       " 'erf',\n",
       " 'erfc',\n",
       " 'exp',\n",
       " 'exp2',\n",
       " 'expm1',\n",
       " 'fabs',\n",
       " 'factorial',\n",
       " 'floor',\n",
       " 'fmod',\n",
       " 'frexp',\n",
       " 'fsum',\n",
       " 'gamma',\n",
       " 'gcd',\n",
       " 'hypot',\n",
       " 'inf',\n",
       " 'isclose',\n",
       " 'isfinite',\n",
       " 'isinf',\n",
       " 'isnan',\n",
       " 'isqrt',\n",
       " 'lcm',\n",
       " 'ldexp',\n",
       " 'lgamma',\n",
       " 'log',\n",
       " 'log10',\n",
       " 'log1p',\n",
       " 'log2',\n",
       " 'modf',\n",
       " 'nan',\n",
       " 'nextafter',\n",
       " 'perm',\n",
       " 'pi',\n",
       " 'pow',\n",
       " 'prod',\n",
       " 'radians',\n",
       " 'remainder',\n",
       " 'sin',\n",
       " 'sinh',\n",
       " 'sqrt',\n",
       " 'tan',\n",
       " 'tanh',\n",
       " 'tau',\n",
       " 'trunc',\n",
       " 'ulp']"
      ]
     },
     "execution_count": 4,
     "metadata": {},
     "output_type": "execute_result"
    }
   ],
   "source": [
    "import math\n",
    "dir(math)"
   ]
  },
  {
   "cell_type": "code",
   "execution_count": 2,
   "id": "d9492216",
   "metadata": {},
   "outputs": [
    {
     "name": "stdout",
     "output_type": "stream",
     "text": [
      "Bye\n"
     ]
    }
   ],
   "source": [
    "x=0\n",
    "while x:\n",
    "    print(\"Hello\")\n",
    "else:\n",
    "    print(\"Bye\")"
   ]
  },
  {
   "cell_type": "code",
   "execution_count": 2,
   "id": "d8e9b4d2",
   "metadata": {},
   "outputs": [
    {
     "name": "stdout",
     "output_type": "stream",
     "text": [
      "Hello\n"
     ]
    }
   ],
   "source": [
    "x=10\n",
    "while True:\n",
    "    if x==10:\n",
    "        print(\"Hello\")\n",
    "        break\n",
    "else:\n",
    "    print(\"Bye\")"
   ]
  },
  {
   "cell_type": "code",
   "execution_count": null,
   "id": "2a204969",
   "metadata": {},
   "outputs": [],
   "source": []
  }
 ],
 "metadata": {
  "kernelspec": {
   "display_name": "Python 3 (ipykernel)",
   "language": "python",
   "name": "python3"
  },
  "language_info": {
   "codemirror_mode": {
    "name": "ipython",
    "version": 3
   },
   "file_extension": ".py",
   "mimetype": "text/x-python",
   "name": "python",
   "nbconvert_exporter": "python",
   "pygments_lexer": "ipython3",
   "version": "3.11.5"
  }
 },
 "nbformat": 4,
 "nbformat_minor": 5
}
