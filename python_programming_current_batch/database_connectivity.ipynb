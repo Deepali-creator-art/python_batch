{
 "cells": [
  {
   "cell_type": "code",
   "execution_count": 6,
   "id": "7f246fcf",
   "metadata": {},
   "outputs": [
    {
     "name": "stdout",
     "output_type": "stream",
     "text": [
      "Connection established successfully\n"
     ]
    }
   ],
   "source": [
    "#import database library\n",
    "import pymysql\n",
    "#Step 1 :Connect to database and create a connection object\n",
    "conn_obj=pymysql.connect(host='localhost',\n",
    "           user='root',\n",
    "           password='root12345',\n",
    "           database='example')\n",
    "if conn_obj:\n",
    "    print(\"Connection established successfully\")\n",
    "else:\n",
    "    print(\"Please try again\")"
   ]
  },
  {
   "cell_type": "code",
   "execution_count": 7,
   "id": "8d340d11",
   "metadata": {},
   "outputs": [],
   "source": [
    "#step2 :Create a cursor object : =>x\n",
    "x=conn_obj.cursor()"
   ]
  },
  {
   "cell_type": "code",
   "execution_count": 8,
   "id": "8a36a160",
   "metadata": {},
   "outputs": [
    {
     "data": {
      "text/plain": [
       "0"
      ]
     },
     "execution_count": 8,
     "metadata": {},
     "output_type": "execute_result"
    }
   ],
   "source": [
    "#Step 3: Execute sql statements using cursor object\n",
    "#create a table items\n",
    "x.execute(\"create table items(item_name varchar(50),item_price int,quantity int)\")"
   ]
  },
  {
   "cell_type": "code",
   "execution_count": 9,
   "id": "1b556e28",
   "metadata": {},
   "outputs": [
    {
     "data": {
      "text/plain": [
       "1"
      ]
     },
     "execution_count": 9,
     "metadata": {},
     "output_type": "execute_result"
    }
   ],
   "source": [
    "#insert records into a table\n",
    "x.execute(\"insert into items(item_name,item_price,quantity) values('Pen',100,3)\")"
   ]
  },
  {
   "cell_type": "code",
   "execution_count": 10,
   "id": "f8211a4e",
   "metadata": {},
   "outputs": [
    {
     "data": {
      "text/plain": [
       "1"
      ]
     },
     "execution_count": 10,
     "metadata": {},
     "output_type": "execute_result"
    }
   ],
   "source": [
    "x.execute(\"insert into items(item_name,item_price,quantity) values('Marker',150,2)\")"
   ]
  },
  {
   "cell_type": "code",
   "execution_count": 11,
   "id": "10f2e258",
   "metadata": {},
   "outputs": [
    {
     "data": {
      "text/plain": [
       "2"
      ]
     },
     "execution_count": 11,
     "metadata": {},
     "output_type": "execute_result"
    }
   ],
   "source": [
    "x.execute(\"insert into items(item_name,item_price,quantity) values('Notebook',100,3),('Pencil',50,10)\")"
   ]
  },
  {
   "cell_type": "code",
   "execution_count": 12,
   "id": "9f588384",
   "metadata": {},
   "outputs": [
    {
     "data": {
      "text/plain": [
       "4"
      ]
     },
     "execution_count": 12,
     "metadata": {},
     "output_type": "execute_result"
    }
   ],
   "source": [
    "#read a records \n",
    "x.execute(\"select * from items\")"
   ]
  },
  {
   "cell_type": "code",
   "execution_count": 13,
   "id": "7835f5c8",
   "metadata": {},
   "outputs": [
    {
     "name": "stdout",
     "output_type": "stream",
     "text": [
      "('Pen', 100, 3)\n",
      "('Marker', 150, 2)\n",
      "('Notebook', 100, 3)\n",
      "('Pencil', 50, 10)\n"
     ]
    }
   ],
   "source": [
    "for i in x.fetchall():\n",
    "    print(i)"
   ]
  },
  {
   "cell_type": "code",
   "execution_count": 14,
   "id": "e294f3c0",
   "metadata": {},
   "outputs": [],
   "source": [
    "#Step 4\n",
    "#call commit() method using connection object\n",
    "conn_obj.commit()"
   ]
  },
  {
   "cell_type": "markdown",
   "id": "39bcb48e",
   "metadata": {},
   "source": [
    "What is cursor?"
   ]
  },
  {
   "cell_type": "code",
   "execution_count": null,
   "id": "9dd41eef",
   "metadata": {},
   "outputs": [],
   "source": []
  }
 ],
 "metadata": {
  "kernelspec": {
   "display_name": "Python 3 (ipykernel)",
   "language": "python",
   "name": "python3"
  },
  "language_info": {
   "codemirror_mode": {
    "name": "ipython",
    "version": 3
   },
   "file_extension": ".py",
   "mimetype": "text/x-python",
   "name": "python",
   "nbconvert_exporter": "python",
   "pygments_lexer": "ipython3",
   "version": "3.11.5"
  }
 },
 "nbformat": 4,
 "nbformat_minor": 5
}
