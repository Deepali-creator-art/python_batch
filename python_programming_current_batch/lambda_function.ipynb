{
 "cells": [
  {
   "cell_type": "code",
   "execution_count": 2,
   "id": "3d3e6384",
   "metadata": {},
   "outputs": [
    {
     "name": "stdout",
     "output_type": "stream",
     "text": [
      "Happy New Year 2025\n"
     ]
    }
   ],
   "source": [
    "#lambda function without parameter\n",
    "(lambda :print(\"Happy New Year 2025\"))()"
   ]
  },
  {
   "cell_type": "code",
   "execution_count": 3,
   "id": "cb1aa476",
   "metadata": {},
   "outputs": [
    {
     "name": "stdout",
     "output_type": "stream",
     "text": [
      "Happy New Year 2025\n"
     ]
    }
   ],
   "source": [
    "#lambda function with parameter\n",
    "(lambda x:print(\"Happy New Year 2025\"))(10)"
   ]
  },
  {
   "cell_type": "code",
   "execution_count": 4,
   "id": "8c059d29",
   "metadata": {},
   "outputs": [
    {
     "name": "stdout",
     "output_type": "stream",
     "text": [
      "Welcome Raj\n"
     ]
    }
   ],
   "source": [
    "(lambda name:print(\"Welcome\",name))('Raj')"
   ]
  },
  {
   "cell_type": "code",
   "execution_count": 5,
   "id": "12e07bf9",
   "metadata": {},
   "outputs": [
    {
     "name": "stdout",
     "output_type": "stream",
     "text": [
      "Welcome Sarika\n"
     ]
    }
   ],
   "source": [
    "#lambda function with default parameter\n",
    "(lambda name='Sarika':print(\"Welcome\",name))()"
   ]
  },
  {
   "cell_type": "code",
   "execution_count": 6,
   "id": "585c1d2b",
   "metadata": {},
   "outputs": [
    {
     "name": "stdout",
     "output_type": "stream",
     "text": [
      "Welcome Raj\n"
     ]
    }
   ],
   "source": [
    "(lambda name='Sarika':print(\"Welcome\",name))('Raj')"
   ]
  },
  {
   "cell_type": "code",
   "execution_count": 8,
   "id": "843dd377",
   "metadata": {},
   "outputs": [
    {
     "name": "stdout",
     "output_type": "stream",
     "text": [
      "x=pass,y=first_class,z=second_class\n"
     ]
    }
   ],
   "source": [
    "#lambda function with multiple arguments\n",
    "(lambda x,y,z:print(f\"x={x},y={y},z={z}\"))('pass','first_class','second_class')"
   ]
  },
  {
   "cell_type": "code",
   "execution_count": 9,
   "id": "f96d27ae",
   "metadata": {},
   "outputs": [
    {
     "name": "stdout",
     "output_type": "stream",
     "text": [
      "x=first_class,y=second_class,z=pass\n"
     ]
    }
   ],
   "source": [
    "#lambda function with multiple arguments\n",
    "(lambda z,x,y:print(f\"x={x},y={y},z={z}\"))('pass','first_class','second_class')"
   ]
  },
  {
   "cell_type": "code",
   "execution_count": 10,
   "id": "a493392c",
   "metadata": {},
   "outputs": [
    {
     "name": "stdout",
     "output_type": "stream",
     "text": [
      "x=second_class,y=pass,z=first_class\n"
     ]
    }
   ],
   "source": [
    "#lambda function with multiple arguments\n",
    "(lambda y,z,x:print(f\"x={x},y={y},z={z}\"))('pass','first_class','second_class')"
   ]
  },
  {
   "cell_type": "code",
   "execution_count": 12,
   "id": "27cc0492",
   "metadata": {},
   "outputs": [
    {
     "name": "stdout",
     "output_type": "stream",
     "text": [
      "x=pass,y=first_class,z=second_class\n"
     ]
    }
   ],
   "source": [
    "#lambda function with multiple arguments\n",
    "(lambda x,y,z:print(\"x={},y={},z={}\" .format(x,y,z)))('pass','first_class','second_class')"
   ]
  },
  {
   "cell_type": "code",
   "execution_count": 13,
   "id": "26d3c912",
   "metadata": {},
   "outputs": [
    {
     "name": "stdout",
     "output_type": "stream",
     "text": [
      "x=second_class,y=pass,z=first_class\n"
     ]
    }
   ],
   "source": [
    "#lambda function with multiple arguments\n",
    "(lambda x,y,z:print(\"x={},y={},z={}\" .format(z,x,y)))('pass','first_class','second_class')"
   ]
  },
  {
   "cell_type": "code",
   "execution_count": 14,
   "id": "8f66c682",
   "metadata": {},
   "outputs": [
    {
     "name": "stdout",
     "output_type": "stream",
     "text": [
      "x=pass,y=second_class,z=first_class\n"
     ]
    }
   ],
   "source": [
    "#lambda function with multiple arguments\n",
    "(lambda y,z,x:print(\"x={},y={},z={}\" .format(y,x,z)))('pass','first_class','second_class')"
   ]
  },
  {
   "cell_type": "code",
   "execution_count": 17,
   "id": "f656b532",
   "metadata": {},
   "outputs": [
    {
     "name": "stdout",
     "output_type": "stream",
     "text": [
      "result=('pass', 'first_class', 'second_class')\n"
     ]
    }
   ],
   "source": [
    "#lambda function with single argument that collects multiple values\n",
    "#write * operator before a argument.\n",
    "(lambda *result:print(f\"result={result}\"))('pass','first_class','second_class')"
   ]
  },
  {
   "cell_type": "code",
   "execution_count": 24,
   "id": "20fe4e4c",
   "metadata": {},
   "outputs": [
    {
     "name": "stdout",
     "output_type": "stream",
     "text": [
      "pass first_class second_class\n"
     ]
    }
   ],
   "source": [
    "#lambda function with keyword argument \n",
    "(lambda Ojasvi,Sandesh,Sayali:print(Sandesh,Sayali,Ojasvi))(Sandesh='pass',Sayali='first_class',Ojasvi='second_class')"
   ]
  },
  {
   "cell_type": "code",
   "execution_count": 25,
   "id": "aceb8bcc",
   "metadata": {},
   "outputs": [
    {
     "name": "stdout",
     "output_type": "stream",
     "text": [
      "{'Sandesh': 'pass', 'Sayali': 'first_class', 'Ojasvi': 'second_class'}\n"
     ]
    }
   ],
   "source": [
    "#lambda function with keyword argument but collect multiple keyword arguments in single variable \n",
    "#prefix ** argument parameter\n",
    "(lambda **result:print(result))(Sandesh='pass',Sayali='first_class',Ojasvi='second_class')"
   ]
  },
  {
   "cell_type": "code",
   "execution_count": 26,
   "id": "f83a0ecc",
   "metadata": {},
   "outputs": [
    {
     "name": "stdout",
     "output_type": "stream",
     "text": [
      "{'username': 'Samruddhi', 'password': '123456789'}\n"
     ]
    }
   ],
   "source": [
    "(lambda **login:print(login))(username='Samruddhi',password='123456789')"
   ]
  },
  {
   "cell_type": "code",
   "execution_count": 32,
   "id": "56a8f397",
   "metadata": {},
   "outputs": [
    {
     "name": "stdout",
     "output_type": "stream",
     "text": [
      "{'username': ['Samruddhi', 'Bhagyashri'], 'password': ('123456789', 'test')}\n"
     ]
    }
   ],
   "source": [
    "(lambda **login:print(login))(username=['Samruddhi','Bhagyashri'],password=('123456789','test'))"
   ]
  },
  {
   "cell_type": "code",
   "execution_count": 33,
   "id": "261f17db",
   "metadata": {},
   "outputs": [],
   "source": [
    "data=[['Sahil',87],['Rutuja',92],['Nutan',89],['Sakshi',77]]\n",
    "data.sort()"
   ]
  },
  {
   "cell_type": "code",
   "execution_count": 34,
   "id": "fd771d72",
   "metadata": {},
   "outputs": [
    {
     "data": {
      "text/plain": [
       "[['Nutan', 89], ['Rutuja', 92], ['Sahil', 87], ['Sakshi', 77]]"
      ]
     },
     "execution_count": 34,
     "metadata": {},
     "output_type": "execute_result"
    }
   ],
   "source": [
    "data"
   ]
  },
  {
   "cell_type": "code",
   "execution_count": 41,
   "id": "0b688577",
   "metadata": {},
   "outputs": [
    {
     "data": {
      "text/plain": [
       "[['Sakshi', 77], ['Sahil', 87], ['Nutan', 89], ['Rutuja', 92]]"
      ]
     },
     "execution_count": 41,
     "metadata": {},
     "output_type": "execute_result"
    }
   ],
   "source": [
    "sorted(data,key=lambda x:x[1])"
   ]
  },
  {
   "cell_type": "code",
   "execution_count": 43,
   "id": "ed731826",
   "metadata": {},
   "outputs": [
    {
     "data": {
      "text/plain": [
       "[['Sakshi', 77, 90], ['Nutan', 89, 85], ['Sahil', 87, 78], ['Rutuja', 92, 65]]"
      ]
     },
     "execution_count": 43,
     "metadata": {},
     "output_type": "execute_result"
    }
   ],
   "source": [
    "data=[['Sahil',87,78],['Rutuja',92,65],['Nutan',89,85],['Sakshi',77,90]]\n",
    "sorted(data,key=lambda x:x[2],reverse=True)"
   ]
  },
  {
   "cell_type": "code",
   "execution_count": 46,
   "id": "32c91884",
   "metadata": {},
   "outputs": [
    {
     "data": {
      "text/plain": [
       "['p', 'y', 't', 'h', 'o', 'n']"
      ]
     },
     "execution_count": 46,
     "metadata": {},
     "output_type": "execute_result"
    }
   ],
   "source": [
    "#lambda function with map function\n",
    "x='python'\n",
    "list(map(lambda y:y,x))"
   ]
  },
  {
   "cell_type": "code",
   "execution_count": 47,
   "id": "e71c0ff2",
   "metadata": {},
   "outputs": [
    {
     "data": {
      "text/plain": [
       "['P', 'Y', 'T', 'H', 'O', 'N']"
      ]
     },
     "execution_count": 47,
     "metadata": {},
     "output_type": "execute_result"
    }
   ],
   "source": [
    "#lambda function with map function\n",
    "x='python'\n",
    "list(map(lambda y:y.upper(),x))"
   ]
  },
  {
   "cell_type": "code",
   "execution_count": 1,
   "id": "5197a3f6",
   "metadata": {},
   "outputs": [
    {
     "name": "stdout",
     "output_type": "stream",
     "text": [
      "[1, 2, 6, 24, 120]\n"
     ]
    }
   ],
   "source": [
    "#To display factorial of no from 1 to 5\n",
    "import math\n",
    "factorial_output=[]\n",
    "for i in range (1,6):\n",
    "    x=math.factorial(i)\n",
    "    factorial_output.append(x)\n",
    "print(factorial_output)"
   ]
  },
  {
   "cell_type": "code",
   "execution_count": 3,
   "id": "600baad3",
   "metadata": {},
   "outputs": [
    {
     "name": "stdout",
     "output_type": "stream",
     "text": [
      "Factorial of numbers from 1 to 5 [1, 2, 6, 24, 120]\n"
     ]
    }
   ],
   "source": [
    "#map function\n",
    "import math\n",
    "factorial_ouput=list(map(lambda x:math.factorial(x),range(1,6)))\n",
    "print(\"Factorial of numbers from 1 to 5\",factorial_ouput)"
   ]
  },
  {
   "cell_type": "code",
   "execution_count": 4,
   "id": "bcda9970",
   "metadata": {},
   "outputs": [
    {
     "name": "stdout",
     "output_type": "stream",
     "text": [
      "[1, 2, 6, 24, 120]\n"
     ]
    }
   ],
   "source": [
    "numbers = [1, 2, 3, 4, 5]\n",
    "factorials = list(map(math.factorial, numbers))\n",
    "print(factorials)"
   ]
  },
  {
   "cell_type": "code",
   "execution_count": 7,
   "id": "7bf810b0",
   "metadata": {},
   "outputs": [
    {
     "data": {
      "text/plain": [
       "[True, False, True, True, True]"
      ]
     },
     "execution_count": 7,
     "metadata": {},
     "output_type": "execute_result"
    }
   ],
   "source": [
    "x=[10,0,-10,'python','50']\n",
    "list(map(bool,x))"
   ]
  },
  {
   "cell_type": "code",
   "execution_count": 8,
   "id": "885cfe0f",
   "metadata": {},
   "outputs": [
    {
     "data": {
      "text/plain": [
       "('ikateK', 'jarhsaY', 'linA', 'hsanivA')"
      ]
     },
     "execution_count": 8,
     "metadata": {},
     "output_type": "execute_result"
    }
   ],
   "source": [
    "name=['Ketaki','Yashraj','Anil','Avinash']\n",
    "tuple(map(lambda x:x[::-1],name))"
   ]
  },
  {
   "cell_type": "code",
   "execution_count": 17,
   "id": "3e57ceae",
   "metadata": {},
   "outputs": [
    {
     "name": "stdout",
     "output_type": "stream",
     "text": [
      "Sample =  ['abcd', 'abbabba', 'nayan', 'nitin', 'nba', 'mom', 'dad', 'fish']\n",
      "Reverse sample=  ('dcba', 'abbabba', 'nayan', 'nitin', 'abn', 'mom', 'dad', 'hsif')\n",
      "Palidrom strings from given list are   ['abbabba', 'nayan', 'nitin', 'mom', 'dad']\n",
      "Maximum length of palidrome string is 7\n"
     ]
    }
   ],
   "source": [
    "#To find palidrome strings from a given list and return max length of palidrome string.\n",
    "sample=['abcd','abbabba','nayan','nitin','nba','mom','dad','fish']\n",
    "reverse_sample=tuple(map(lambda x:x[::-1],sample))\n",
    "print(\"Sample = \",sample)\n",
    "print(\"Reverse sample= \",reverse_sample)\n",
    "palidrome_output=[]\n",
    "for i,j in zip(sample,reverse_sample):\n",
    "    if(i==j):\n",
    "        palidrome_output.append(i)\n",
    "print(\"Palidrom strings from given list are  \",palidrome_output)\n",
    "x=max(list(map(len,palidrome_output)))\n",
    "print(\"Maximum length of palidrome string is\",x)       "
   ]
  },
  {
   "cell_type": "code",
   "execution_count": 20,
   "id": "89b5346d",
   "metadata": {},
   "outputs": [
    {
     "name": "stdout",
     "output_type": "stream",
     "text": [
      "Palidrom strings from given list are   ['abbabba', 'nayan', 'nitin', 'mom', 'dad']\n",
      "Maximum length of palidrome string is 7\n"
     ]
    }
   ],
   "source": [
    "sample=['abcd','abbabba','nayan','nitin','nba','mom','dad','fish']\n",
    "palidrome_output=list(filter(lambda x:x==x[::-1] ,sample))\n",
    "print(\"Palidrom strings from given list are  \",palidrome_output)\n",
    "x=max(list(map(len,palidrome_output)))\n",
    "print(\"Maximum length of palidrome string is\",x)    "
   ]
  },
  {
   "cell_type": "code",
   "execution_count": 23,
   "id": "da09f5b2",
   "metadata": {},
   "outputs": [
    {
     "data": {
      "text/plain": [
       "[10, -10, 'python', '50', 2]"
      ]
     },
     "execution_count": 23,
     "metadata": {},
     "output_type": "execute_result"
    }
   ],
   "source": [
    "x=[10,0,-10,'python','50',10%4]\n",
    "list(filter(bool,x))"
   ]
  },
  {
   "cell_type": "code",
   "execution_count": 25,
   "id": "f9aa40ad",
   "metadata": {},
   "outputs": [
    {
     "data": {
      "text/plain": [
       "[('Sayali', 'Shinde'),\n",
       " ('Arya', 'Buwa'),\n",
       " ('Pranay', 'Tayade'),\n",
       " ('Jay', 'Vaidya')]"
      ]
     },
     "execution_count": 25,
     "metadata": {},
     "output_type": "execute_result"
    }
   ],
   "source": [
    "#zip()=>combine element indexwise\n",
    "x=['Sayali','Arya','Pranay','Jay']\n",
    "y=['Shinde','Buwa','Tayade','Vaidya']\n",
    "list(zip(x,y))"
   ]
  },
  {
   "cell_type": "code",
   "execution_count": 30,
   "id": "72a47b47",
   "metadata": {},
   "outputs": [
    {
     "name": "stdout",
     "output_type": "stream",
     "text": [
      "[(10, 30), (20, 40), (30, 50), (40, 60)]\n",
      "40\n",
      "60\n",
      "80\n",
      "100\n"
     ]
    }
   ],
   "source": [
    "#addition of two lists by elementwise.\n",
    "c=[10,20,30,40]\n",
    "d=[30,40,50,60]\n",
    "x=list(zip(c,d))\n",
    "print(x)\n",
    "for i,j in x:\n",
    "    print(i+j)"
   ]
  },
  {
   "cell_type": "code",
   "execution_count": 4,
   "id": "0ce8f913",
   "metadata": {},
   "outputs": [
    {
     "name": "stdout",
     "output_type": "stream",
     "text": [
      "(0, 'p')\n",
      "(1, 'y')\n",
      "(2, 't')\n",
      "(3, 'h')\n",
      "(4, 'o')\n",
      "(5, 'n')\n"
     ]
    },
    {
     "ename": "StopIteration",
     "evalue": "",
     "output_type": "error",
     "traceback": [
      "\u001b[1;31m---------------------------------------------------------------------------\u001b[0m",
      "\u001b[1;31mStopIteration\u001b[0m                             Traceback (most recent call last)",
      "Cell \u001b[1;32mIn[4], line 9\u001b[0m\n\u001b[0;32m      7\u001b[0m \u001b[38;5;28mprint\u001b[39m(\u001b[38;5;28mnext\u001b[39m(e1))\n\u001b[0;32m      8\u001b[0m \u001b[38;5;28mprint\u001b[39m(\u001b[38;5;28mnext\u001b[39m(e1))\n\u001b[1;32m----> 9\u001b[0m \u001b[38;5;28mprint\u001b[39m(\u001b[38;5;28mnext\u001b[39m(e1))\n",
      "\u001b[1;31mStopIteration\u001b[0m: "
     ]
    }
   ],
   "source": [
    "name='python'\n",
    "e1=enumerate(name)\n",
    "print(next(e1))\n",
    "print(next(e1))\n",
    "print(next(e1))\n",
    "print(next(e1))\n",
    "print(next(e1))\n",
    "print(next(e1))\n",
    "print(next(e1))"
   ]
  },
  {
   "cell_type": "code",
   "execution_count": 6,
   "id": "0a735eb1",
   "metadata": {},
   "outputs": [
    {
     "name": "stdout",
     "output_type": "stream",
     "text": [
      "Index= 0 Element= p\n",
      "Index= 1 Element= y\n",
      "Index= 2 Element= t\n",
      "Index= 3 Element= h\n",
      "Index= 4 Element= o\n",
      "Index= 5 Element= n\n"
     ]
    }
   ],
   "source": [
    "name='python'\n",
    "for index,element in enumerate(name):\n",
    "    print(\"Index=\",index,\"Element=\",element)\n",
    "    "
   ]
  },
  {
   "cell_type": "code",
   "execution_count": 7,
   "id": "fc51884c",
   "metadata": {},
   "outputs": [
    {
     "name": "stdout",
     "output_type": "stream",
     "text": [
      "Element= n\n",
      "Element= o\n",
      "Element= h\n",
      "Element= t\n",
      "Element= y\n",
      "Element= p\n"
     ]
    }
   ],
   "source": [
    "#reversed() is an iterator for accessing element in reversed direction\n",
    "name='python'\n",
    "for element in reversed(name):\n",
    "    print(\"Element=\",element)"
   ]
  },
  {
   "cell_type": "code",
   "execution_count": 9,
   "id": "e4284ce7",
   "metadata": {},
   "outputs": [
    {
     "name": "stdout",
     "output_type": "stream",
     "text": [
      "Function called first time 10\n",
      "Function called second time 10\n",
      "Function called third time 10\n"
     ]
    }
   ],
   "source": [
    "def fun1():\n",
    "    x=10\n",
    "    return x\n",
    "    y=20\n",
    "    return y\n",
    "    z=x+y\n",
    "    return z\n",
    "print(\"Function called first time\",fun1())\n",
    "print(\"Function called second time\",fun1())\n",
    "print(\"Function called third time\",fun1())"
   ]
  },
  {
   "cell_type": "code",
   "execution_count": 11,
   "id": "529dd10c",
   "metadata": {},
   "outputs": [
    {
     "name": "stdout",
     "output_type": "stream",
     "text": [
      "Function called first time 10\n",
      "Function called second time 20\n",
      "Function called third time 30\n"
     ]
    },
    {
     "ename": "StopIteration",
     "evalue": "",
     "output_type": "error",
     "traceback": [
      "\u001b[1;31m---------------------------------------------------------------------------\u001b[0m",
      "\u001b[1;31mStopIteration\u001b[0m                             Traceback (most recent call last)",
      "Cell \u001b[1;32mIn[11], line 14\u001b[0m\n\u001b[0;32m     12\u001b[0m \u001b[38;5;28mprint\u001b[39m(\u001b[38;5;124m\"\u001b[39m\u001b[38;5;124mFunction called second time\u001b[39m\u001b[38;5;124m\"\u001b[39m,\u001b[38;5;28mnext\u001b[39m(g1))\n\u001b[0;32m     13\u001b[0m \u001b[38;5;28mprint\u001b[39m(\u001b[38;5;124m\"\u001b[39m\u001b[38;5;124mFunction called third time\u001b[39m\u001b[38;5;124m\"\u001b[39m,\u001b[38;5;28mnext\u001b[39m(g1))\n\u001b[1;32m---> 14\u001b[0m \u001b[38;5;28mprint\u001b[39m(\u001b[38;5;124m\"\u001b[39m\u001b[38;5;124mFunction called fourth time\u001b[39m\u001b[38;5;124m\"\u001b[39m,\u001b[38;5;28mnext\u001b[39m(g1))\n",
      "\u001b[1;31mStopIteration\u001b[0m: "
     ]
    }
   ],
   "source": [
    "#Generator=> yield keyword \n",
    "#Generator=> convert user defined function into generator.\n",
    "def fun1():\n",
    "    x=10\n",
    "    yield x\n",
    "    y=20\n",
    "    yield y\n",
    "    z=x+y\n",
    "    yield z\n",
    "g1=fun1()  #convert function into generator and use g1 as generator object\n",
    "print(\"Function called first time\",next(g1))\n",
    "print(\"Function called second time\",next(g1))\n",
    "print(\"Function called third time\",next(g1))\n",
    "print(\"Function called fourth time\",next(g1))"
   ]
  },
  {
   "cell_type": "code",
   "execution_count": null,
   "id": "efcbf33c",
   "metadata": {},
   "outputs": [],
   "source": []
  }
 ],
 "metadata": {
  "kernelspec": {
   "display_name": "Python 3 (ipykernel)",
   "language": "python",
   "name": "python3"
  },
  "language_info": {
   "codemirror_mode": {
    "name": "ipython",
    "version": 3
   },
   "file_extension": ".py",
   "mimetype": "text/x-python",
   "name": "python",
   "nbconvert_exporter": "python",
   "pygments_lexer": "ipython3",
   "version": "3.11.5"
  }
 },
 "nbformat": 4,
 "nbformat_minor": 5
}
