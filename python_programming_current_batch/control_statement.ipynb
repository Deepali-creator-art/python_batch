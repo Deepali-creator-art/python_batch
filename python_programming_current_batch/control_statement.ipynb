{
 "cells": [
  {
   "cell_type": "markdown",
   "id": "f24c7b2f",
   "metadata": {},
   "source": [
    "To write a program user is eligible for driving license or not."
   ]
  },
  {
   "cell_type": "code",
   "execution_count": null,
   "id": "ef2952e6",
   "metadata": {},
   "outputs": [],
   "source": [
    "#To take input from a user\n",
    "age=int(input(\"Enter the age\"))\n",
    "#check the condition\n",
    "if(age>=18):\n",
    "    print(\"Congrats!!!Your are eligible for driving license\")\n",
    "else:\n",
    "    print(\"Sorry!!! Your are not eligible for driving license\")      "
   ]
  },
  {
   "cell_type": "markdown",
   "id": "eeee3614",
   "metadata": {},
   "source": [
    "To write a program to check the given strings are anagram string or not."
   ]
  },
  {
   "cell_type": "code",
   "execution_count": 1,
   "id": "fd2b5d69",
   "metadata": {},
   "outputs": [
    {
     "name": "stdout",
     "output_type": "stream",
     "text": [
      "Enter the first wordrace\n",
      "Enter the second wordcare\n",
      "After converting string into set is {'a', 'r', 'e', 'c'}\n",
      "After converting string into set is {'a', 'c', 'e', 'r'}\n",
      "Given strings  race and care are anagram string\n"
     ]
    }
   ],
   "source": [
    "#Take input strings from user\n",
    "first_word=input(\"Enter the first word\")\n",
    "second_word=input(\"Enter the second word\")\n",
    "#Type casting=>convert string into set\n",
    "s1=set(first_word)\n",
    "print(\"After converting string into set is\",s1)\n",
    "s2=set(second_word)\n",
    "print(\"After converting string into set is\",s2)\n",
    "if(s1==s2):\n",
    "    print(f\"Given strings  {first_word} and {second_word} are anagram string\")\n",
    "else:\n",
    "    print(f\"Given strings  {first_word} and {second_word} are not anagram string\")"
   ]
  },
  {
   "cell_type": "markdown",
   "id": "15f188b5",
   "metadata": {},
   "source": [
    "To check the given string is palidrome string or not."
   ]
  },
  {
   "cell_type": "code",
   "execution_count": 6,
   "id": "06f29256",
   "metadata": {},
   "outputs": [
    {
     "name": "stdout",
     "output_type": "stream",
     "text": [
      "Enter the string12345654321\n",
      "Reverse string of given word is 12345654321\n",
      "Given word 12345654321 and reverse word is 12345654321\n",
      "Given word 12345654321 is palidrome string\n"
     ]
    }
   ],
   "source": [
    "#Take input from user\n",
    "word=input(\"Enter the string\")\n",
    "#Generate reverse string\n",
    "reverse_word=word[::-1]\n",
    "print(\"Reverse string of given word is\",reverse_word)\n",
    "if(word==reverse_word):\n",
    "    print(f\"Given word {word} and reverse word is {reverse_word}\")\n",
    "    print(f\"Given word {word} is palidrome string\")\n",
    "else:\n",
    "    print(f\"Given word {word} and reverse word is {reverse_word}\")\n",
    "    print(f\"Given word {word} is not palidrome string\")\n",
    "    "
   ]
  },
  {
   "cell_type": "code",
   "execution_count": 15,
   "id": "bdcfa935",
   "metadata": {},
   "outputs": [
    {
     "name": "stdout",
     "output_type": "stream",
     "text": [
      "Enter the number for language selection3\n",
      "Welcome to hindi section\n"
     ]
    }
   ],
   "source": [
    "language_selection=input(\"Enter the number for language selection\")\n",
    "if(language_selection=='1'):\n",
    "    print(\"Welcome to english section\")\n",
    "elif(language_selection=='2'):\n",
    "    print(\"Welcome to marathi section\")\n",
    "elif(language_selection=='3'):\n",
    "    print(\"Welcome to hindi section\")\n",
    "elif(language_selection=='4'):\n",
    "    print(\"Welcome to other section\")\n",
    "else:\n",
    "    print(\"Please enter valid options\")\n",
    "    "
   ]
  },
  {
   "cell_type": "markdown",
   "id": "7fe540ae",
   "metadata": {},
   "source": [
    "Write a program to display the profit and loss for a given item price and selling price."
   ]
  },
  {
   "cell_type": "code",
   "execution_count": 18,
   "id": "6e317dcc",
   "metadata": {},
   "outputs": [
    {
     "name": "stdout",
     "output_type": "stream",
     "text": [
      "Enter the item price15\n",
      "Enter the selling price10\n",
      "Your item price is 15 and selling price is 10\n",
      "Loss is 5\n"
     ]
    }
   ],
   "source": [
    "#Take input from user\n",
    "item_price=int(input(\"Enter the item price\"))\n",
    "selling_price=int(input(\"Enter the selling price\"))\n",
    "#process\n",
    "if(item_price<selling_price):\n",
    "    profit=selling_price-item_price\n",
    "    print(f\"Your item price is {item_price} and selling price is {selling_price}\")\n",
    "    print(\"Profit is\",profit)\n",
    "else:\n",
    "    loss=item_price-selling_price\n",
    "    print(f\"Your item price is {item_price} and selling price is {selling_price}\")\n",
    "    print(\"Loss is\",loss)"
   ]
  },
  {
   "cell_type": "code",
   "execution_count": null,
   "id": "cbb45250",
   "metadata": {},
   "outputs": [],
   "source": []
  }
 ],
 "metadata": {
  "kernelspec": {
   "display_name": "Python 3 (ipykernel)",
   "language": "python",
   "name": "python3"
  },
  "language_info": {
   "codemirror_mode": {
    "name": "ipython",
    "version": 3
   },
   "file_extension": ".py",
   "mimetype": "text/x-python",
   "name": "python",
   "nbconvert_exporter": "python",
   "pygments_lexer": "ipython3",
   "version": "3.11.5"
  }
 },
 "nbformat": 4,
 "nbformat_minor": 5
}
