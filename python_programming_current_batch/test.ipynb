{
 "cells": [
  {
   "cell_type": "code",
   "execution_count": 1,
   "id": "bc9d37d2",
   "metadata": {},
   "outputs": [
    {
     "name": "stdout",
     "output_type": "stream",
     "text": [
      "Welcome\n"
     ]
    }
   ],
   "source": [
    "import m1\n",
    "m1.sample() #function call"
   ]
  },
  {
   "cell_type": "code",
   "execution_count": 1,
   "id": "87863011",
   "metadata": {},
   "outputs": [
    {
     "name": "stdout",
     "output_type": "stream",
     "text": [
      "Addition of a =23 b=45 and c=68\n"
     ]
    }
   ],
   "source": [
    "import m1\n",
    "m1.addition(23,45)#function call"
   ]
  },
  {
   "cell_type": "code",
   "execution_count": 1,
   "id": "611ae538",
   "metadata": {},
   "outputs": [
    {
     "name": "stdout",
     "output_type": "stream",
     "text": [
      "Dear Deepali,Welcome to goodvibes\n"
     ]
    }
   ],
   "source": [
    "import m1\n",
    "m1.login('Deepali')"
   ]
  },
  {
   "cell_type": "code",
   "execution_count": 1,
   "id": "d8f076e9",
   "metadata": {},
   "outputs": [
    {
     "name": "stdout",
     "output_type": "stream",
     "text": [
      "You are logout successfully\n"
     ]
    }
   ],
   "source": [
    "import m1\n",
    "m1.logout()"
   ]
  },
  {
   "cell_type": "code",
   "execution_count": 4,
   "id": "296dfe7a",
   "metadata": {},
   "outputs": [
    {
     "name": "stdout",
     "output_type": "stream",
     "text": [
      "x=10 and y=20\n"
     ]
    }
   ],
   "source": [
    "#local variable means variables are declared \n",
    "#inside a function and we can access only inside function body.\n",
    "def display():\n",
    "    x=10    #local variable\n",
    "    y=20\n",
    "    print(f\"x={x} and y={y}\")\n",
    "display() #function call\n",
    "#print(f\"x={x} and y={y}\")"
   ]
  },
  {
   "cell_type": "code",
   "execution_count": 7,
   "id": "0fd61a75",
   "metadata": {},
   "outputs": [
    {
     "name": "stdout",
     "output_type": "stream",
     "text": [
      "Value of x=100\n",
      "Value of x=100\n"
     ]
    }
   ],
   "source": [
    "#Global variable means variables are declared outside a function\n",
    "#and we can access anywhere in your program.\n",
    "x=100  #global variable\n",
    "def show():\n",
    "    print(f\"Value of x={x}\") #inside a function\n",
    "show() #function call\n",
    "print(f\"Value of x={x}\") #outside a function"
   ]
  },
  {
   "cell_type": "code",
   "execution_count": 8,
   "id": "b8a8cf0b",
   "metadata": {},
   "outputs": [
    {
     "name": "stdout",
     "output_type": "stream",
     "text": [
      "Value of x=50\n",
      "Value of x=100\n"
     ]
    }
   ],
   "source": [
    "x=100  #global variable\n",
    "def show():\n",
    "    x=50 #local variable\n",
    "    print(f\"Value of x={x}\") #inside a function\n",
    "show() #function call\n",
    "print(f\"Value of x={x}\") #outside a function"
   ]
  },
  {
   "cell_type": "code",
   "execution_count": 10,
   "id": "f5aa21b3",
   "metadata": {},
   "outputs": [
    {
     "name": "stdout",
     "output_type": "stream",
     "text": [
      "Value of x=200\n",
      "Value of x=100\n"
     ]
    }
   ],
   "source": [
    "x=100  #global variable\n",
    "def show():\n",
    "    x=150 #local variable\n",
    "    x+=50 #x=x+50\n",
    "    print(f\"Value of x={x}\") #inside a function\n",
    "show() #function call\n",
    "print(f\"Value of x={x}\") #outside a function"
   ]
  },
  {
   "cell_type": "code",
   "execution_count": 13,
   "id": "6e05f4d6",
   "metadata": {},
   "outputs": [
    {
     "name": "stdout",
     "output_type": "stream",
     "text": [
      "Value of x=100\n",
      "Value of x=150\n",
      "Value of x=150\n"
     ]
    }
   ],
   "source": [
    "x=100  #global variable\n",
    "def show():\n",
    "    global x\n",
    "    x+=50 #x=x+50\n",
    "    print(f\"Value of x={x}\") #inside a function\n",
    "print(f\"Value of x={x}\") #outside a function\n",
    "show() #function call\n",
    "print(f\"Value of x={x}\") #outside a function"
   ]
  },
  {
   "cell_type": "code",
   "execution_count": 7,
   "id": "51e2d650",
   "metadata": {},
   "outputs": [
    {
     "name": "stdout",
     "output_type": "stream",
     "text": [
      "Previous balance amount is 350000\n",
      "Current balance amount is 400000\n"
     ]
    }
   ],
   "source": [
    "import m1\n",
    "print(\"Previous balance amount is\",m1.balance_amount)\n",
    "m1.credit(50000)"
   ]
  },
  {
   "cell_type": "code",
   "execution_count": null,
   "id": "6f71083b",
   "metadata": {},
   "outputs": [],
   "source": [
    "#Scope of variable in python?"
   ]
  }
 ],
 "metadata": {
  "kernelspec": {
   "display_name": "Python 3 (ipykernel)",
   "language": "python",
   "name": "python3"
  },
  "language_info": {
   "codemirror_mode": {
    "name": "ipython",
    "version": 3
   },
   "file_extension": ".py",
   "mimetype": "text/x-python",
   "name": "python",
   "nbconvert_exporter": "python",
   "pygments_lexer": "ipython3",
   "version": "3.11.5"
  }
 },
 "nbformat": 4,
 "nbformat_minor": 5
}
