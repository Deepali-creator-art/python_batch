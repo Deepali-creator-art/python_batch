{
 "cells": [
  {
   "cell_type": "code",
   "execution_count": 2,
   "id": "8713ad28",
   "metadata": {},
   "outputs": [
    {
     "name": "stdout",
     "output_type": "stream",
     "text": [
      "Uppercase character list of given string ['P', 'Y', 'T', 'H', 'O', 'N']\n"
     ]
    }
   ],
   "source": [
    "#Generate uppercase letter list  of given string.\n",
    "x='python'\n",
    "upper_case_list=[]\n",
    "for i in x:\n",
    "    upper_case_list.append(i.upper())    \n",
    "print(\"Uppercase character list of given string\",upper_case_list)    "
   ]
  },
  {
   "cell_type": "code",
   "execution_count": 4,
   "id": "d4b91e71",
   "metadata": {},
   "outputs": [
    {
     "name": "stdout",
     "output_type": "stream",
     "text": [
      "Uppercase character list of given string ['P', 'Y', 'T', 'H', 'O', 'N']\n"
     ]
    }
   ],
   "source": [
    "x='python'\n",
    "upper_case_list=[i.upper() for i in x]\n",
    "print(\"Uppercase character list of given string\",upper_case_list) "
   ]
  },
  {
   "cell_type": "markdown",
   "id": "b0723bac",
   "metadata": {},
   "source": [
    "Generate square list of a given tuple values."
   ]
  },
  {
   "cell_type": "code",
   "execution_count": 7,
   "id": "21865057",
   "metadata": {},
   "outputs": [
    {
     "name": "stdout",
     "output_type": "stream",
     "text": [
      "Square list of a given tuple values [144, 4489, 7921, 4096, 8100, 3844]\n"
     ]
    }
   ],
   "source": [
    "numbers=(12,67,89,64,90,62)\n",
    "square_list=[i*i for i in numbers]\n",
    "print(\"Square list of a given tuple values\",square_list)"
   ]
  },
  {
   "cell_type": "code",
   "execution_count": 8,
   "id": "56395d67",
   "metadata": {},
   "outputs": [
    {
     "data": {
      "text/plain": [
       "['SAHIL', 'NUTAN', 'SAKSHI', 'FARAZ']"
      ]
     },
     "execution_count": 8,
     "metadata": {},
     "output_type": "execute_result"
    }
   ],
   "source": [
    "#Generate uppercase names list\n",
    "names=('Sahil','Nutan','Sakshi','Faraz')\n",
    "[name.upper() for name in names]"
   ]
  },
  {
   "cell_type": "code",
   "execution_count": 9,
   "id": "d1abe89b",
   "metadata": {},
   "outputs": [
    {
     "data": {
      "text/plain": [
       "['lihaS', 'natuN', 'ihskaS', 'zaraF']"
      ]
     },
     "execution_count": 9,
     "metadata": {},
     "output_type": "execute_result"
    }
   ],
   "source": [
    "#Generate reverse string of a given tuple\n",
    "names=('Sahil','Nutan','Sakshi','Faraz')\n",
    "[name[::-1]  for name in names]"
   ]
  },
  {
   "cell_type": "code",
   "execution_count": 10,
   "id": "4b836d9f",
   "metadata": {},
   "outputs": [
    {
     "data": {
      "text/plain": [
       "['Sahil', 'Sakshi']"
      ]
     },
     "execution_count": 10,
     "metadata": {},
     "output_type": "execute_result"
    }
   ],
   "source": [
    "#To filter names those are containing a character 'i'\n",
    "names=('Sahil','Nutan','Sakshi','Faraz')\n",
    "[name  for name in names if 'i' in name ]"
   ]
  },
  {
   "cell_type": "code",
   "execution_count": 11,
   "id": "324bba77",
   "metadata": {},
   "outputs": [
    {
     "name": "stdout",
     "output_type": "stream",
     "text": [
      "7\n",
      "8\n",
      "4\n",
      "2\n"
     ]
    }
   ],
   "source": [
    "names=('Sahi7l','Nu8tan','Sak4shi','Far2az')\n",
    "#output=>[7,8,4,2]\n",
    "for name in names:\n",
    "    for i in name:\n",
    "        if(i.isdigit()):\n",
    "            print(i)"
   ]
  },
  {
   "cell_type": "code",
   "execution_count": 14,
   "id": "4f32e759",
   "metadata": {},
   "outputs": [
    {
     "data": {
      "text/plain": [
       "[7, 8, 4, 2]"
      ]
     },
     "execution_count": 14,
     "metadata": {},
     "output_type": "execute_result"
    }
   ],
   "source": [
    "names=('Sahi7l','Nu8tan','Sak4shi','Far2az')\n",
    "#output=>[7,8,4,2]\n",
    "[int(i) for name in names for i in name if i.isdigit()]"
   ]
  },
  {
   "cell_type": "code",
   "execution_count": 20,
   "id": "3a8502b4",
   "metadata": {},
   "outputs": [
    {
     "name": "stdout",
     "output_type": "stream",
     "text": [
      "[[1, 1, 1], [1, 1, 2], [1, 1, 3], [1, 2, 1], [1, 2, 2], [1, 2, 3], [1, 3, 1], [1, 3, 2], [1, 3, 3], [2, 1, 1], [2, 1, 2], [2, 1, 3], [2, 2, 1], [2, 2, 2], [2, 2, 3], [2, 3, 1], [2, 3, 2], [2, 3, 3], [3, 1, 1], [3, 1, 2], [3, 1, 3], [3, 2, 1], [3, 2, 2], [3, 2, 3], [3, 3, 1], [3, 3, 2], [3, 3, 3]]\n"
     ]
    }
   ],
   "source": [
    "numbers_combination=[[i,j,k]for i in range(1,4) for j in range(1,4) for k in range(1,4)]\n",
    "print(numbers_combination)"
   ]
  },
  {
   "cell_type": "code",
   "execution_count": 22,
   "id": "a74200ca",
   "metadata": {},
   "outputs": [
    {
     "data": {
      "text/plain": [
       "['mango']"
      ]
     },
     "execution_count": 22,
     "metadata": {},
     "output_type": "execute_result"
    }
   ],
   "source": [
    "fruits=('apple','banana','pineapple','graphes','watermelon')\n",
    "# apple replace with mango\n",
    "[i.replace('apple','mango') for i in fruits if i=='apple']"
   ]
  },
  {
   "cell_type": "code",
   "execution_count": 23,
   "id": "dc9a004b",
   "metadata": {},
   "outputs": [
    {
     "data": {
      "text/plain": [
       "['mango', 'banana', 'pineapple', 'graphes', 'watermelon']"
      ]
     },
     "execution_count": 23,
     "metadata": {},
     "output_type": "execute_result"
    }
   ],
   "source": [
    "fruits=('apple','banana','pineapple','graphes','watermelon')\n",
    "[ 'mango' if i=='apple' else i for i in fruits]"
   ]
  },
  {
   "cell_type": "code",
   "execution_count": 25,
   "id": "69c4a133",
   "metadata": {},
   "outputs": [
    {
     "name": "stdout",
     "output_type": "stream",
     "text": [
      "['mango', 'banana', 'pineapple', 'graphes', 'watermelon']\n"
     ]
    }
   ],
   "source": [
    "fruits=('apple','banana','pineapple','graphes','watermelon')\n",
    "new_fruit=[]\n",
    "for i in fruits:\n",
    "    if i=='apple':\n",
    "        new_fruit.append('mango')\n",
    "    else:\n",
    "        new_fruit.append(i)\n",
    "print(new_fruit)        "
   ]
  },
  {
   "cell_type": "code",
   "execution_count": null,
   "id": "739c05f1",
   "metadata": {},
   "outputs": [],
   "source": []
  }
 ],
 "metadata": {
  "kernelspec": {
   "display_name": "Python 3 (ipykernel)",
   "language": "python",
   "name": "python3"
  },
  "language_info": {
   "codemirror_mode": {
    "name": "ipython",
    "version": 3
   },
   "file_extension": ".py",
   "mimetype": "text/x-python",
   "name": "python",
   "nbconvert_exporter": "python",
   "pygments_lexer": "ipython3",
   "version": "3.11.5"
  }
 },
 "nbformat": 4,
 "nbformat_minor": 5
}
