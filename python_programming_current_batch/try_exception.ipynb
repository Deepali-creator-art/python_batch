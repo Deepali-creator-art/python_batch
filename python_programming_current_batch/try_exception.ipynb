{
 "cells": [
  {
   "cell_type": "code",
   "execution_count": 1,
   "id": "a25e0763",
   "metadata": {},
   "outputs": [
    {
     "ename": "ZeroDivisionError",
     "evalue": "division by zero",
     "output_type": "error",
     "traceback": [
      "\u001b[1;31m---------------------------------------------------------------------------\u001b[0m",
      "\u001b[1;31mZeroDivisionError\u001b[0m                         Traceback (most recent call last)",
      "Cell \u001b[1;32mIn[1], line 3\u001b[0m\n\u001b[0;32m      1\u001b[0m a\u001b[38;5;241m=\u001b[39m\u001b[38;5;241m10\u001b[39m\n\u001b[0;32m      2\u001b[0m b\u001b[38;5;241m=\u001b[39m\u001b[38;5;241m0\u001b[39m\n\u001b[1;32m----> 3\u001b[0m \u001b[38;5;28mprint\u001b[39m(a\u001b[38;5;241m/\u001b[39mb)\n\u001b[0;32m      4\u001b[0m \u001b[38;5;28mprint\u001b[39m(\u001b[38;5;124m\"\u001b[39m\u001b[38;5;124mBye\u001b[39m\u001b[38;5;124m\"\u001b[39m)\n",
      "\u001b[1;31mZeroDivisionError\u001b[0m: division by zero"
     ]
    }
   ],
   "source": [
    "a=10\n",
    "b=0\n",
    "print(a/b)\n",
    "print(\"Bye\")"
   ]
  },
  {
   "cell_type": "code",
   "execution_count": 3,
   "id": "f4ef62b0",
   "metadata": {},
   "outputs": [
    {
     "name": "stdout",
     "output_type": "stream",
     "text": [
      "Please take a non-zero value\n",
      "Bye\n"
     ]
    }
   ],
   "source": [
    "try:\n",
    "    a=10\n",
    "    b=0\n",
    "    print(a/b)\n",
    "except:\n",
    "    print(\"Please take a non-zero value\")\n",
    "print(\"Bye\")"
   ]
  },
  {
   "cell_type": "code",
   "execution_count": 4,
   "id": "8658f2f9",
   "metadata": {},
   "outputs": [
    {
     "name": "stdout",
     "output_type": "stream",
     "text": [
      "division by zero\n",
      "Bye\n"
     ]
    }
   ],
   "source": [
    "try:\n",
    "    a=10\n",
    "    b=0\n",
    "    print(a/b)\n",
    "except ZeroDivisionError as ze:\n",
    "    print(ze)\n",
    "print(\"Bye\")"
   ]
  },
  {
   "cell_type": "code",
   "execution_count": 8,
   "id": "1766b961",
   "metadata": {},
   "outputs": [
    {
     "name": "stdout",
     "output_type": "stream",
     "text": [
      "[Errno 2] No such file or directory: 'f2.txt'\n"
     ]
    }
   ],
   "source": [
    "try:\n",
    "    f1=open('f2.txt','r')\n",
    "    print(f1.read())\n",
    "except FileNotFoundError as fe:\n",
    "    print(fe)"
   ]
  },
  {
   "cell_type": "code",
   "execution_count": 9,
   "id": "14de6c72",
   "metadata": {},
   "outputs": [
    {
     "name": "stdout",
     "output_type": "stream",
     "text": [
      "File does not exist please enter a valid file name\n"
     ]
    }
   ],
   "source": [
    "try:\n",
    "    f1=open('f2.txt','r')\n",
    "    print(f1.read())\n",
    "except:\n",
    "    print(\"File does not exist please enter a valid file name\")"
   ]
  },
  {
   "cell_type": "code",
   "execution_count": 11,
   "id": "5a2b509d",
   "metadata": {},
   "outputs": [
    {
     "name": "stdout",
     "output_type": "stream",
     "text": [
      "Please enter valid index number\n"
     ]
    }
   ],
   "source": [
    "try:\n",
    "    names=['apple','banana','grapes','pineapple']\n",
    "    print(names[5])\n",
    "except:\n",
    "    print(\"Please enter valid index number\")"
   ]
  },
  {
   "cell_type": "code",
   "execution_count": 16,
   "id": "ebb11ebd",
   "metadata": {},
   "outputs": [
    {
     "name": "stdout",
     "output_type": "stream",
     "text": [
      "Please enter phone number 10 digits only\n",
      "Welcome\n"
     ]
    }
   ],
   "source": [
    "phone_number='12342537'\n",
    "if(len(phone_number)==10):\n",
    "   print(\"It is user valid phone number\")\n",
    "else:\n",
    "   print(\"Please enter phone number 10 digits only\")\n",
    "print(\"Welcome\")"
   ]
  },
  {
   "cell_type": "code",
   "execution_count": 25,
   "id": "3f3a60fa",
   "metadata": {},
   "outputs": [
    {
     "name": "stdout",
     "output_type": "stream",
     "text": [
      "Please enter phone number 10 digits only\n",
      "Welcome\n"
     ]
    }
   ],
   "source": [
    "phone_number='12342537'\n",
    "try:\n",
    "    assert len(phone_number)==10\n",
    "    print(\"It is user valid phone number\")\n",
    "except:\n",
    "    print(\"Please enter phone number 10 digits only\")\n",
    "\n",
    "print(\"Welcome\")    "
   ]
  },
  {
   "cell_type": "code",
   "execution_count": 27,
   "id": "0edd4332",
   "metadata": {},
   "outputs": [
    {
     "name": "stdout",
     "output_type": "stream",
     "text": [
      "Enter the number50\n",
      "Result is 5.0\n",
      "Exception occurs division by zero\n",
      "Exception occurs unsupported operand type(s) for /: 'int' and 'str'\n",
      "Result is 20.0\n",
      "Result is 2.5\n"
     ]
    }
   ],
   "source": [
    "import sys\n",
    "numbers=[10,0,'a',2.5,20]\n",
    "x=int(input(\"Enter the number\"))\n",
    "for i in numbers:\n",
    "    try:\n",
    "        result=x/i\n",
    "        print(\"Result is\",result)\n",
    "    except:\n",
    "        print(\"Exception occurs\",sys.exc_info()[1])\n",
    "        "
   ]
  },
  {
   "cell_type": "code",
   "execution_count": 3,
   "id": "107502df",
   "metadata": {
    "scrolled": true
   },
   "outputs": [
    {
     "name": "stdout",
     "output_type": "stream",
     "text": [
      "Enter the number5\n",
      "You entered a large number\n",
      "We done\n",
      "Enter the number7\n",
      "You entered a large number\n",
      "We done\n",
      "Enter the number3\n",
      "You entered a small number\n",
      "We done\n",
      "Enter the number4\n",
      "We done\n",
      "Congrats !!! You guessed it correctly\n"
     ]
    }
   ],
   "source": [
    "#guess number\n",
    "import random\n",
    "sys_number=random.randint(1,10)\n",
    "#print(sys_number)\n",
    "#custom exceptions\n",
    "class numbers(Exception):\n",
    "    '''This exception for number guessing'''\n",
    "    pass\n",
    "class smallnumber(numbers):\n",
    "    '''This exception occurs when user entered a smaller value'''\n",
    "    pass\n",
    "class largenumber(numbers):\n",
    "    '''This exception occurs when user entered a large value'''\n",
    "    pass\n",
    "while True:\n",
    "    user_number=int(input(\"Enter the number\"))\n",
    "    try:\n",
    "        if(user_number<sys_number):\n",
    "            raise smallnumber\n",
    "        elif(user_number>sys_number):\n",
    "            raise largenumber\n",
    "        break\n",
    "    except smallnumber:\n",
    "        print(\"You entered a small number\")\n",
    "    except largenumber:\n",
    "        print(\"You entered a large number\")\n",
    "    finally:\n",
    "        print(\"We done\")\n",
    "print(\"Congrats !!! You guessed it correctly\")\n",
    "    "
   ]
  },
  {
   "cell_type": "code",
   "execution_count": null,
   "id": "0efb8fcd",
   "metadata": {},
   "outputs": [],
   "source": [
    "What is exception ?\n",
    "Difference between if_else and try_except clause?\n",
    "What is finally in exception handling?\n",
    "What are the types of errors in programming?"
   ]
  },
  {
   "cell_type": "code",
   "execution_count": null,
   "id": "5ff03f24",
   "metadata": {},
   "outputs": [],
   "source": []
  }
 ],
 "metadata": {
  "kernelspec": {
   "display_name": "Python 3 (ipykernel)",
   "language": "python",
   "name": "python3"
  },
  "language_info": {
   "codemirror_mode": {
    "name": "ipython",
    "version": 3
   },
   "file_extension": ".py",
   "mimetype": "text/x-python",
   "name": "python",
   "nbconvert_exporter": "python",
   "pygments_lexer": "ipython3",
   "version": "3.11.5"
  }
 },
 "nbformat": 4,
 "nbformat_minor": 5
}
