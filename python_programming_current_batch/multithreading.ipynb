{
 "cells": [
  {
   "cell_type": "markdown",
   "id": "b8bc379b",
   "metadata": {},
   "source": [
    "Multithreading :Executing a multiple tasks at a same time.Those tasks are independent from each other."
   ]
  },
  {
   "cell_type": "code",
   "execution_count": 1,
   "id": "ce19c828",
   "metadata": {},
   "outputs": [
    {
     "name": "stdout",
     "output_type": "stream",
     "text": [
      "This is my first function\n",
      "This is my first function\n",
      "This is my first function\n",
      "This is my first function\n",
      "This is my first function\n",
      "This is my second function\n",
      "This is my second function\n",
      "This is my second function\n",
      "This is my second function\n",
      "This is my second function\n"
     ]
    }
   ],
   "source": [
    "#sequential manner\n",
    "def fun1():\n",
    "    for i in range(1,6):\n",
    "        print(\"This is my first function\")\n",
    "def fun2():\n",
    "    for i in range(1,6):\n",
    "        print(\"This is my second function\")\n",
    "fun1() #function called fun1\n",
    "fun2() #function called fun2"
   ]
  },
  {
   "cell_type": "code",
   "execution_count": 18,
   "id": "a84a92dd",
   "metadata": {},
   "outputs": [
    {
     "name": "stdout",
     "output_type": "stream",
     "text": [
      "Current Thread number is MainThread\n",
      "Thread number is Thread-68\n",
      "This is my first function\n",
      "Thread number is Thread-69\n",
      "This is my first function\n",
      "Thread number is Thread-70\n",
      "This is my first function\n",
      "Thread number is Thread-71\n",
      "This is my first function\n",
      "Thread number is Thread-72\n",
      "This is my first function\n",
      "Current Thread number is MainThread\n"
     ]
    }
   ],
   "source": [
    "from threading import *   # * means all functions in a library\n",
    "print(\"Current Thread number is\",current_thread().name)\n",
    "def fun1():\n",
    "    for i in range(1,6):\n",
    "        print(\"Thread number is\",Thread().name)\n",
    "        print(\"This is my first function\")\n",
    "        \n",
    "#convert function into a thread\n",
    "t1=Thread(target=fun1)  #create a thread object t1\n",
    "t1.run() #executing your thread that is executed by operating system\n",
    "print(\"Current Thread number is\",current_thread().name)"
   ]
  },
  {
   "cell_type": "code",
   "execution_count": 34,
   "id": "865f64e4",
   "metadata": {},
   "outputs": [
    {
     "name": "stdout",
     "output_type": "stream",
     "text": [
      "Square of a number 1\n",
      "Square of a number 4\n",
      "Square of a number 9\n",
      "Square of a number 16\n",
      "Square of a number 25\n",
      "Total execution time is 5.004788637161255\n"
     ]
    }
   ],
   "source": [
    "#To find square of a numbers from 1 to 5 using user defined function\n",
    "import time\n",
    "def square(n):\n",
    "    for i in range(1,n+1):\n",
    "        time.sleep(1)\n",
    "        print(\"Square of a number\",i*i)\n",
    "start_time=time.time()\n",
    "square(5)\n",
    "stop_time=time.time()\n",
    "print(\"Total execution time is\",stop_time-start_time)"
   ]
  },
  {
   "cell_type": "code",
   "execution_count": 38,
   "id": "0d91bd1d",
   "metadata": {},
   "outputs": [
    {
     "name": "stdout",
     "output_type": "stream",
     "text": [
      "Square of a number 1\n",
      "Square of a number 4\n",
      "Square of a number 9\n",
      "Square of a number 16\n",
      "Square of a number 25\n",
      "Total execution time is 5.005015134811401\n"
     ]
    }
   ],
   "source": [
    "from threading import *\n",
    "import time\n",
    "def square(n):\n",
    "    for i in range(1,n+1):\n",
    "        time.sleep(1)\n",
    "        print(\"Square of a number\",i*i)\n",
    "#convert function into thread\n",
    "t1=Thread(target=square,args=(5,)) #create a thread object\n",
    "start_time=time.time()\n",
    "t1.run()\n",
    "stop_time=time.time()\n",
    "print(\"Total execution time is\",stop_time-start_time)"
   ]
  },
  {
   "cell_type": "code",
   "execution_count": 40,
   "id": "59a49eb5",
   "metadata": {},
   "outputs": [
    {
     "name": "stdout",
     "output_type": "stream",
     "text": [
      "Square of a number 1\n",
      "Square of a number 4\n",
      "Square of a number 9\n",
      "Square of a number 16\n",
      "Square of a number 25\n",
      "Cube of a number 1\n",
      "Cube of a number 8\n",
      "Cube of a number 27\n",
      "Cube of a number 64\n",
      "Cube of a number 125\n",
      "Total execution time is 10.008366107940674\n"
     ]
    }
   ],
   "source": [
    "#To find square of a numbers from 1 to 5 using user defined function\n",
    "import time\n",
    "def square(n):\n",
    "    for i in range(1,n+1):\n",
    "        time.sleep(1)\n",
    "        print(\"Square of a number\",i*i)\n",
    "#To find cube of a numbers from 1 to 5 using user defined function\n",
    "def cube(n):\n",
    "    for i in range(1,n+1):\n",
    "        time.sleep(1)\n",
    "        print(\"Cube of a number\",i*i*i)\n",
    "start_time=time.time()\n",
    "square(5) #function called \n",
    "cube(5)   #function called \n",
    "stop_time=time.time()\n",
    "print(\"Total execution time is\",stop_time-start_time)"
   ]
  },
  {
   "cell_type": "code",
   "execution_count": 45,
   "id": "628dee16",
   "metadata": {},
   "outputs": [
    {
     "name": "stdout",
     "output_type": "stream",
     "text": [
      "Cube of a number 1\n",
      "Square of a number 1\n",
      "Square of a number 4\n",
      "Cube of a number 8\n",
      "Square of a number 9\n",
      "Cube of a number 27\n",
      "Square of a number 16\n",
      "Cube of a number 64\n",
      "Square of a number 25\n",
      "Cube of a number 125\n",
      "Total execution time is 5.00752329826355\n"
     ]
    }
   ],
   "source": [
    "#To find square of a numbers from 1 to 5 using user defined function\n",
    "import time\n",
    "from threading import *\n",
    "def square(n):\n",
    "    for i in range(1,n+1):\n",
    "        time.sleep(1)\n",
    "        print(\"Square of a number\",i*i)\n",
    "#To find cube of a numbers from 1 to 5 using user defined function\n",
    "def cube(n):\n",
    "    for i in range(1,n+1):\n",
    "        time.sleep(1)\n",
    "        print(\"Cube of a number\",i*i*i)\n",
    "#convert functions into thread\n",
    "t1=Thread(target=square,args=(5,))\n",
    "t2=Thread(target=cube,args=(5,))\n",
    "start_time=time.time()\n",
    "t1.start()   #thread called \n",
    "t2.start()   #thread called \n",
    "t1.join()\n",
    "t2.join()\n",
    "stop_time=time.time()\n",
    "print(\"Total execution time is\",stop_time-start_time)"
   ]
  },
  {
   "cell_type": "code",
   "execution_count": 46,
   "id": "f6b02fd5",
   "metadata": {},
   "outputs": [
    {
     "name": "stdout",
     "output_type": "stream",
     "text": [
      "This is my class function\n"
     ]
    }
   ],
   "source": [
    "class A :\n",
    "    def display(self):\n",
    "        print(\"This is my class function\")\n",
    "a1=A()\n",
    "a1.display()"
   ]
  },
  {
   "cell_type": "code",
   "execution_count": 48,
   "id": "768a4747",
   "metadata": {},
   "outputs": [
    {
     "name": "stdout",
     "output_type": "stream",
     "text": [
      "This is my class function\n"
     ]
    }
   ],
   "source": [
    "from threading import *\n",
    "class A :\n",
    "    def display(self):\n",
    "        print(\"This is my class function\")\n",
    "a1=A() #class object\n",
    "t1=Thread(target=a1.display) #thread object\n",
    "t1.start()\n"
   ]
  },
  {
   "cell_type": "code",
   "execution_count": null,
   "id": "ed61e7c3",
   "metadata": {},
   "outputs": [],
   "source": []
  }
 ],
 "metadata": {
  "kernelspec": {
   "display_name": "Python 3 (ipykernel)",
   "language": "python",
   "name": "python3"
  },
  "language_info": {
   "codemirror_mode": {
    "name": "ipython",
    "version": 3
   },
   "file_extension": ".py",
   "mimetype": "text/x-python",
   "name": "python",
   "nbconvert_exporter": "python",
   "pygments_lexer": "ipython3",
   "version": "3.11.5"
  }
 },
 "nbformat": 4,
 "nbformat_minor": 5
}
