{
 "cells": [
  {
   "cell_type": "code",
   "execution_count": 4,
   "id": "b6a3aba3",
   "metadata": {},
   "outputs": [
    {
     "name": "stdout",
     "output_type": "stream",
     "text": [
      "Happy New Year 2025\n",
      "Happy New Year 2025\n",
      "Happy New Year 2025\n"
     ]
    }
   ],
   "source": [
    "#function definition\n",
    "def show():\n",
    "    print(\"Happy New Year 2025\")\n",
    "#function call\n",
    "show()\n",
    "show()\n",
    "show()"
   ]
  },
  {
   "cell_type": "markdown",
   "id": "bacf8b20",
   "metadata": {},
   "source": [
    "Perform addition of two numbers using user defined function."
   ]
  },
  {
   "cell_type": "code",
   "execution_count": 6,
   "id": "a899322e",
   "metadata": {},
   "outputs": [
    {
     "name": "stdout",
     "output_type": "stream",
     "text": [
      "Addition of a=100 and b=200 is 300\n",
      "Addition of a=100 and b=200 is 300\n"
     ]
    }
   ],
   "source": [
    "#function definition without argument/parameter\n",
    "def addition():\n",
    "    a=100\n",
    "    b=200\n",
    "    print(f\"Addition of a={a} and b={b} is {a+b}\")\n",
    "#function call\n",
    "addition()\n",
    "addition()"
   ]
  },
  {
   "cell_type": "code",
   "execution_count": 8,
   "id": "2ee09795",
   "metadata": {},
   "outputs": [
    {
     "name": "stdout",
     "output_type": "stream",
     "text": [
      "Enter the value of a56\n",
      "Enter the value of b78\n",
      "Addition of a=56 and b=78 is 134\n",
      "Addition of a= 56 and b= 78 is 134\n",
      "Enter the value of a23\n",
      "Enter the value of b45\n",
      "Addition of a=23 and b=45 is 68\n",
      "Addition of a= 23 and b= 45 is 68\n"
     ]
    }
   ],
   "source": [
    "#function definition without argument/parameter\n",
    "def addition():\n",
    "    a=int(input(\"Enter the value of a\"))\n",
    "    b=int(input(\"Enter the value of b\"))\n",
    "    print(f\"Addition of a={a} and b={b} is {a+b}\")\n",
    "    print(\"Addition of a=\",a,\"and b=\",b,\"is\",a+b)\n",
    "#function call\n",
    "addition()\n",
    "addition()"
   ]
  },
  {
   "cell_type": "code",
   "execution_count": 9,
   "id": "0c70c99f",
   "metadata": {},
   "outputs": [
    {
     "name": "stdout",
     "output_type": "stream",
     "text": [
      "Addition of a=12 and b=23 is 35\n"
     ]
    }
   ],
   "source": [
    "#function with parameter\n",
    "#Perform addition of two numbers using user defined function.\n",
    "def addition(a,b):\n",
    "    print(f\"Addition of a={a} and b={b} is {a+b}\")\n",
    "addition(12,23) #function called"
   ]
  },
  {
   "cell_type": "code",
   "execution_count": 15,
   "id": "3d0ebd7b",
   "metadata": {},
   "outputs": [
    {
     "name": "stdout",
     "output_type": "stream",
     "text": [
      "Name of person is Pooja Yadav\n",
      "Enter the firstnamedeepali\n",
      "Enter the lastnameshinkar\n",
      "Name of person is deepali shinkar\n"
     ]
    }
   ],
   "source": [
    "#To display person full name using user defined function.\n",
    "def full_name(firstname,lastname):\n",
    "    print(f\"Name of person is {firstname} {lastname}\")\n",
    "full_name('Pooja','Yadav') #function called\n",
    "fn=input(\"Enter the firstname\")\n",
    "ln=input(\"Enter the lastname\")\n",
    "#function called\n",
    "full_name(fn,ln)\n"
   ]
  },
  {
   "cell_type": "code",
   "execution_count": 18,
   "id": "5e92a920",
   "metadata": {},
   "outputs": [
    {
     "name": "stdout",
     "output_type": "stream",
     "text": [
      "How many persons do you want to enter2\n",
      "Enter the firstnamedeeplai\n",
      "Enter the lastnameshinkar\n",
      "Name of person is deeplai shinkar\n",
      "Enter the firstnamesakshi\n",
      "Enter the lastnamedhote\n",
      "Name of person is sakshi dhote\n"
     ]
    }
   ],
   "source": [
    "#To display person full name using user defined function.\n",
    "def full_name(firstname,lastname):\n",
    "    print(f\"Name of person is {firstname} {lastname}\")\n",
    "n=int(input(\"How many persons do you want to enter\"))\n",
    "for i in range(1,n+1):\n",
    "    fn=input(\"Enter the firstname\")\n",
    "    ln=input(\"Enter the lastname\")\n",
    "    #function called\n",
    "    full_name(fn,ln)"
   ]
  },
  {
   "cell_type": "code",
   "execution_count": 21,
   "id": "1be27514",
   "metadata": {},
   "outputs": [
    {
     "name": "stdout",
     "output_type": "stream",
     "text": [
      "Value of x is 10\n",
      "Value of x is 45\n"
     ]
    }
   ],
   "source": [
    "#default parameter/argument\n",
    "def display(x=10):\n",
    "    print(f\"Value of x is {x}\")\n",
    "display() #function called without parameter\n",
    "display(45) #function called with parameter"
   ]
  },
  {
   "cell_type": "code",
   "execution_count": 23,
   "id": "5b722543",
   "metadata": {},
   "outputs": [
    {
     "name": "stdout",
     "output_type": "stream",
     "text": [
      "Phone is ringing\n",
      "Phone is ringing\n"
     ]
    }
   ],
   "source": [
    "def phone_call(sim1=1234567890):\n",
    "    print(\"Phone is ringing\")\n",
    "phone_call()\n",
    "sim2=9876543210\n",
    "phone_call(sim2)"
   ]
  },
  {
   "cell_type": "code",
   "execution_count": 4,
   "id": "49d48661",
   "metadata": {},
   "outputs": [
    {
     "name": "stdout",
     "output_type": "stream",
     "text": [
      "P=Mahendra,Q=Raj,R=Amol\n"
     ]
    }
   ],
   "source": [
    "\n",
    "def show(q,p,r):\n",
    "    print(f\"P={p},Q={q},R={r}\")\n",
    "show(p='Mahendra',q='Raj',r='Amol') #function call"
   ]
  },
  {
   "cell_type": "code",
   "execution_count": 6,
   "id": "447ae43a",
   "metadata": {},
   "outputs": [
    {
     "name": "stdout",
     "output_type": "stream",
     "text": [
      "{'p': 'Mahendra', 'q': 'Raj', 'r': 'Amol'}\n"
     ]
    }
   ],
   "source": [
    "#how to collect multiple keyword arguments values in single variable.\n",
    "#use two ** before variable name\n",
    "def show(**name):\n",
    "    print(name)\n",
    "show(p='Mahendra',q='Raj',r='Amol') #function call"
   ]
  },
  {
   "cell_type": "code",
   "execution_count": 9,
   "id": "29739639",
   "metadata": {},
   "outputs": [
    {
     "name": "stdout",
     "output_type": "stream",
     "text": [
      "100\n",
      "144\n",
      "1156\n",
      "2500\n",
      "784\n",
      "961\n",
      "1\n",
      "4\n",
      "9\n",
      "16\n",
      "25\n",
      "36\n",
      "49\n",
      "64\n"
     ]
    }
   ],
   "source": [
    "#To write a function program to display the square of numbers of given tuple.\n",
    "def square_numbers(numbers):\n",
    "    for i in numbers:\n",
    "        print(i*i)\n",
    "numbers=(10,12,34,50,28,31)\n",
    "square_numbers(numbers) #function called\n",
    "x=[1,2,3,4,5,6,7,8]\n",
    "square_numbers(x) #function called\n"
   ]
  },
  {
   "cell_type": "code",
   "execution_count": null,
   "id": "402a6e8e",
   "metadata": {},
   "outputs": [],
   "source": []
  }
 ],
 "metadata": {
  "kernelspec": {
   "display_name": "Python 3 (ipykernel)",
   "language": "python",
   "name": "python3"
  },
  "language_info": {
   "codemirror_mode": {
    "name": "ipython",
    "version": 3
   },
   "file_extension": ".py",
   "mimetype": "text/x-python",
   "name": "python",
   "nbconvert_exporter": "python",
   "pygments_lexer": "ipython3",
   "version": "3.11.5"
  }
 },
 "nbformat": 4,
 "nbformat_minor": 5
}
